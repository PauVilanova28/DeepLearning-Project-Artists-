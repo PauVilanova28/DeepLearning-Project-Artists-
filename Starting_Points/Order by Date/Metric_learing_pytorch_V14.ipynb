{
  "cells": [
    {
      "cell_type": "code",
      "execution_count": 1,
      "metadata": {
        "colab": {
          "base_uri": "https://localhost:8080/"
        },
        "id": "IrfEDWBK0nyD",
        "outputId": "ad0dabef-91cc-4cd0-b5c7-2d513d596310"
      },
      "outputs": [
        {
          "name": "stdout",
          "output_type": "stream",
          "text": [
            "Drive already mounted at /content/drive; to attempt to forcibly remount, call drive.mount(\"/content/drive\", force_remount=True).\n"
          ]
        }
      ],
      "source": [
        "from google.colab import drive\n",
        "drive.mount('/content/drive')"
      ]
    },
    {
      "cell_type": "code",
      "execution_count": 1,
      "metadata": {
        "colab": {
          "base_uri": "https://localhost:8080/"
        },
        "id": "O0gKUzSdSQFM",
        "outputId": "60146b7d-26bd-4751-9143-f5683be8cb50"
      },
      "outputs": [
        {
          "name": "stdout",
          "output_type": "stream",
          "text": [
            "Requirement already satisfied: pytorch-metric-learning in /anaconda/envs/azureml_py38/lib/python3.8/site-packages (2.5.0)\n",
            "Requirement already satisfied: scikit-learn in /anaconda/envs/azureml_py38/lib/python3.8/site-packages (from pytorch-metric-learning) (0.22.1)\n",
            "Requirement already satisfied: torch>=1.6.0 in /anaconda/envs/azureml_py38/lib/python3.8/site-packages (from pytorch-metric-learning) (1.9.0)\n",
            "Requirement already satisfied: tqdm in /anaconda/envs/azureml_py38/lib/python3.8/site-packages (from pytorch-metric-learning) (4.63.1)\n",
            "Requirement already satisfied: numpy in /anaconda/envs/azureml_py38/lib/python3.8/site-packages (from pytorch-metric-learning) (1.22.3)\n",
            "Requirement already satisfied: joblib>=0.11 in /anaconda/envs/azureml_py38/lib/python3.8/site-packages (from scikit-learn->pytorch-metric-learning) (0.14.1)\n",
            "Requirement already satisfied: scipy>=0.17.0 in /anaconda/envs/azureml_py38/lib/python3.8/site-packages (from scikit-learn->pytorch-metric-learning) (1.5.3)\n",
            "Requirement already satisfied: typing-extensions in /anaconda/envs/azureml_py38/lib/python3.8/site-packages (from torch>=1.6.0->pytorch-metric-learning) (4.5.0)\n"
          ]
        }
      ],
      "source": [
        "!pip install pytorch-metric-learning"
      ]
    },
    {
      "cell_type": "code",
      "execution_count": 2,
      "metadata": {
        "colab": {
          "base_uri": "https://localhost:8080/"
        },
        "id": "TyW8iYzp2SO8",
        "outputId": "42a9bfdb-803f-4617-99e8-5db326e8d4e7"
      },
      "outputs": [
        {
          "name": "stdout",
          "output_type": "stream",
          "text": [
            "             artist  date new_filename\n",
            "0  Vincent van Gogh  1887    75309.jpg\n",
            "1  Vincent van Gogh  1886    21520.jpg\n",
            "2  Vincent van Gogh  1890    61388.jpg\n",
            "3  Vincent van Gogh  1890    87903.jpg\n",
            "4  Vincent van Gogh  1889    26488.jpg\n",
            "Number of classes: 13\n"
          ]
        }
      ],
      "source": [
        "import pandas as pd\n",
        "import os\n",
        "import cv2\n",
        "import torch\n",
        "import torch.nn as nn\n",
        "import torch.nn.functional as F\n",
        "import torch.optim as optim\n",
        "from torchvision import transforms\n",
        "from torch.utils.data import Dataset, DataLoader\n",
        "from pytorch_metric_learning import distances, losses, miners, reducers, testers\n",
        "from pytorch_metric_learning.utils.accuracy_calculator import AccuracyCalculator\n",
        "\n",
        "folder = 'IMAGES_OF_Vincent van Gogh'\n",
        "all_pictures = os.listdir(folder)\n",
        "\n",
        "file_path = \"IMAGES_OF_Vincent van Gogh.csv\"\n",
        "df = pd.read_csv(file_path)\n",
        "\n",
        "# Reemplazar el prefijo \"c.\" con nada en la columna 'date'\n",
        "\"\"\"\n",
        "df['date'] = df['date'].str.replace(r'c\\.', '', regex=True)\n",
        "\n",
        "df['date'] = df['date'].str.replace(r'\\.0$', '', regex=True)\n",
        "\n",
        "df['date'] = df['date'].str.extract(r'(\\d+)', expand=False)\n",
        "\n",
        "df['date'] = df['date'].astype(int)\n",
        "\"\"\"\n",
        "print(df.head())\n",
        "\n",
        "NUM_CLASSES = len(df['date'].unique().tolist())\n",
        "\n",
        "print(\"Number of classes:\", NUM_CLASSES)"
      ]
    },
    {
      "cell_type": "code",
      "execution_count": 3,
      "metadata": {
        "id": "rjqeDaDUSOwY"
      },
      "outputs": [],
      "source": [
        "import os\n",
        "import shutil\n",
        "import random\n",
        "import pandas as pd\n"
      ]
    },
    {
      "cell_type": "code",
      "execution_count": 4,
      "metadata": {
        "id": "VDdlPgkCUdkU"
      },
      "outputs": [],
      "source": [
        "from PIL import Image\n",
        "Image.MAX_IMAGE_PIXELS = None"
      ]
    },
    {
      "cell_type": "code",
      "execution_count": 5,
      "metadata": {
        "colab": {
          "base_uri": "https://localhost:8080/"
        },
        "id": "9LjftRfrGal7",
        "outputId": "f004018c-de94-46b6-f795-e7c4296541d4"
      },
      "outputs": [
        {
          "name": "stdout",
          "output_type": "stream",
          "text": [
            "TRAIN and TEST folders already exist. Reading train and test DataFrames from CSV files...\n",
            "Train DataFrame: (383, 2)\n",
            "Test DataFrame: (103, 2)\n"
          ]
        }
      ],
      "source": [
        "# GROUP THE FILES BY EACH date\n",
        "import random\n",
        "def group_files_per_date():\n",
        "  data_per_date = {}\n",
        "\n",
        "  # Iterate over each row of the DataFrame\n",
        "  for index, row in df.iterrows():\n",
        "      date = row['date']\n",
        "      new_filename = row['new_filename']\n",
        "\n",
        "      # Check if the date is already in the dictionary\n",
        "      if date in data_per_date:\n",
        "          # Add the new_filename to the existing list of the date\n",
        "          data_per_date[date].append(new_filename)\n",
        "      else:\n",
        "          # Create a new list for the date and add the new_filename\n",
        "          data_per_date[date] = [new_filename]\n",
        "\n",
        "  return data_per_date\n",
        "\n",
        "# SPLIT THE FILES INTO TRAIN AND TEST SETS (CREATE NEW DATASETS)\n",
        "def split_test_train(data_per_date, train_percentage = 0.8):\n",
        "\n",
        "  TRAIN_names = []\n",
        "  TEST_names = []\n",
        "\n",
        "  # Iterate over each date and their 'new_filename'\n",
        "  for date, filenames in data_per_date.items():\n",
        "      # Calculate the number of files for training and testing\n",
        "      total_files = len(filenames)\n",
        "      num_train = int(train_percentage * total_files)\n",
        "\n",
        "      # Shuffle the filenames to avoid selection biases\n",
        "      random.shuffle(filenames)\n",
        "\n",
        "      # Divide the filenames into train and test\n",
        "      train_filenames = filenames[:num_train]\n",
        "      test_filenames = filenames[num_train:]\n",
        "\n",
        "      # Store the divided filenames into train and test\n",
        "      TRAIN_names.extend(train_filenames)\n",
        "      TEST_names.extend(test_filenames)\n",
        "  return TRAIN_names, TEST_names\n",
        "\n",
        "\n",
        "\n",
        "# CREATE TEST and TRAIN folders\n",
        "def create_train_test_folders(folder, TRAIN_names, TEST_names):\n",
        "    # Output folder for TRAIN and TEST\n",
        "    train_folder = os.path.join(folder, 'TRAIN')\n",
        "    test_folder = os.path.join(folder, 'TEST')\n",
        "\n",
        "    # Create TRAIN and TEST folders if they don't exist\n",
        "    os.makedirs(train_folder, exist_ok=True)\n",
        "    os.makedirs(test_folder, exist_ok=True)\n",
        "\n",
        "    # Move images from TRAIN to TRAIN folder\n",
        "    for filename in TRAIN_names:\n",
        "        src = os.path.join(folder, filename)\n",
        "        dst = os.path.join(train_folder, filename)\n",
        "        shutil.move(src, dst)\n",
        "\n",
        "    # Move images from TEST to TEST folder\n",
        "    for filename in TEST_names:\n",
        "        src = os.path.join(folder, filename)\n",
        "        dst = os.path.join(test_folder, filename)\n",
        "        shutil.move(src, dst)\n",
        "\n",
        "    # Create df_train with rows whose 'new_filename' is in TRAIN_names and keep only 'date' and 'new_filename' columns\n",
        "    train_dataframe = df[df['new_filename'].isin(TRAIN_names)][['date', 'new_filename']]\n",
        "    # File path for the CSV file\n",
        "    file_path = os.path.join(folder, 'train_dataframe.csv')\n",
        "    # Save the DataFrame as CSV\n",
        "    train_dataframe.to_csv(file_path, index=False)\n",
        "\n",
        "    # Create df_test with rows whose 'new_filename' is in TEST_names and keep only 'date' and 'new_filename' columns\n",
        "    test_dataframe = df[df['new_filename'].isin(TEST_names)][['date', 'new_filename']]\n",
        "    # File path for the CSV file\n",
        "    file_path = os.path.join(folder, 'test_dataframe.csv')\n",
        "    # Save the DataFrame as CSV\n",
        "    test_dataframe.to_csv(file_path, index=False)\n",
        "\n",
        "    return train_dataframe, test_dataframe\n",
        "\n",
        "if not (os.path.exists(os.path.join(folder, 'TRAIN')) and os.path.exists(os.path.join(folder, 'TEST')) and os.path.exists(os.path.join(folder, 'train_dataframe.csv'))):\n",
        "  # Group files per date\n",
        "  data_per_date = group_files_per_date()\n",
        "  # Print the number of files for each date\n",
        "  print(\"- date and numer of images:\")\n",
        "  for key in data_per_date.keys():\n",
        "    print(key, len(data_per_date[key]))\n",
        "\n",
        "  # Split data\n",
        "  TRAIN_names, TEST_names = split_test_train(data_per_date)\n",
        "\n",
        "  # Use the function to create TRAIN and TEST folders\n",
        "  train_dataframe, test_dataframe = create_train_test_folders(folder, TRAIN_names, TEST_names)\n",
        "  print(\"\\nImages successfully moved to TRAIN and TEST folders.\")\n",
        "else:\n",
        "  print(\"TRAIN and TEST folders already exist. Reading train and test DataFrames from CSV files...\")\n",
        "\n",
        "  # Read train and test DataFrames from CSV files\n",
        "  train_folder = os.path.join(folder, 'TRAIN')\n",
        "  test_folder = os.path.join(folder, 'TEST')\n",
        "\n",
        "  train_images = set(os.listdir(train_folder))\n",
        "  test_images = set(os.listdir(test_folder))\n",
        "\n",
        "  train_dataframe = df[df['new_filename'].isin(train_images)].copy()\n",
        "  test_dataframe = df[df['new_filename'].isin(test_images)].copy()\n",
        "\n",
        "  train_dataframe = train_dataframe[['new_filename', 'date']]\n",
        "  test_dataframe = test_dataframe[['new_filename', 'date']]\n",
        "'''\n",
        "  train_dataframe['date'] = train_dataframe['date'].str.replace(r'c\\.', '', regex=True)\n",
        "\n",
        "  train_dataframe['date'] = train_dataframe['date'].str.replace(r'\\.0$', '', regex=True)\n",
        "\n",
        "  train_dataframe['date'] = train_dataframe['date'].str.extract(r'(\\d+)', expand=False)\n",
        "\n",
        "  train_dataframe['date'] = train_dataframe['date'].astype(int)\n",
        "\n",
        "  test_dataframe['date'] = test_dataframe['date'].str.replace(r'c\\.', '', regex=True)\n",
        "\n",
        "  test_dataframe['date'] = test_dataframe['date'].str.replace(r'\\.0$', '', regex=True)\n",
        "\n",
        "  test_dataframe['date'] = test_dataframe['date'].str.extract(r'(\\d+)', expand=False)\n",
        "\n",
        "  test_dataframe['date'] = test_dataframe['date'].astype(int)\n",
        "'''\n",
        "\n",
        "print(\"Train DataFrame:\", train_dataframe.shape)\n",
        "print(\"Test DataFrame:\", test_dataframe.shape)\n"
      ]
    },
    {
      "cell_type": "code",
      "execution_count": 6,
      "metadata": {
        "colab": {
          "base_uri": "https://localhost:8080/",
          "height": 394
        },
        "id": "Q_USsTOIqxkv",
        "outputId": "20a7fc80-9bdf-4995-a743-2b15ae841bd0"
      },
      "outputs": [
        {
          "data": {
            "text/html": [
              "<div>\n",
              "<style scoped>\n",
              "    .dataframe tbody tr th:only-of-type {\n",
              "        vertical-align: middle;\n",
              "    }\n",
              "\n",
              "    .dataframe tbody tr th {\n",
              "        vertical-align: top;\n",
              "    }\n",
              "\n",
              "    .dataframe thead th {\n",
              "        text-align: right;\n",
              "    }\n",
              "</style>\n",
              "<table border=\"1\" class=\"dataframe\">\n",
              "  <thead>\n",
              "    <tr style=\"text-align: right;\">\n",
              "      <th></th>\n",
              "      <th>date</th>\n",
              "      <th>count</th>\n",
              "    </tr>\n",
              "  </thead>\n",
              "  <tbody>\n",
              "    <tr>\n",
              "      <th>0</th>\n",
              "      <td>1879</td>\n",
              "      <td>2</td>\n",
              "    </tr>\n",
              "    <tr>\n",
              "      <th>1</th>\n",
              "      <td>1881</td>\n",
              "      <td>6</td>\n",
              "    </tr>\n",
              "    <tr>\n",
              "      <th>2</th>\n",
              "      <td>1882</td>\n",
              "      <td>27</td>\n",
              "    </tr>\n",
              "    <tr>\n",
              "      <th>3</th>\n",
              "      <td>1883</td>\n",
              "      <td>21</td>\n",
              "    </tr>\n",
              "    <tr>\n",
              "      <th>4</th>\n",
              "      <td>1884</td>\n",
              "      <td>16</td>\n",
              "    </tr>\n",
              "    <tr>\n",
              "      <th>5</th>\n",
              "      <td>1885</td>\n",
              "      <td>59</td>\n",
              "    </tr>\n",
              "    <tr>\n",
              "      <th>6</th>\n",
              "      <td>1886</td>\n",
              "      <td>48</td>\n",
              "    </tr>\n",
              "    <tr>\n",
              "      <th>7</th>\n",
              "      <td>1887</td>\n",
              "      <td>64</td>\n",
              "    </tr>\n",
              "    <tr>\n",
              "      <th>8</th>\n",
              "      <td>1888</td>\n",
              "      <td>61</td>\n",
              "    </tr>\n",
              "    <tr>\n",
              "      <th>9</th>\n",
              "      <td>1889</td>\n",
              "      <td>41</td>\n",
              "    </tr>\n",
              "    <tr>\n",
              "      <th>10</th>\n",
              "      <td>1890</td>\n",
              "      <td>38</td>\n",
              "    </tr>\n",
              "  </tbody>\n",
              "</table>\n",
              "</div>"
            ],
            "text/plain": [
              "    date  count\n",
              "0   1879      2\n",
              "1   1881      6\n",
              "2   1882     27\n",
              "3   1883     21\n",
              "4   1884     16\n",
              "5   1885     59\n",
              "6   1886     48\n",
              "7   1887     64\n",
              "8   1888     61\n",
              "9   1889     41\n",
              "10  1890     38"
            ]
          },
          "execution_count": 6,
          "metadata": {},
          "output_type": "execute_result"
        }
      ],
      "source": [
        "train_dataframe.groupby('date').size().reset_index(name='count')"
      ]
    },
    {
      "cell_type": "code",
      "execution_count": 7,
      "metadata": {
        "colab": {
          "base_uri": "https://localhost:8080/",
          "height": 457
        },
        "id": "-ygZCi9MNjAx",
        "outputId": "d2a8461d-73e3-4625-ba63-84e8f27753e8"
      },
      "outputs": [
        {
          "data": {
            "text/html": [
              "<div>\n",
              "<style scoped>\n",
              "    .dataframe tbody tr th:only-of-type {\n",
              "        vertical-align: middle;\n",
              "    }\n",
              "\n",
              "    .dataframe tbody tr th {\n",
              "        vertical-align: top;\n",
              "    }\n",
              "\n",
              "    .dataframe thead th {\n",
              "        text-align: right;\n",
              "    }\n",
              "</style>\n",
              "<table border=\"1\" class=\"dataframe\">\n",
              "  <thead>\n",
              "    <tr style=\"text-align: right;\">\n",
              "      <th></th>\n",
              "      <th>date</th>\n",
              "      <th>count</th>\n",
              "    </tr>\n",
              "  </thead>\n",
              "  <tbody>\n",
              "    <tr>\n",
              "      <th>0</th>\n",
              "      <td>1873</td>\n",
              "      <td>1</td>\n",
              "    </tr>\n",
              "    <tr>\n",
              "      <th>1</th>\n",
              "      <td>1878</td>\n",
              "      <td>1</td>\n",
              "    </tr>\n",
              "    <tr>\n",
              "      <th>2</th>\n",
              "      <td>1879</td>\n",
              "      <td>1</td>\n",
              "    </tr>\n",
              "    <tr>\n",
              "      <th>3</th>\n",
              "      <td>1881</td>\n",
              "      <td>2</td>\n",
              "    </tr>\n",
              "    <tr>\n",
              "      <th>4</th>\n",
              "      <td>1882</td>\n",
              "      <td>7</td>\n",
              "    </tr>\n",
              "    <tr>\n",
              "      <th>5</th>\n",
              "      <td>1883</td>\n",
              "      <td>6</td>\n",
              "    </tr>\n",
              "    <tr>\n",
              "      <th>6</th>\n",
              "      <td>1884</td>\n",
              "      <td>4</td>\n",
              "    </tr>\n",
              "    <tr>\n",
              "      <th>7</th>\n",
              "      <td>1885</td>\n",
              "      <td>15</td>\n",
              "    </tr>\n",
              "    <tr>\n",
              "      <th>8</th>\n",
              "      <td>1886</td>\n",
              "      <td>13</td>\n",
              "    </tr>\n",
              "    <tr>\n",
              "      <th>9</th>\n",
              "      <td>1887</td>\n",
              "      <td>16</td>\n",
              "    </tr>\n",
              "    <tr>\n",
              "      <th>10</th>\n",
              "      <td>1888</td>\n",
              "      <td>16</td>\n",
              "    </tr>\n",
              "    <tr>\n",
              "      <th>11</th>\n",
              "      <td>1889</td>\n",
              "      <td>11</td>\n",
              "    </tr>\n",
              "    <tr>\n",
              "      <th>12</th>\n",
              "      <td>1890</td>\n",
              "      <td>10</td>\n",
              "    </tr>\n",
              "  </tbody>\n",
              "</table>\n",
              "</div>"
            ],
            "text/plain": [
              "    date  count\n",
              "0   1873      1\n",
              "1   1878      1\n",
              "2   1879      1\n",
              "3   1881      2\n",
              "4   1882      7\n",
              "5   1883      6\n",
              "6   1884      4\n",
              "7   1885     15\n",
              "8   1886     13\n",
              "9   1887     16\n",
              "10  1888     16\n",
              "11  1889     11\n",
              "12  1890     10"
            ]
          },
          "execution_count": 7,
          "metadata": {},
          "output_type": "execute_result"
        }
      ],
      "source": [
        "test_dataframe.groupby('date').size().reset_index(name='count')"
      ]
    },
    {
      "cell_type": "code",
      "execution_count": 8,
      "metadata": {
        "colab": {
          "base_uri": "https://localhost:8080/",
          "height": 394
        },
        "id": "zsigRuVTFQ05",
        "outputId": "134a9ca3-d5e3-489f-9aeb-a9be3673c85f"
      },
      "outputs": [
        {
          "data": {
            "text/html": [
              "<div>\n",
              "<style scoped>\n",
              "    .dataframe tbody tr th:only-of-type {\n",
              "        vertical-align: middle;\n",
              "    }\n",
              "\n",
              "    .dataframe tbody tr th {\n",
              "        vertical-align: top;\n",
              "    }\n",
              "\n",
              "    .dataframe thead th {\n",
              "        text-align: right;\n",
              "    }\n",
              "</style>\n",
              "<table border=\"1\" class=\"dataframe\">\n",
              "  <thead>\n",
              "    <tr style=\"text-align: right;\">\n",
              "      <th></th>\n",
              "      <th>date</th>\n",
              "      <th>count</th>\n",
              "    </tr>\n",
              "  </thead>\n",
              "  <tbody>\n",
              "    <tr>\n",
              "      <th>0</th>\n",
              "      <td>1879</td>\n",
              "      <td>1</td>\n",
              "    </tr>\n",
              "    <tr>\n",
              "      <th>1</th>\n",
              "      <td>1881</td>\n",
              "      <td>2</td>\n",
              "    </tr>\n",
              "    <tr>\n",
              "      <th>2</th>\n",
              "      <td>1882</td>\n",
              "      <td>7</td>\n",
              "    </tr>\n",
              "    <tr>\n",
              "      <th>3</th>\n",
              "      <td>1883</td>\n",
              "      <td>6</td>\n",
              "    </tr>\n",
              "    <tr>\n",
              "      <th>4</th>\n",
              "      <td>1884</td>\n",
              "      <td>4</td>\n",
              "    </tr>\n",
              "    <tr>\n",
              "      <th>5</th>\n",
              "      <td>1885</td>\n",
              "      <td>15</td>\n",
              "    </tr>\n",
              "    <tr>\n",
              "      <th>6</th>\n",
              "      <td>1886</td>\n",
              "      <td>13</td>\n",
              "    </tr>\n",
              "    <tr>\n",
              "      <th>7</th>\n",
              "      <td>1887</td>\n",
              "      <td>16</td>\n",
              "    </tr>\n",
              "    <tr>\n",
              "      <th>8</th>\n",
              "      <td>1888</td>\n",
              "      <td>16</td>\n",
              "    </tr>\n",
              "    <tr>\n",
              "      <th>9</th>\n",
              "      <td>1889</td>\n",
              "      <td>11</td>\n",
              "    </tr>\n",
              "    <tr>\n",
              "      <th>10</th>\n",
              "      <td>1890</td>\n",
              "      <td>10</td>\n",
              "    </tr>\n",
              "  </tbody>\n",
              "</table>\n",
              "</div>"
            ],
            "text/plain": [
              "    date  count\n",
              "0   1879      1\n",
              "1   1881      2\n",
              "2   1882      7\n",
              "3   1883      6\n",
              "4   1884      4\n",
              "5   1885     15\n",
              "6   1886     13\n",
              "7   1887     16\n",
              "8   1888     16\n",
              "9   1889     11\n",
              "10  1890     10"
            ]
          },
          "execution_count": 8,
          "metadata": {},
          "output_type": "execute_result"
        }
      ],
      "source": [
        "unique_dates_train = train_dataframe['date'].unique()\n",
        "test_dataframe = test_dataframe[test_dataframe['date'].isin(unique_dates_train)]\n",
        "test_dataframe.groupby('date').size().reset_index(name='count')"
      ]
    },
    {
      "cell_type": "code",
      "execution_count": 9,
      "metadata": {
        "colab": {
          "base_uri": "https://localhost:8080/"
        },
        "id": "6WIRkxQ6u1Px",
        "outputId": "9ff8a515-440a-4314-aa69-496655ecc4c2"
      },
      "outputs": [
        {
          "name": "stdout",
          "output_type": "stream",
          "text": [
            "{0: 1887, 1: 1886, 2: 1890, 3: 1889, 4: 1885, 5: 1888, 6: 1884, 7: 1883, 8: 1882, 9: 1879, 10: 1881, 11: 1873, 12: 1878}\n",
            "{1887: 0, 1886: 1, 1890: 2, 1889: 3, 1885: 4, 1888: 5, 1884: 6, 1883: 7, 1882: 8, 1879: 9, 1881: 10, 1873: 11, 1878: 12}\n"
          ]
        }
      ],
      "source": [
        "unique_dates = df['date'].unique()\n",
        "unique_dates\n",
        "idx2date = {}\n",
        "date2idx = {}\n",
        "\n",
        "for i,date in enumerate(unique_dates):\n",
        "  idx2date[i] = date\n",
        "  date2idx[date] = i\n",
        "\n",
        "print(idx2date)\n",
        "print(date2idx)\n"
      ]
    },
    {
      "cell_type": "code",
      "execution_count": 10,
      "metadata": {
        "colab": {
          "base_uri": "https://localhost:8080/"
        },
        "id": "C2mzo5z9xNSW",
        "outputId": "3b6e7d75-10a1-4a9d-e3d7-240ac1939e65"
      },
      "outputs": [
        {
          "name": "stdout",
          "output_type": "stream",
          "text": [
            "Train DataFrame:\n",
            "  new_filename  date\n",
            "1    21520.jpg     1\n",
            "2    61388.jpg     2\n",
            "3    87903.jpg     2\n",
            "4    26488.jpg     3\n",
            "5    60631.jpg     4\n",
            "\n",
            "Test DataFrame:\n",
            "   new_filename  date\n",
            "0     75309.jpg     0\n",
            "15    25444.jpg     5\n",
            "30    73970.jpg     5\n",
            "49    40012.jpg     2\n",
            "52    18464.jpg     3\n"
          ]
        }
      ],
      "source": [
        "for index, row in train_dataframe.iterrows():\n",
        "    train_dataframe.at[index, 'date'] = date2idx[row['date']]\n",
        "\n",
        "for index, row in test_dataframe.iterrows():\n",
        "    test_dataframe.at[index, 'date'] = date2idx[row['date']]\n",
        "\n",
        "print(\"Train DataFrame:\")\n",
        "print(train_dataframe.head())\n",
        "\n",
        "print(\"\\nTest DataFrame:\")\n",
        "print(test_dataframe.head())\n"
      ]
    },
    {
      "cell_type": "code",
      "execution_count": 11,
      "metadata": {
        "colab": {
          "base_uri": "https://localhost:8080/"
        },
        "id": "3PC0UWW8vrGB",
        "outputId": "725f360b-e06c-43a0-9ef9-7351031cfa72"
      },
      "outputs": [
        {
          "data": {
            "text/plain": [
              "{0: 1887,\n",
              " 1: 1886,\n",
              " 2: 1890,\n",
              " 3: 1889,\n",
              " 4: 1885,\n",
              " 5: 1888,\n",
              " 6: 1884,\n",
              " 7: 1883,\n",
              " 8: 1882,\n",
              " 9: 1879,\n",
              " 10: 1881,\n",
              " 11: 1873,\n",
              " 12: 1878}"
            ]
          },
          "execution_count": 11,
          "metadata": {},
          "output_type": "execute_result"
        }
      ],
      "source": [
        "idx2date"
      ]
    },
    {
      "cell_type": "code",
      "execution_count": 12,
      "metadata": {
        "id": "dMv6CMlldMu7"
      },
      "outputs": [],
      "source": [
        "import os\n",
        "from PIL import Image\n",
        "import torch\n",
        "from torchvision import transforms\n",
        "from torch.utils.data import DataLoader, TensorDataset\n",
        "import pandas as pd\n",
        "import torch.nn as nn\n",
        "import torch.optim as optim\n",
        "import torch.nn.functional as F\n",
        "from pytorch_metric_learning import distances, losses, miners, reducers, testers\n",
        "from pytorch_metric_learning.utils.accuracy_calculator import AccuracyCalculator\n",
        "\n"
      ]
    },
    {
      "cell_type": "markdown",
      "metadata": {
        "id": "uz8BRrSV3PMX"
      },
      "source": [
        "# NETWORK"
      ]
    },
    {
      "cell_type": "code",
      "execution_count": 13,
      "metadata": {
        "id": "Uj3rZ_xk3QY2"
      },
      "outputs": [],
      "source": [
        "from pytorch_metric_learning import losses\n",
        "import torch\n",
        "import torch.nn as nn\n",
        "import torch.nn.functional as F\n",
        "import torchvision.models as models"
      ]
    },
    {
      "cell_type": "code",
      "execution_count": 14,
      "metadata": {
        "id": "hGHS_1fuBJBQ"
      },
      "outputs": [],
      "source": [
        "class Net(nn.Module):\n",
        "    def __init__(self, num_classes):\n",
        "        super(Net, self).__init__()\n",
        "        self.conv1 = nn.Conv2d(3, 32, 3, 1)  # Cambiado de 1 a 3 canales\n",
        "        self.conv2 = nn.Conv2d(32, 64, 3, 1)\n",
        "        self.dropout1 = nn.Dropout2d(0.25)\n",
        "        self.dropout2 = nn.Dropout2d(0.5)\n",
        "        self.fc1 = nn.Linear(110 * 110 * 64, 128)  # Ajustado a la salida de las convoluciones y pooling\n",
        "        self.fc2 = nn.Linear(128, num_classes)  # Nueva capa totalmente conectada para las clases\n",
        "\n",
        "    def forward(self, x):\n",
        "        x = self.conv1(x)\n",
        "        x = F.relu(x)\n",
        "        x = self.conv2(x)\n",
        "        x = F.relu(x)\n",
        "        x = F.max_pool2d(x, 2)\n",
        "        x = self.dropout1(x)\n",
        "        x = torch.flatten(x, 1)\n",
        "        x = self.fc1(x)\n",
        "        x = F.relu(x)\n",
        "        x = self.dropout2(x)\n",
        "        x = self.fc2(x)  # Salida de la última capa para la clasificación\n",
        "        return x"
      ]
    },
    {
      "cell_type": "code",
      "execution_count": 15,
      "metadata": {
        "id": "KPnPEhsz2IOj"
      },
      "outputs": [],
      "source": [
        "# Paths of the training and testing folders\n",
        "train_folder = 'IMAGES_OF_Vincent van Gogh/TRAIN'\n",
        "test_folder = 'IMAGES_OF_Vincent van Gogh/TEST'"
      ]
    },
    {
      "cell_type": "code",
      "execution_count": 16,
      "metadata": {
        "id": "0A0gqszkz3zu"
      },
      "outputs": [],
      "source": [
        "device = torch.device(\"cuda\")\n",
        "\n",
        "transform = transforms.Compose([\n",
        "    transforms.ToTensor(),\n",
        "    transforms.Normalize(mean=[0.4902860351171657, 0.4327027123349515, 0.3679902021355657], std=[0.22134062718873712, 0.20430693703606892, 0.18851782142531143])  # Normalization for color images\n",
        "])"
      ]
    },
    {
      "cell_type": "markdown",
      "metadata": {
        "id": "rlypUGYtiXfC"
      },
      "source": [
        "## Lo del pip install fiass es primer instalarlo i despres desinstalarlo, despres tornarlo a instalar i donara opcio de reiniciar entorno ejecucion (dir k si), anar fent aixo fins que doni opcio reiniciar entorno ejecucion. Llavors sha de tornar a excutar tot excepte aquestes dues celes.\n",
        "\n",
        "## Anar instalant i desinstalant fins que al instalar dongui l'opcio de reiniciar kernel\n"
      ]
    },
    {
      "cell_type": "code",
      "execution_count": 32,
      "metadata": {
        "colab": {
          "base_uri": "https://localhost:8080/"
        },
        "id": "QVW7ZVUoEeBZ",
        "outputId": "17f6819a-8bb1-42d4-e91d-8ed181d69baa"
      },
      "outputs": [
        {
          "name": "stdout",
          "output_type": "stream",
          "text": [
            "Found existing installation: faiss-gpu 1.7.2\n",
            "Uninstalling faiss-gpu-1.7.2:\n",
            "  Would remove:\n",
            "    /usr/local/lib/python3.10/dist-packages/faiss/*\n",
            "    /usr/local/lib/python3.10/dist-packages/faiss_gpu-1.7.2.dist-info/*\n",
            "    /usr/local/lib/python3.10/dist-packages/faiss_gpu.libs/libgfortran-040039e1.so.5.0.0\n",
            "    /usr/local/lib/python3.10/dist-packages/faiss_gpu.libs/libgomp-a34b3233.so.1.0.0\n",
            "    /usr/local/lib/python3.10/dist-packages/faiss_gpu.libs/libquadmath-96973f99.so.0.0.0\n",
            "    /usr/local/lib/python3.10/dist-packages/faiss_gpu.libs/libz-745e0a09.so.1.2.7\n",
            "  Would not remove (might be manually added):\n",
            "    /usr/local/lib/python3.10/dist-packages/faiss/_swigfaiss_avx2.cpython-310-x86_64-linux-gnu.so\n",
            "    /usr/local/lib/python3.10/dist-packages/faiss/_swigfaiss_avx512.cpython-310-x86_64-linux-gnu.so\n",
            "    /usr/local/lib/python3.10/dist-packages/faiss/array_conversions.py\n",
            "    /usr/local/lib/python3.10/dist-packages/faiss/class_wrappers.py\n",
            "    /usr/local/lib/python3.10/dist-packages/faiss/contrib/big_batch_search.py\n",
            "    /usr/local/lib/python3.10/dist-packages/faiss/contrib/clustering.py\n",
            "    /usr/local/lib/python3.10/dist-packages/faiss/extra_wrappers.py\n",
            "    /usr/local/lib/python3.10/dist-packages/faiss/gpu_wrappers.py\n",
            "    /usr/local/lib/python3.10/dist-packages/faiss/swigfaiss_avx2.py\n",
            "    /usr/local/lib/python3.10/dist-packages/faiss/swigfaiss_avx512.py\n",
            "Proceed (Y/n)? y\n",
            "  Successfully uninstalled faiss-gpu-1.7.2\n",
            "Found existing installation: faiss-cpu 1.8.0\n",
            "Uninstalling faiss-cpu-1.8.0:\n",
            "  Would remove:\n",
            "    /usr/local/lib/python3.10/dist-packages/faiss/_swigfaiss_avx2.cpython-310-x86_64-linux-gnu.so\n",
            "    /usr/local/lib/python3.10/dist-packages/faiss/_swigfaiss_avx512.cpython-310-x86_64-linux-gnu.so\n",
            "    /usr/local/lib/python3.10/dist-packages/faiss/array_conversions.py\n",
            "    /usr/local/lib/python3.10/dist-packages/faiss/class_wrappers.py\n",
            "    /usr/local/lib/python3.10/dist-packages/faiss/contrib/big_batch_search.py\n",
            "    /usr/local/lib/python3.10/dist-packages/faiss/contrib/clustering.py\n",
            "    /usr/local/lib/python3.10/dist-packages/faiss/extra_wrappers.py\n",
            "    /usr/local/lib/python3.10/dist-packages/faiss/gpu_wrappers.py\n",
            "    /usr/local/lib/python3.10/dist-packages/faiss/swigfaiss_avx2.py\n",
            "    /usr/local/lib/python3.10/dist-packages/faiss/swigfaiss_avx512.py\n",
            "    /usr/local/lib/python3.10/dist-packages/faiss_cpu-1.8.0.dist-info/*\n",
            "    /usr/local/lib/python3.10/dist-packages/faiss_cpu.libs/libgfortran-040039e1.so.5.0.0\n",
            "    /usr/local/lib/python3.10/dist-packages/faiss_cpu.libs/libgomp-a34b3233.so.1.0.0\n",
            "    /usr/local/lib/python3.10/dist-packages/faiss_cpu.libs/libquadmath-96973f99.so.0.0.0\n",
            "Proceed (Y/n)? y\n",
            "  Successfully uninstalled faiss-cpu-1.8.0\n"
          ]
        }
      ],
      "source": [
        "!pip uninstall faiss-gpu\n",
        "!pip uninstall faiss-cpu"
      ]
    },
    {
      "cell_type": "code",
      "execution_count": 19,
      "metadata": {
        "colab": {
          "base_uri": "https://localhost:8080/",
          "height": 252
        },
        "id": "T-3WS1l-3NPV",
        "outputId": "4886338d-30f0-4cf3-b4d8-2a2e641b2981"
      },
      "outputs": [
        {
          "name": "stdout",
          "output_type": "stream",
          "text": [
            "Collecting faiss-gpu\n",
            "  Downloading faiss_gpu-1.7.2-cp38-cp38-manylinux_2_17_x86_64.manylinux2014_x86_64.whl (85.5 MB)\n",
            "\u001b[K     |████████████████████████████████| 85.5 MB 52 kB/s  eta 0:00:013\n",
            "\u001b[?25hInstalling collected packages: faiss-gpu\n",
            "Successfully installed faiss-gpu-1.7.2\n",
            "Collecting faiss-cpu\n",
            "  Downloading faiss_cpu-1.8.0-cp38-cp38-manylinux_2_17_x86_64.manylinux2014_x86_64.whl (27.0 MB)\n",
            "\u001b[K     |████████████████████████████████| 27.0 MB 19.4 MB/s eta 0:00:01\n",
            "\u001b[?25hRequirement already satisfied: numpy in /anaconda/envs/azureml_py38/lib/python3.8/site-packages (from faiss-cpu) (1.22.3)\n",
            "Installing collected packages: faiss-cpu\n",
            "Successfully installed faiss-cpu-1.8.0\n"
          ]
        }
      ],
      "source": [
        "!pip install faiss-gpu\n",
        "!pip install faiss-cpu"
      ]
    },
    {
      "cell_type": "markdown",
      "metadata": {
        "id": "NmzX2rgL2Mo1"
      },
      "source": [
        "# Versió de BATCH customitzat (imatges d'un mateix artista per batch)"
      ]
    },
    {
      "cell_type": "code",
      "execution_count": 17,
      "metadata": {
        "id": "2607Jc6EdezB"
      },
      "outputs": [],
      "source": [
        "import os\n",
        "from PIL import Image\n",
        "from torch.utils.data import Dataset, DataLoader, Sampler\n",
        "from collections import defaultdict\n",
        "import random\n",
        "import torch\n",
        "\n",
        "\n",
        "class CustomDataset(Dataset):\n",
        "    def __init__(self, dataframe, folder, df, transform=None):\n",
        "        self.dataframe = dataframe\n",
        "        self.folder = folder\n",
        "        self.transform = transform\n",
        "        self.df = df.set_index('new_filename')\n",
        "        self.artists = self.dataframe['new_filename'].apply(lambda x: self.df.at[x, 'artist']).values # Artistes de cada imatge\n",
        "\n",
        "    def __len__(self):\n",
        "        return len(self.dataframe)\n",
        "\n",
        "    def __getitem__(self, idx):\n",
        "        img_name = os.path.join(self.folder, self.dataframe.iloc[idx, 0])\n",
        "        image = Image.open(img_name)\n",
        "        date = self.dataframe.iloc[idx, 1]\n",
        "        if self.transform:\n",
        "            image = self.transform(image)\n",
        "        return image, date\n",
        "\n",
        "class GroupedBatchSampler(Sampler):\n",
        "    def __init__(self, dataset, batch_size):\n",
        "        self.dataset = dataset\n",
        "        self.batch_size = batch_size\n",
        "        self.groups = self._group_by_artist()\n",
        "        self.batches = self._create_batches()\n",
        "\n",
        "    def _group_by_artist(self):\n",
        "        groups = defaultdict(list)\n",
        "        for idx in range(len(self.dataset)):\n",
        "            artist = self.dataset.artists[idx]\n",
        "            groups[artist].append(idx)\n",
        "        return groups\n",
        "\n",
        "    def _create_batches(self):\n",
        "        batches = []\n",
        "        for artist, indices in self.groups.items():\n",
        "            num_samples = len(indices)\n",
        "            if num_samples <= self.batch_size:\n",
        "                batch = indices\n",
        "                batches.append(batch)\n",
        "            else:\n",
        "                num_batches = num_samples // self.batch_size\n",
        "                for i in range(num_batches):\n",
        "                    start_index = i * self.batch_size\n",
        "                    end_index = (i + 1) * self.batch_size\n",
        "                    batch = indices[start_index:end_index]\n",
        "                    batches.append(batch)\n",
        "\n",
        "                # Añadir el lote final si hay elementos restantes\n",
        "                remaining_samples = num_samples % self.batch_size\n",
        "                if remaining_samples > 0:\n",
        "                    start_index = num_batches * self.batch_size\n",
        "                    batch = indices[start_index:start_index + remaining_samples]\n",
        "                    batches.append(batch)\n",
        "        return batches\n",
        "\n",
        "    def __iter__(self):\n",
        "        for batch in self.batches:\n",
        "            yield batch\n",
        "\n",
        "    def __len__(self):\n",
        "        return len(self.batches)\n",
        "\n",
        "def custom_collate_fn(batch):\n",
        "    images, dates = zip(*batch)\n",
        "    images = torch.stack([img for img in images])\n",
        "    dates = torch.tensor(dates)\n",
        "    return images, dates\n",
        "\n",
        "\n",
        "batch_size = 32\n",
        "\n",
        "# Definir las rutas de las carpetas de entrenamiento y prueba\n",
        "train_folder = 'IMAGES_OF_Vincent van Gogh/TRAIN'\n",
        "test_folder = 'IMAGES_OF_Vincent van Gogh/TEST'\n",
        "# Crear datasets\n",
        "train_dataset = CustomDataset(train_dataframe, train_folder, df, transform=transform)\n",
        "test_dataset = CustomDataset(test_dataframe, test_folder, df, transform=transform)\n",
        "\n",
        "# Crear samplers personalizados\n",
        "train_sampler = GroupedBatchSampler(train_dataset, batch_size)\n",
        "test_sampler = GroupedBatchSampler(test_dataset, batch_size)\n",
        "\n",
        "# Crear DataLoaders con los samplers personalizados\n",
        "train_loader = DataLoader(train_dataset, batch_sampler=train_sampler, collate_fn=custom_collate_fn)\n",
        "test_loader = DataLoader(test_dataset, batch_sampler=test_sampler, collate_fn=custom_collate_fn)\n",
        "\n",
        "# Función de entrenamiento\n",
        "def train(model, loss_func, mining_func, device, train_loader, optimizer, epoch):\n",
        "    model.train()\n",
        "    epoch_loss = 0.0  # Inicializa la pérdida acumulada en la época\n",
        "    for batch_idx, (data, labels) in enumerate(train_loader):\n",
        "        data, labels = data.to(device), labels.to(device)\n",
        "        optimizer.zero_grad()\n",
        "        embeddings = model(data)\n",
        "        indices_tuple = mining_func(embeddings, labels)\n",
        "        loss = loss_func(embeddings, labels, indices_tuple)\n",
        "        loss.backward()\n",
        "        optimizer.step()\n",
        "\n",
        "        epoch_loss += loss.item()  # Acumula la pérdida del lote en la pérdida de la época\n",
        "\n",
        "    epoch_loss /= len(train_loader)  # Calcula el promedio de la pérdida de la época\n",
        "    print(\"Epoch {}: Average Loss = {}\".format(epoch, epoch_loss))  # Imprime la pérdida promedio de la época\n",
        "\n",
        "    return epoch_loss  # Devuelve la pérdida promedio de la época\n",
        "\n",
        "def get_all_embeddings(dataset, model):\n",
        "    tester = testers.BaseTester()\n",
        "    embeddings, labels = tester.get_all_embeddings(dataset, model)\n",
        "    return embeddings, labels\n",
        "\n",
        "def precision_at_k(test_embeddings, test_labels, train_embeddings, train_labels, k):\n",
        "    # Compute pairwise distances between test and train embeddings\n",
        "    distances = torch.cdist(test_embeddings, train_embeddings)\n",
        "    # Get the indices of the k nearest neighbors\n",
        "    knn_indices = distances.topk(k, largest=False).indices\n",
        "    # Retrieve the labels of the k nearest neighbors\n",
        "    knn_labels = train_labels[knn_indices]\n",
        "    # Check if the test label is in the k nearest neighbors\n",
        "    matches = (knn_labels == test_labels.unsqueeze(1)).sum(dim=1).float()\n",
        "    # Calculate precision\n",
        "    precision = (matches > 0).sum().item() / len(test_labels)\n",
        "    return precision\n",
        "\n",
        "def test(train_set, test_set, model, accuracy_calculator, loss_func):\n",
        "    train_embeddings, train_labels = get_all_embeddings(train_set, model)\n",
        "    test_embeddings, test_labels = get_all_embeddings(test_set, model)\n",
        "    train_labels = train_labels.squeeze(1)\n",
        "    test_labels = test_labels.squeeze(1)\n",
        "    print(\"Computing accuracy\")\n",
        "    \n",
        "    # Compute accuracies using accuracy_calculator\n",
        "    accuracies = accuracy_calculator.get_accuracy(\n",
        "        test_embeddings, test_labels, train_embeddings, train_labels, False\n",
        "    )\n",
        "    print(\"Test set accuracy (Precision@1) = {}\".format(accuracies[\"precision_at_1\"]))\n",
        "    print(\"Test set accuracy (r_precision) = {}\".format(accuracies[\"r_precision\"]))\n",
        "\n",
        "    # Compute custom precision_at_3\n",
        "    precision_at_3 = precision_at_k(test_embeddings, test_labels, train_embeddings, train_labels, k=3)\n",
        "    print(\"Test set accuracy (Precision@3) = {}\".format(precision_at_3))\n",
        "    \n",
        "    return accuracies[\"precision_at_1\"], precision_at_3, accuracies[\"r_precision\"]"
      ]
    },
    {
      "cell_type": "code",
      "execution_count": 31,
      "metadata": {
        "colab": {
          "base_uri": "https://localhost:8080/",
          "height": 36
        },
        "id": "M0X-tHWKjlf4",
        "outputId": "4177c2d9-a671-4667-e902-fd63bf686f15"
      },
      "outputs": [
        {
          "data": {
            "application/vnd.google.colaboratory.intrinsic+json": {
              "type": "string"
            },
            "text/plain": [
              "'\\nfor i in train_sampler.batches:\\n  print(train_dataframe.iloc[i])\\n  print(\"\\n\")\\n'"
            ]
          },
          "execution_count": 31,
          "metadata": {},
          "output_type": "execute_result"
        }
      ],
      "source": [
        "'''\n",
        "for i in train_sampler.batches:\n",
        "  print(train_dataframe.iloc[i])\n",
        "  print(\"\\n\")\n",
        "'''"
      ]
    },
    {
      "cell_type": "code",
      "execution_count": 18,
      "metadata": {
        "id": "XpSYujOw27dc"
      },
      "outputs": [],
      "source": [
        "import torch\n",
        "import torch.nn as nn\n",
        "import torch.optim as optim\n",
        "import torch.nn.functional as F\n",
        "from torchvision import datasets, transforms\n",
        "from torch.utils.data import DataLoader\n",
        "from pytorch_metric_learning import miners, losses, testers\n",
        "from pytorch_metric_learning.utils.accuracy_calculator import AccuracyCalculator\n",
        "from pytorch_metric_learning.distances import CosineSimilarity, LpDistance\n",
        "from pytorch_metric_learning.reducers import ThresholdReducer\n",
        "import matplotlib.pyplot as plt\n",
        "import faiss\n",
        "\n",
        "\n",
        "accuracy_calculator = AccuracyCalculator(include=(\"precision_at_1\", \"r_precision\"), k='max_bin_count') # ficar precision at R\n",
        "### pytorch-metric-learning stuff ###"
      ]
    },
    {
      "cell_type": "code",
      "execution_count": 19,
      "metadata": {
        "id": "zVEa20m-N6mn"
      },
      "outputs": [],
      "source": [
        "def plot_metrics(losses, precision_at_1, precision_at_3, r_precision):\n",
        "    epochs = range(1, len(losses) + 1)\n",
        "    \n",
        "    plt.figure(figsize=(18, 6))\n",
        "\n",
        "    # Plot losses\n",
        "    plt.subplot(1, 3, 1)\n",
        "    plt.plot(epochs, losses, 'r', label='Training loss')\n",
        "    plt.xlabel('Epochs')\n",
        "    plt.ylabel('Loss')\n",
        "    plt.title('Loss over epochs')\n",
        "    plt.legend()\n",
        "\n",
        "    # Plot precision_at_1\n",
        "    plt.subplot(1, 3, 2)\n",
        "    plt.plot(epochs, precision_at_1, 'b', label='Precision@1')\n",
        "    plt.plot(epochs, precision_at_3, 'g', label='Precision@3')\n",
        "    plt.xlabel('Epochs')\n",
        "    plt.ylabel('Accuracy')\n",
        "    plt.title('Precision@1 and Precision@3 over epochs')\n",
        "    plt.legend()\n",
        "\n",
        "    # Plot r_precision\n",
        "    plt.subplot(1, 3, 3)\n",
        "    plt.plot(epochs, r_precision, 'm', label='R Precision')\n",
        "    plt.xlabel('Epochs')\n",
        "    plt.ylabel('Accuracy')\n",
        "    plt.title('R Precision over epochs')\n",
        "    plt.legend()\n",
        "\n",
        "    plt.tight_layout()\n",
        "    plt.show()"
      ]
    },
    {
      "cell_type": "code",
      "execution_count": 20,
      "metadata": {
        "colab": {
          "base_uri": "https://localhost:8080/"
        },
        "id": "SCGuQViVCfgf",
        "outputId": "1a6d7507-04fc-4596-f578-513e90343a78"
      },
      "outputs": [
        {
          "name": "stderr",
          "output_type": "stream",
          "text": [
            "/anaconda/envs/azureml_py38/lib/python3.8/site-packages/torch/nn/functional.py:718: UserWarning: Named tensors and all their associated APIs are an experimental feature and subject to change. Please do not use them for anything important until they are released as stable. (Triggered internally at  /pytorch/c10/core/TensorImpl.h:1156.)\n",
            "  return torch.max_pool2d(input, kernel_size, stride, padding, dilation, ceil_mode)\n"
          ]
        },
        {
          "name": "stdout",
          "output_type": "stream",
          "text": [
            "Epoch 1: Average Loss = 0.2370631955564022\n"
          ]
        },
        {
          "name": "stderr",
          "output_type": "stream",
          "text": [
            "100%|██████████| 12/12 [00:00<00:00, 21.54it/s]\n",
            "100%|██████████| 4/4 [00:00<00:00, 10.05it/s]\n"
          ]
        },
        {
          "name": "stdout",
          "output_type": "stream",
          "text": [
            "Computing accuracy\n",
            "Test set accuracy (Precision@1) = 0.2871287128712871\n",
            "Test set accuracy (r_precision) = 0.16506448046614083\n",
            "Test set accuracy (Precision@3) = 0.49504950495049505\n",
            "Epoch 2: Average Loss = 0.21830178797245026\n"
          ]
        },
        {
          "name": "stderr",
          "output_type": "stream",
          "text": [
            "100%|██████████| 12/12 [00:00<00:00, 21.71it/s]\n",
            "100%|██████████| 4/4 [00:00<00:00, 15.24it/s]\n"
          ]
        },
        {
          "name": "stdout",
          "output_type": "stream",
          "text": [
            "Computing accuracy\n",
            "Test set accuracy (Precision@1) = 0.24752475247524752\n",
            "Test set accuracy (r_precision) = 0.16702157522157127\n",
            "Test set accuracy (Precision@3) = 0.48514851485148514\n",
            "Epoch 3: Average Loss = 0.2129812054336071\n"
          ]
        },
        {
          "name": "stderr",
          "output_type": "stream",
          "text": [
            "100%|██████████| 12/12 [00:00<00:00, 21.83it/s]\n",
            "100%|██████████| 4/4 [00:00<00:00, 15.24it/s]\n"
          ]
        },
        {
          "name": "stdout",
          "output_type": "stream",
          "text": [
            "Computing accuracy\n",
            "Test set accuracy (Precision@1) = 0.3069306930693069\n",
            "Test set accuracy (r_precision) = 0.16904914464818563\n",
            "Test set accuracy (Precision@3) = 0.49504950495049505\n",
            "Epoch 4: Average Loss = 0.21720047543446222\n"
          ]
        },
        {
          "name": "stderr",
          "output_type": "stream",
          "text": [
            "100%|██████████| 12/12 [00:00<00:00, 21.62it/s]\n",
            "100%|██████████| 4/4 [00:00<00:00, 14.67it/s]\n"
          ]
        },
        {
          "name": "stdout",
          "output_type": "stream",
          "text": [
            "Computing accuracy\n",
            "Test set accuracy (Precision@1) = 0.2871287128712871\n",
            "Test set accuracy (r_precision) = 0.17293575248679152\n",
            "Test set accuracy (Precision@3) = 0.504950495049505\n",
            "Epoch 5: Average Loss = 0.21013182401657104\n"
          ]
        },
        {
          "name": "stderr",
          "output_type": "stream",
          "text": [
            "100%|██████████| 12/12 [00:00<00:00, 21.54it/s]\n",
            "100%|██████████| 4/4 [00:00<00:00, 15.36it/s]\n"
          ]
        },
        {
          "name": "stdout",
          "output_type": "stream",
          "text": [
            "Computing accuracy\n",
            "Test set accuracy (Precision@1) = 0.2376237623762376\n",
            "Test set accuracy (r_precision) = 0.1747098820716212\n",
            "Test set accuracy (Precision@3) = 0.49504950495049505\n",
            "Epoch 6: Average Loss = 0.2170532370607058\n"
          ]
        },
        {
          "name": "stderr",
          "output_type": "stream",
          "text": [
            "100%|██████████| 12/12 [00:00<00:00, 20.96it/s]\n",
            "100%|██████████| 4/4 [00:00<00:00, 15.29it/s]\n"
          ]
        },
        {
          "name": "stdout",
          "output_type": "stream",
          "text": [
            "Computing accuracy\n",
            "Test set accuracy (Precision@1) = 0.26732673267326734\n",
            "Test set accuracy (r_precision) = 0.17652140799742655\n",
            "Test set accuracy (Precision@3) = 0.43564356435643564\n",
            "Epoch 7: Average Loss = 0.21588941663503647\n"
          ]
        },
        {
          "name": "stderr",
          "output_type": "stream",
          "text": [
            "100%|██████████| 12/12 [00:00<00:00, 21.79it/s]\n",
            "100%|██████████| 4/4 [00:00<00:00, 15.46it/s]\n"
          ]
        },
        {
          "name": "stdout",
          "output_type": "stream",
          "text": [
            "Computing accuracy\n",
            "Test set accuracy (Precision@1) = 0.27722772277227725\n",
            "Test set accuracy (r_precision) = 0.18449393909708753\n",
            "Test set accuracy (Precision@3) = 0.45544554455445546\n",
            "Epoch 8: Average Loss = 0.21246536200245222\n"
          ]
        },
        {
          "name": "stderr",
          "output_type": "stream",
          "text": [
            "100%|██████████| 12/12 [00:00<00:00, 21.52it/s]\n",
            "100%|██████████| 4/4 [00:00<00:00, 15.41it/s]\n"
          ]
        },
        {
          "name": "stdout",
          "output_type": "stream",
          "text": [
            "Computing accuracy\n",
            "Test set accuracy (Precision@1) = 0.2871287128712871\n",
            "Test set accuracy (r_precision) = 0.18372274325460355\n",
            "Test set accuracy (Precision@3) = 0.44554455445544555\n",
            "Epoch 9: Average Loss = 0.21958190451065698\n"
          ]
        },
        {
          "name": "stderr",
          "output_type": "stream",
          "text": [
            "100%|██████████| 12/12 [00:00<00:00, 21.36it/s]\n",
            "100%|██████████| 4/4 [00:00<00:00, 15.34it/s]\n"
          ]
        },
        {
          "name": "stdout",
          "output_type": "stream",
          "text": [
            "Computing accuracy\n",
            "Test set accuracy (Precision@1) = 0.27722772277227725\n",
            "Test set accuracy (r_precision) = 0.18586761529117965\n",
            "Test set accuracy (Precision@3) = 0.48514851485148514\n",
            "Epoch 10: Average Loss = 0.21645473316311836\n"
          ]
        },
        {
          "name": "stderr",
          "output_type": "stream",
          "text": [
            "100%|██████████| 12/12 [00:00<00:00, 21.97it/s]\n",
            "100%|██████████| 4/4 [00:00<00:00, 15.26it/s]\n"
          ]
        },
        {
          "name": "stdout",
          "output_type": "stream",
          "text": [
            "Computing accuracy\n",
            "Test set accuracy (Precision@1) = 0.2871287128712871\n",
            "Test set accuracy (r_precision) = 0.18934374931310263\n",
            "Test set accuracy (Precision@3) = 0.5544554455445545\n",
            "Epoch    10: reducing learning rate of group 0 to 1.0000e-06.\n",
            "Epoch 11: Average Loss = 0.21734571953614554\n"
          ]
        },
        {
          "name": "stderr",
          "output_type": "stream",
          "text": [
            "100%|██████████| 12/12 [00:00<00:00, 21.80it/s]\n",
            "100%|██████████| 4/4 [00:00<00:00, 15.39it/s]\n"
          ]
        },
        {
          "name": "stdout",
          "output_type": "stream",
          "text": [
            "Computing accuracy\n",
            "Test set accuracy (Precision@1) = 0.27722772277227725\n",
            "Test set accuracy (r_precision) = 0.1895228344511613\n",
            "Test set accuracy (Precision@3) = 0.5544554455445545\n",
            "Epoch 12: Average Loss = 0.21061806504925093\n"
          ]
        },
        {
          "name": "stderr",
          "output_type": "stream",
          "text": [
            "100%|██████████| 12/12 [00:00<00:00, 21.77it/s]\n",
            "100%|██████████| 4/4 [00:00<00:00, 14.88it/s]\n"
          ]
        },
        {
          "name": "stdout",
          "output_type": "stream",
          "text": [
            "Computing accuracy\n",
            "Test set accuracy (Precision@1) = 0.27722772277227725\n",
            "Test set accuracy (r_precision) = 0.19011040068732357\n",
            "Test set accuracy (Precision@3) = 0.5643564356435643\n",
            "Epoch 13: Average Loss = 0.20549897228678068\n"
          ]
        },
        {
          "name": "stderr",
          "output_type": "stream",
          "text": [
            "100%|██████████| 12/12 [00:00<00:00, 21.29it/s]\n",
            "100%|██████████| 4/4 [00:00<00:00, 15.33it/s]\n"
          ]
        },
        {
          "name": "stdout",
          "output_type": "stream",
          "text": [
            "Computing accuracy\n",
            "Test set accuracy (Precision@1) = 0.2871287128712871\n",
            "Test set accuracy (r_precision) = 0.1892291717054096\n",
            "Test set accuracy (Precision@3) = 0.5742574257425742\n",
            "Epoch 14: Average Loss = 0.21736890077590942\n"
          ]
        },
        {
          "name": "stderr",
          "output_type": "stream",
          "text": [
            "100%|██████████| 12/12 [00:00<00:00, 21.79it/s]\n",
            "100%|██████████| 4/4 [00:00<00:00, 15.36it/s]\n"
          ]
        },
        {
          "name": "stdout",
          "output_type": "stream",
          "text": [
            "Computing accuracy\n",
            "Test set accuracy (Precision@1) = 0.27722772277227725\n",
            "Test set accuracy (r_precision) = 0.19143187978337034\n",
            "Test set accuracy (Precision@3) = 0.5742574257425742\n",
            "Epoch 15: Average Loss = 0.2121636817852656\n"
          ]
        },
        {
          "name": "stderr",
          "output_type": "stream",
          "text": [
            "100%|██████████| 12/12 [00:00<00:00, 21.28it/s]\n",
            "100%|██████████| 4/4 [00:00<00:00, 15.38it/s]\n"
          ]
        },
        {
          "name": "stdout",
          "output_type": "stream",
          "text": [
            "Computing accuracy\n",
            "Test set accuracy (Precision@1) = 0.2871287128712871\n",
            "Test set accuracy (r_precision) = 0.19343511468770583\n",
            "Test set accuracy (Precision@3) = 0.5445544554455446\n",
            "Epoch 16: Average Loss = 0.21531577284137407\n"
          ]
        },
        {
          "name": "stderr",
          "output_type": "stream",
          "text": [
            "100%|██████████| 12/12 [00:00<00:00, 21.62it/s]\n",
            "100%|██████████| 4/4 [00:00<00:00, 15.45it/s]\n"
          ]
        },
        {
          "name": "stdout",
          "output_type": "stream",
          "text": [
            "Computing accuracy\n",
            "Test set accuracy (Precision@1) = 0.31683168316831684\n",
            "Test set accuracy (r_precision) = 0.19626093318531862\n",
            "Test set accuracy (Precision@3) = 0.5445544554455446\n",
            "Epoch 17: Average Loss = 0.21471822261810303\n"
          ]
        },
        {
          "name": "stderr",
          "output_type": "stream",
          "text": [
            "100%|██████████| 12/12 [00:00<00:00, 21.26it/s]\n",
            "100%|██████████| 4/4 [00:00<00:00, 15.07it/s]\n"
          ]
        },
        {
          "name": "stdout",
          "output_type": "stream",
          "text": [
            "Computing accuracy\n",
            "Test set accuracy (Precision@1) = 0.32673267326732675\n",
            "Test set accuracy (r_precision) = 0.1972890014943062\n",
            "Test set accuracy (Precision@3) = 0.5445544554455446\n",
            "Epoch 18: Average Loss = 0.21624950940410295\n"
          ]
        },
        {
          "name": "stderr",
          "output_type": "stream",
          "text": [
            "100%|██████████| 12/12 [00:00<00:00, 21.70it/s]\n",
            "100%|██████████| 4/4 [00:00<00:00, 14.91it/s]\n"
          ]
        },
        {
          "name": "stdout",
          "output_type": "stream",
          "text": [
            "Computing accuracy\n",
            "Test set accuracy (Precision@1) = 0.3564356435643564\n",
            "Test set accuracy (r_precision) = 0.1991008672838642\n",
            "Test set accuracy (Precision@3) = 0.5247524752475248\n",
            "Epoch    18: reducing learning rate of group 0 to 1.0000e-07.\n",
            "Epoch 19: Average Loss = 0.21528909107049307\n"
          ]
        },
        {
          "name": "stderr",
          "output_type": "stream",
          "text": [
            "100%|██████████| 12/12 [00:00<00:00, 21.52it/s]\n",
            "100%|██████████| 4/4 [00:00<00:00, 15.51it/s]\n"
          ]
        },
        {
          "name": "stdout",
          "output_type": "stream",
          "text": [
            "Computing accuracy\n",
            "Test set accuracy (Precision@1) = 0.3564356435643564\n",
            "Test set accuracy (r_precision) = 0.19960430745839014\n",
            "Test set accuracy (Precision@3) = 0.5247524752475248\n",
            "Epoch 20: Average Loss = 0.20737763618429503\n"
          ]
        },
        {
          "name": "stderr",
          "output_type": "stream",
          "text": [
            "100%|██████████| 12/12 [00:00<00:00, 21.74it/s]\n",
            "100%|██████████| 4/4 [00:00<00:00, 15.54it/s]\n"
          ]
        },
        {
          "name": "stdout",
          "output_type": "stream",
          "text": [
            "Computing accuracy\n",
            "Test set accuracy (Precision@1) = 0.3564356435643564\n",
            "Test set accuracy (r_precision) = 0.1993999154344883\n",
            "Test set accuracy (Precision@3) = 0.5346534653465347\n",
            "Epoch 21: Average Loss = 0.20707306390007338\n"
          ]
        },
        {
          "name": "stderr",
          "output_type": "stream",
          "text": [
            "100%|██████████| 12/12 [00:00<00:00, 21.47it/s]\n",
            "100%|██████████| 4/4 [00:00<00:00, 15.38it/s]\n"
          ]
        },
        {
          "name": "stdout",
          "output_type": "stream",
          "text": [
            "Computing accuracy\n",
            "Test set accuracy (Precision@1) = 0.3564356435643564\n",
            "Test set accuracy (r_precision) = 0.19927606135694384\n",
            "Test set accuracy (Precision@3) = 0.5643564356435643\n",
            "Epoch 22: Average Loss = 0.20832855006059012\n"
          ]
        },
        {
          "name": "stderr",
          "output_type": "stream",
          "text": [
            "100%|██████████| 12/12 [00:00<00:00, 21.13it/s]\n",
            "100%|██████████| 4/4 [00:00<00:00, 15.22it/s]\n"
          ]
        },
        {
          "name": "stdout",
          "output_type": "stream",
          "text": [
            "Computing accuracy\n",
            "Test set accuracy (Precision@1) = 0.3564356435643564\n",
            "Test set accuracy (r_precision) = 0.19896665541634972\n",
            "Test set accuracy (Precision@3) = 0.5643564356435643\n",
            "Epoch 23: Average Loss = 0.2039544607202212\n"
          ]
        },
        {
          "name": "stderr",
          "output_type": "stream",
          "text": [
            "100%|██████████| 12/12 [00:00<00:00, 21.10it/s]\n",
            "100%|██████████| 4/4 [00:00<00:00, 15.44it/s]\n"
          ]
        },
        {
          "name": "stdout",
          "output_type": "stream",
          "text": [
            "Computing accuracy\n",
            "Test set accuracy (Precision@1) = 0.3564356435643564\n",
            "Test set accuracy (r_precision) = 0.19944598101284383\n",
            "Test set accuracy (Precision@3) = 0.5643564356435643\n",
            "Epoch 24: Average Loss = 0.21896622329950333\n"
          ]
        },
        {
          "name": "stderr",
          "output_type": "stream",
          "text": [
            "100%|██████████| 12/12 [00:00<00:00, 21.56it/s]\n",
            "100%|██████████| 4/4 [00:00<00:00, 15.54it/s]\n"
          ]
        },
        {
          "name": "stdout",
          "output_type": "stream",
          "text": [
            "Computing accuracy\n",
            "Test set accuracy (Precision@1) = 0.3564356435643564\n",
            "Test set accuracy (r_precision) = 0.1993532420333259\n",
            "Test set accuracy (Precision@3) = 0.5544554455445545\n",
            "Epoch 25: Average Loss = 0.20515966912110647\n"
          ]
        },
        {
          "name": "stderr",
          "output_type": "stream",
          "text": [
            "100%|██████████| 12/12 [00:00<00:00, 21.91it/s]\n",
            "100%|██████████| 4/4 [00:00<00:00, 15.20it/s]\n"
          ]
        },
        {
          "name": "stdout",
          "output_type": "stream",
          "text": [
            "Computing accuracy\n",
            "Test set accuracy (Precision@1) = 0.34653465346534656\n",
            "Test set accuracy (r_precision) = 0.19933550356178492\n",
            "Test set accuracy (Precision@3) = 0.5445544554455446\n",
            "Epoch 26: Average Loss = 0.21675814564029375\n"
          ]
        },
        {
          "name": "stderr",
          "output_type": "stream",
          "text": [
            "100%|██████████| 12/12 [00:00<00:00, 21.55it/s]\n",
            "100%|██████████| 4/4 [00:00<00:00, 15.18it/s]\n"
          ]
        },
        {
          "name": "stdout",
          "output_type": "stream",
          "text": [
            "Computing accuracy\n",
            "Test set accuracy (Precision@1) = 0.34653465346534656\n",
            "Test set accuracy (r_precision) = 0.20060231597005074\n",
            "Test set accuracy (Precision@3) = 0.5544554455445545\n",
            "Epoch 27: Average Loss = 0.2142590507864952\n"
          ]
        },
        {
          "name": "stderr",
          "output_type": "stream",
          "text": [
            "100%|██████████| 12/12 [00:00<00:00, 21.38it/s]\n",
            "100%|██████████| 4/4 [00:00<00:00, 14.93it/s]\n"
          ]
        },
        {
          "name": "stdout",
          "output_type": "stream",
          "text": [
            "Computing accuracy\n",
            "Test set accuracy (Precision@1) = 0.34653465346534656\n",
            "Test set accuracy (r_precision) = 0.20136630851560325\n",
            "Test set accuracy (Precision@3) = 0.5643564356435643\n",
            "Epoch 28: Average Loss = 0.21312747399012247\n"
          ]
        },
        {
          "name": "stderr",
          "output_type": "stream",
          "text": [
            "100%|██████████| 12/12 [00:00<00:00, 21.48it/s]\n",
            "100%|██████████| 4/4 [00:00<00:00, 15.43it/s]\n"
          ]
        },
        {
          "name": "stdout",
          "output_type": "stream",
          "text": [
            "Computing accuracy\n",
            "Test set accuracy (Precision@1) = 0.34653465346534656\n",
            "Test set accuracy (r_precision) = 0.20128667995729696\n",
            "Test set accuracy (Precision@3) = 0.5643564356435643\n",
            "Epoch    28: reducing learning rate of group 0 to 1.0000e-08.\n",
            "Epoch 29: Average Loss = 0.21123144154747328\n"
          ]
        },
        {
          "name": "stderr",
          "output_type": "stream",
          "text": [
            "100%|██████████| 12/12 [00:00<00:00, 21.79it/s]\n",
            "100%|██████████| 4/4 [00:00<00:00, 15.16it/s]\n"
          ]
        },
        {
          "name": "stdout",
          "output_type": "stream",
          "text": [
            "Computing accuracy\n",
            "Test set accuracy (Precision@1) = 0.34653465346534656\n",
            "Test set accuracy (r_precision) = 0.20144899127039545\n",
            "Test set accuracy (Precision@3) = 0.5643564356435643\n",
            "Epoch 30: Average Loss = 0.211630180478096\n"
          ]
        },
        {
          "name": "stderr",
          "output_type": "stream",
          "text": [
            "100%|██████████| 12/12 [00:00<00:00, 21.71it/s]\n",
            "100%|██████████| 4/4 [00:00<00:00, 15.44it/s]\n"
          ]
        },
        {
          "name": "stdout",
          "output_type": "stream",
          "text": [
            "Computing accuracy\n",
            "Test set accuracy (Precision@1) = 0.34653465346534656\n",
            "Test set accuracy (r_precision) = 0.20135075021246737\n",
            "Test set accuracy (Precision@3) = 0.5643564356435643\n",
            "Epoch 31: Average Loss = 0.20473802462220192\n"
          ]
        },
        {
          "name": "stderr",
          "output_type": "stream",
          "text": [
            "100%|██████████| 12/12 [00:00<00:00, 21.59it/s]\n",
            "100%|██████████| 4/4 [00:00<00:00, 13.87it/s]\n"
          ]
        },
        {
          "name": "stdout",
          "output_type": "stream",
          "text": [
            "Computing accuracy\n",
            "Test set accuracy (Precision@1) = 0.34653465346534656\n",
            "Test set accuracy (r_precision) = 0.2015054531827644\n",
            "Test set accuracy (Precision@3) = 0.5643564356435643\n",
            "Epoch 32: Average Loss = 0.2153366096317768\n"
          ]
        },
        {
          "name": "stderr",
          "output_type": "stream",
          "text": [
            "100%|██████████| 12/12 [00:00<00:00, 21.55it/s]\n",
            "100%|██████████| 4/4 [00:00<00:00, 15.20it/s]\n"
          ]
        },
        {
          "name": "stdout",
          "output_type": "stream",
          "text": [
            "Computing accuracy\n",
            "Test set accuracy (Precision@1) = 0.34653465346534656\n",
            "Test set accuracy (r_precision) = 0.2015054531827644\n",
            "Test set accuracy (Precision@3) = 0.5643564356435643\n",
            "Epoch 33: Average Loss = 0.20471759885549545\n"
          ]
        },
        {
          "name": "stderr",
          "output_type": "stream",
          "text": [
            "100%|██████████| 12/12 [00:00<00:00, 21.60it/s]\n",
            "100%|██████████| 4/4 [00:00<00:00, 15.40it/s]\n"
          ]
        },
        {
          "name": "stdout",
          "output_type": "stream",
          "text": [
            "Computing accuracy\n",
            "Test set accuracy (Precision@1) = 0.34653465346534656\n",
            "Test set accuracy (r_precision) = 0.2015054531827644\n",
            "Test set accuracy (Precision@3) = 0.5643564356435643\n",
            "Epoch 34: Average Loss = 0.21196811646223068\n"
          ]
        },
        {
          "name": "stderr",
          "output_type": "stream",
          "text": [
            "100%|██████████| 12/12 [00:00<00:00, 21.45it/s]\n",
            "100%|██████████| 4/4 [00:00<00:00, 15.14it/s]\n"
          ]
        },
        {
          "name": "stdout",
          "output_type": "stream",
          "text": [
            "Computing accuracy\n",
            "Test set accuracy (Precision@1) = 0.34653465346534656\n",
            "Test set accuracy (r_precision) = 0.20167326657427306\n",
            "Test set accuracy (Precision@3) = 0.5643564356435643\n",
            "Epoch 35: Average Loss = 0.2148869422574838\n"
          ]
        },
        {
          "name": "stderr",
          "output_type": "stream",
          "text": [
            "100%|██████████| 12/12 [00:00<00:00, 21.43it/s]\n",
            "100%|██████████| 4/4 [00:00<00:00, 14.51it/s]\n"
          ]
        },
        {
          "name": "stdout",
          "output_type": "stream",
          "text": [
            "Computing accuracy\n",
            "Test set accuracy (Precision@1) = 0.34653465346534656\n",
            "Test set accuracy (r_precision) = 0.20187953720133575\n",
            "Test set accuracy (Precision@3) = 0.5643564356435643\n",
            "Epoch 36: Average Loss = 0.21013892193635306\n"
          ]
        },
        {
          "name": "stderr",
          "output_type": "stream",
          "text": [
            "100%|██████████| 12/12 [00:00<00:00, 21.22it/s]\n",
            "100%|██████████| 4/4 [00:00<00:00, 14.87it/s]\n"
          ]
        },
        {
          "name": "stdout",
          "output_type": "stream",
          "text": [
            "Computing accuracy\n",
            "Test set accuracy (Precision@1) = 0.34653465346534656\n",
            "Test set accuracy (r_precision) = 0.20187953720133575\n",
            "Test set accuracy (Precision@3) = 0.5643564356435643\n",
            "Epoch 37: Average Loss = 0.21249298254648843\n"
          ]
        },
        {
          "name": "stderr",
          "output_type": "stream",
          "text": [
            "100%|██████████| 12/12 [00:00<00:00, 21.25it/s]\n",
            "100%|██████████| 4/4 [00:00<00:00, 14.19it/s]\n"
          ]
        },
        {
          "name": "stdout",
          "output_type": "stream",
          "text": [
            "Computing accuracy\n",
            "Test set accuracy (Precision@1) = 0.34653465346534656\n",
            "Test set accuracy (r_precision) = 0.20214008957236232\n",
            "Test set accuracy (Precision@3) = 0.5643564356435643\n",
            "Epoch 38: Average Loss = 0.2088684824605783\n"
          ]
        },
        {
          "name": "stderr",
          "output_type": "stream",
          "text": [
            "100%|██████████| 12/12 [00:00<00:00, 21.88it/s]\n",
            "100%|██████████| 4/4 [00:00<00:00, 15.04it/s]\n"
          ]
        },
        {
          "name": "stdout",
          "output_type": "stream",
          "text": [
            "Computing accuracy\n",
            "Test set accuracy (Precision@1) = 0.34653465346534656\n",
            "Test set accuracy (r_precision) = 0.20240064194338891\n",
            "Test set accuracy (Precision@3) = 0.5643564356435643\n",
            "Epoch 39: Average Loss = 0.21275544166564941\n"
          ]
        },
        {
          "name": "stderr",
          "output_type": "stream",
          "text": [
            "100%|██████████| 12/12 [00:00<00:00, 21.49it/s]\n",
            "100%|██████████| 4/4 [00:00<00:00, 15.36it/s]\n"
          ]
        },
        {
          "name": "stdout",
          "output_type": "stream",
          "text": [
            "Computing accuracy\n",
            "Test set accuracy (Precision@1) = 0.34653465346534656\n",
            "Test set accuracy (r_precision) = 0.20224593897309187\n",
            "Test set accuracy (Precision@3) = 0.5643564356435643\n",
            "Epoch 40: Average Loss = 0.2059198891123136\n"
          ]
        },
        {
          "name": "stderr",
          "output_type": "stream",
          "text": [
            "100%|██████████| 12/12 [00:00<00:00, 21.40it/s]\n",
            "100%|██████████| 4/4 [00:00<00:00, 14.56it/s]\n"
          ]
        },
        {
          "name": "stdout",
          "output_type": "stream",
          "text": [
            "Computing accuracy\n",
            "Test set accuracy (Precision@1) = 0.34653465346534656\n",
            "Test set accuracy (r_precision) = 0.20224593897309187\n",
            "Test set accuracy (Precision@3) = 0.5643564356435643\n",
            "Epoch 41: Average Loss = 0.21021058286229768\n"
          ]
        },
        {
          "name": "stderr",
          "output_type": "stream",
          "text": [
            "100%|██████████| 12/12 [00:00<00:00, 20.89it/s]\n",
            "100%|██████████| 4/4 [00:00<00:00, 15.40it/s]\n"
          ]
        },
        {
          "name": "stdout",
          "output_type": "stream",
          "text": [
            "Computing accuracy\n",
            "Test set accuracy (Precision@1) = 0.34653465346534656\n",
            "Test set accuracy (r_precision) = 0.20240825028619042\n",
            "Test set accuracy (Precision@3) = 0.5643564356435643\n",
            "Epoch 42: Average Loss = 0.21393724406758943\n"
          ]
        },
        {
          "name": "stderr",
          "output_type": "stream",
          "text": [
            "100%|██████████| 12/12 [00:00<00:00, 21.11it/s]\n",
            "100%|██████████| 4/4 [00:00<00:00, 15.46it/s]\n"
          ]
        },
        {
          "name": "stdout",
          "output_type": "stream",
          "text": [
            "Computing accuracy\n",
            "Test set accuracy (Precision@1) = 0.34653465346534656\n",
            "Test set accuracy (r_precision) = 0.20240825028619042\n",
            "Test set accuracy (Precision@3) = 0.5643564356435643\n",
            "Epoch 43: Average Loss = 0.2123043400545915\n"
          ]
        },
        {
          "name": "stderr",
          "output_type": "stream",
          "text": [
            "100%|██████████| 12/12 [00:00<00:00, 21.65it/s]\n",
            "100%|██████████| 4/4 [00:00<00:00, 14.52it/s]\n"
          ]
        },
        {
          "name": "stdout",
          "output_type": "stream",
          "text": [
            "Computing accuracy\n",
            "Test set accuracy (Precision@1) = 0.34653465346534656\n",
            "Test set accuracy (r_precision) = 0.20240825028619042\n",
            "Test set accuracy (Precision@3) = 0.5643564356435643\n",
            "Epoch 44: Average Loss = 0.21185768271485964\n"
          ]
        },
        {
          "name": "stderr",
          "output_type": "stream",
          "text": [
            "100%|██████████| 12/12 [00:00<00:00, 21.66it/s]\n",
            "100%|██████████| 4/4 [00:00<00:00, 15.13it/s]\n"
          ]
        },
        {
          "name": "stdout",
          "output_type": "stream",
          "text": [
            "Computing accuracy\n",
            "Test set accuracy (Precision@1) = 0.34653465346534656\n",
            "Test set accuracy (r_precision) = 0.20240825028619042\n",
            "Test set accuracy (Precision@3) = 0.5643564356435643\n",
            "Epoch 45: Average Loss = 0.20813802629709244\n"
          ]
        },
        {
          "name": "stderr",
          "output_type": "stream",
          "text": [
            "100%|██████████| 12/12 [00:00<00:00, 21.29it/s]\n",
            "100%|██████████| 4/4 [00:00<00:00, 14.54it/s]\n"
          ]
        },
        {
          "name": "stdout",
          "output_type": "stream",
          "text": [
            "Computing accuracy\n",
            "Test set accuracy (Precision@1) = 0.34653465346534656\n",
            "Test set accuracy (r_precision) = 0.2029315351966487\n",
            "Test set accuracy (Precision@3) = 0.5643564356435643\n",
            "Epoch 46: Average Loss = 0.210715401917696\n"
          ]
        },
        {
          "name": "stderr",
          "output_type": "stream",
          "text": [
            "100%|██████████| 12/12 [00:00<00:00, 21.71it/s]\n",
            "100%|██████████| 4/4 [00:00<00:00, 14.75it/s]\n"
          ]
        },
        {
          "name": "stdout",
          "output_type": "stream",
          "text": [
            "Computing accuracy\n",
            "Test set accuracy (Precision@1) = 0.33663366336633666\n",
            "Test set accuracy (r_precision) = 0.2029315351966487\n",
            "Test set accuracy (Precision@3) = 0.5643564356435643\n",
            "Epoch 47: Average Loss = 0.20445555821061134\n"
          ]
        },
        {
          "name": "stderr",
          "output_type": "stream",
          "text": [
            "100%|██████████| 12/12 [00:00<00:00, 21.51it/s]\n",
            "100%|██████████| 4/4 [00:00<00:00, 15.31it/s]\n"
          ]
        },
        {
          "name": "stdout",
          "output_type": "stream",
          "text": [
            "Computing accuracy\n",
            "Test set accuracy (Precision@1) = 0.33663366336633666\n",
            "Test set accuracy (r_precision) = 0.20325405155845436\n",
            "Test set accuracy (Precision@3) = 0.5643564356435643\n",
            "Epoch 48: Average Loss = 0.2062976062297821\n"
          ]
        },
        {
          "name": "stderr",
          "output_type": "stream",
          "text": [
            "100%|██████████| 12/12 [00:00<00:00, 21.28it/s]\n",
            "100%|██████████| 4/4 [00:00<00:00, 15.35it/s]\n"
          ]
        },
        {
          "name": "stdout",
          "output_type": "stream",
          "text": [
            "Computing accuracy\n",
            "Test set accuracy (Precision@1) = 0.33663366336633666\n",
            "Test set accuracy (r_precision) = 0.20325405155845436\n",
            "Test set accuracy (Precision@3) = 0.5643564356435643\n",
            "Epoch 49: Average Loss = 0.21432755018273988\n"
          ]
        },
        {
          "name": "stderr",
          "output_type": "stream",
          "text": [
            "100%|██████████| 12/12 [00:00<00:00, 21.19it/s]\n",
            "100%|██████████| 4/4 [00:00<00:00, 15.07it/s]\n"
          ]
        },
        {
          "name": "stdout",
          "output_type": "stream",
          "text": [
            "Computing accuracy\n",
            "Test set accuracy (Precision@1) = 0.33663366336633666\n",
            "Test set accuracy (r_precision) = 0.20325405155845436\n",
            "Test set accuracy (Precision@3) = 0.5643564356435643\n",
            "Epoch 50: Average Loss = 0.20699101810654005\n"
          ]
        },
        {
          "name": "stderr",
          "output_type": "stream",
          "text": [
            "100%|██████████| 12/12 [00:00<00:00, 21.35it/s]\n",
            "100%|██████████| 4/4 [00:00<00:00, 15.09it/s]\n"
          ]
        },
        {
          "name": "stdout",
          "output_type": "stream",
          "text": [
            "Computing accuracy\n",
            "Test set accuracy (Precision@1) = 0.33663366336633666\n",
            "Test set accuracy (r_precision) = 0.20325405155845436\n",
            "Test set accuracy (Precision@3) = 0.5643564356435643\n",
            "Epoch 51: Average Loss = 0.21594263116518655\n"
          ]
        },
        {
          "name": "stderr",
          "output_type": "stream",
          "text": [
            "100%|██████████| 12/12 [00:00<00:00, 21.69it/s]\n",
            "100%|██████████| 4/4 [00:00<00:00, 15.02it/s]\n"
          ]
        },
        {
          "name": "stdout",
          "output_type": "stream",
          "text": [
            "Computing accuracy\n",
            "Test set accuracy (Precision@1) = 0.33663366336633666\n",
            "Test set accuracy (r_precision) = 0.20325405155845436\n",
            "Test set accuracy (Precision@3) = 0.5643564356435643\n",
            "Epoch 52: Average Loss = 0.20388888319333395\n"
          ]
        },
        {
          "name": "stderr",
          "output_type": "stream",
          "text": [
            "100%|██████████| 12/12 [00:00<00:00, 21.35it/s]\n",
            "100%|██████████| 4/4 [00:00<00:00, 15.24it/s]\n"
          ]
        },
        {
          "name": "stdout",
          "output_type": "stream",
          "text": [
            "Computing accuracy\n",
            "Test set accuracy (Precision@1) = 0.33663366336633666\n",
            "Test set accuracy (r_precision) = 0.20325405155845436\n",
            "Test set accuracy (Precision@3) = 0.5643564356435643\n",
            "Epoch 53: Average Loss = 0.20737089837590852\n"
          ]
        },
        {
          "name": "stderr",
          "output_type": "stream",
          "text": [
            "100%|██████████| 12/12 [00:00<00:00, 21.29it/s]\n",
            "100%|██████████| 4/4 [00:00<00:00, 15.19it/s]\n"
          ]
        },
        {
          "name": "stdout",
          "output_type": "stream",
          "text": [
            "Computing accuracy\n",
            "Test set accuracy (Precision@1) = 0.33663366336633666\n",
            "Test set accuracy (r_precision) = 0.20325405155845436\n",
            "Test set accuracy (Precision@3) = 0.5643564356435643\n",
            "Epoch 54: Average Loss = 0.2107805460691452\n"
          ]
        },
        {
          "name": "stderr",
          "output_type": "stream",
          "text": [
            "100%|██████████| 12/12 [00:00<00:00, 21.55it/s]\n",
            "100%|██████████| 4/4 [00:00<00:00, 15.30it/s]\n"
          ]
        },
        {
          "name": "stdout",
          "output_type": "stream",
          "text": [
            "Computing accuracy\n",
            "Test set accuracy (Precision@1) = 0.33663366336633666\n",
            "Test set accuracy (r_precision) = 0.20325405155845436\n",
            "Test set accuracy (Precision@3) = 0.5643564356435643\n",
            "Epoch 55: Average Loss = 0.20275219654043516\n"
          ]
        },
        {
          "name": "stderr",
          "output_type": "stream",
          "text": [
            "100%|██████████| 12/12 [00:00<00:00, 21.54it/s]\n",
            "100%|██████████| 4/4 [00:00<00:00, 15.02it/s]\n"
          ]
        },
        {
          "name": "stdout",
          "output_type": "stream",
          "text": [
            "Computing accuracy\n",
            "Test set accuracy (Precision@1) = 0.33663366336633666\n",
            "Test set accuracy (r_precision) = 0.20325405155845436\n",
            "Test set accuracy (Precision@3) = 0.5643564356435643\n",
            "Epoch 56: Average Loss = 0.20740380759040514\n"
          ]
        },
        {
          "name": "stderr",
          "output_type": "stream",
          "text": [
            "100%|██████████| 12/12 [00:00<00:00, 21.58it/s]\n",
            "100%|██████████| 4/4 [00:00<00:00, 15.02it/s]\n"
          ]
        },
        {
          "name": "stdout",
          "output_type": "stream",
          "text": [
            "Computing accuracy\n",
            "Test set accuracy (Precision@1) = 0.33663366336633666\n",
            "Test set accuracy (r_precision) = 0.20325405155845436\n",
            "Test set accuracy (Precision@3) = 0.5643564356435643\n",
            "Epoch 57: Average Loss = 0.2053655224541823\n"
          ]
        },
        {
          "name": "stderr",
          "output_type": "stream",
          "text": [
            "100%|██████████| 12/12 [00:00<00:00, 21.43it/s]\n",
            "100%|██████████| 4/4 [00:00<00:00, 15.25it/s]\n"
          ]
        },
        {
          "name": "stdout",
          "output_type": "stream",
          "text": [
            "Computing accuracy\n",
            "Test set accuracy (Precision@1) = 0.33663366336633666\n",
            "Test set accuracy (r_precision) = 0.20325405155845436\n",
            "Test set accuracy (Precision@3) = 0.5643564356435643\n",
            "Epoch 58: Average Loss = 0.21074855203429857\n"
          ]
        },
        {
          "name": "stderr",
          "output_type": "stream",
          "text": [
            "100%|██████████| 12/12 [00:00<00:00, 20.97it/s]\n",
            "100%|██████████| 4/4 [00:00<00:00, 14.38it/s]\n"
          ]
        },
        {
          "name": "stdout",
          "output_type": "stream",
          "text": [
            "Computing accuracy\n",
            "Test set accuracy (Precision@1) = 0.33663366336633666\n",
            "Test set accuracy (r_precision) = 0.20325405155845436\n",
            "Test set accuracy (Precision@3) = 0.5643564356435643\n",
            "Epoch 59: Average Loss = 0.20968671639760336\n"
          ]
        },
        {
          "name": "stderr",
          "output_type": "stream",
          "text": [
            "100%|██████████| 12/12 [00:00<00:00, 20.97it/s]\n",
            "100%|██████████| 4/4 [00:00<00:00, 14.71it/s]\n"
          ]
        },
        {
          "name": "stdout",
          "output_type": "stream",
          "text": [
            "Computing accuracy\n",
            "Test set accuracy (Precision@1) = 0.32673267326732675\n",
            "Test set accuracy (r_precision) = 0.20316131257893644\n",
            "Test set accuracy (Precision@3) = 0.5643564356435643\n",
            "Epoch 60: Average Loss = 0.21143889799714088\n"
          ]
        },
        {
          "name": "stderr",
          "output_type": "stream",
          "text": [
            "100%|██████████| 12/12 [00:00<00:00, 21.28it/s]\n",
            "100%|██████████| 4/4 [00:00<00:00, 14.63it/s]\n"
          ]
        },
        {
          "name": "stdout",
          "output_type": "stream",
          "text": [
            "Computing accuracy\n",
            "Test set accuracy (Precision@1) = 0.32673267326732675\n",
            "Test set accuracy (r_precision) = 0.20316131257893644\n",
            "Test set accuracy (Precision@3) = 0.5643564356435643\n",
            "Epoch 61: Average Loss = 0.21366534506281218\n"
          ]
        },
        {
          "name": "stderr",
          "output_type": "stream",
          "text": [
            "100%|██████████| 12/12 [00:00<00:00, 21.72it/s]\n",
            "100%|██████████| 4/4 [00:00<00:00, 14.89it/s]\n"
          ]
        },
        {
          "name": "stdout",
          "output_type": "stream",
          "text": [
            "Computing accuracy\n",
            "Test set accuracy (Precision@1) = 0.32673267326732675\n",
            "Test set accuracy (r_precision) = 0.20331601554923345\n",
            "Test set accuracy (Precision@3) = 0.5643564356435643\n",
            "Epoch 62: Average Loss = 0.22089306140939394\n"
          ]
        },
        {
          "name": "stderr",
          "output_type": "stream",
          "text": [
            "100%|██████████| 12/12 [00:00<00:00, 21.66it/s]\n",
            "100%|██████████| 4/4 [00:00<00:00, 14.90it/s]\n"
          ]
        },
        {
          "name": "stdout",
          "output_type": "stream",
          "text": [
            "Computing accuracy\n",
            "Test set accuracy (Precision@1) = 0.32673267326732675\n",
            "Test set accuracy (r_precision) = 0.20331601554923345\n",
            "Test set accuracy (Precision@3) = 0.5643564356435643\n",
            "Epoch 63: Average Loss = 0.21230371793111166\n"
          ]
        },
        {
          "name": "stderr",
          "output_type": "stream",
          "text": [
            "100%|██████████| 12/12 [00:00<00:00, 21.50it/s]\n",
            "100%|██████████| 4/4 [00:00<00:00, 15.28it/s]\n"
          ]
        },
        {
          "name": "stdout",
          "output_type": "stream",
          "text": [
            "Computing accuracy\n",
            "Test set accuracy (Precision@1) = 0.32673267326732675\n",
            "Test set accuracy (r_precision) = 0.20331601554923345\n",
            "Test set accuracy (Precision@3) = 0.5643564356435643\n",
            "Epoch 64: Average Loss = 0.20359900842110315\n"
          ]
        },
        {
          "name": "stderr",
          "output_type": "stream",
          "text": [
            "100%|██████████| 12/12 [00:00<00:00, 20.85it/s]\n",
            "100%|██████████| 4/4 [00:00<00:00, 15.12it/s]\n"
          ]
        },
        {
          "name": "stdout",
          "output_type": "stream",
          "text": [
            "Computing accuracy\n",
            "Test set accuracy (Precision@1) = 0.32673267326732675\n",
            "Test set accuracy (r_precision) = 0.20331601554923345\n",
            "Test set accuracy (Precision@3) = 0.5643564356435643\n",
            "Epoch 65: Average Loss = 0.20791831240057945\n"
          ]
        },
        {
          "name": "stderr",
          "output_type": "stream",
          "text": [
            "100%|██████████| 12/12 [00:00<00:00, 21.40it/s]\n",
            "100%|██████████| 4/4 [00:00<00:00, 15.33it/s]\n"
          ]
        },
        {
          "name": "stdout",
          "output_type": "stream",
          "text": [
            "Computing accuracy\n",
            "Test set accuracy (Precision@1) = 0.32673267326732675\n",
            "Test set accuracy (r_precision) = 0.2036827188862338\n",
            "Test set accuracy (Precision@3) = 0.5643564356435643\n",
            "Epoch 66: Average Loss = 0.20657687882582346\n"
          ]
        },
        {
          "name": "stderr",
          "output_type": "stream",
          "text": [
            "100%|██████████| 12/12 [00:00<00:00, 21.71it/s]\n",
            "100%|██████████| 4/4 [00:00<00:00, 15.44it/s]\n"
          ]
        },
        {
          "name": "stdout",
          "output_type": "stream",
          "text": [
            "Computing accuracy\n",
            "Test set accuracy (Precision@1) = 0.32673267326732675\n",
            "Test set accuracy (r_precision) = 0.20385053227774247\n",
            "Test set accuracy (Precision@3) = 0.5643564356435643\n",
            "Epoch 67: Average Loss = 0.2085389755666256\n"
          ]
        },
        {
          "name": "stderr",
          "output_type": "stream",
          "text": [
            "100%|██████████| 12/12 [00:00<00:00, 21.09it/s]\n",
            "100%|██████████| 4/4 [00:00<00:00, 14.74it/s]\n"
          ]
        },
        {
          "name": "stdout",
          "output_type": "stream",
          "text": [
            "Computing accuracy\n",
            "Test set accuracy (Precision@1) = 0.32673267326732675\n",
            "Test set accuracy (r_precision) = 0.20385053227774247\n",
            "Test set accuracy (Precision@3) = 0.5643564356435643\n",
            "Epoch 68: Average Loss = 0.21132622038324675\n"
          ]
        },
        {
          "name": "stderr",
          "output_type": "stream",
          "text": [
            "100%|██████████| 12/12 [00:00<00:00, 21.37it/s]\n",
            "100%|██████████| 4/4 [00:00<00:00, 15.03it/s]\n"
          ]
        },
        {
          "name": "stdout",
          "output_type": "stream",
          "text": [
            "Computing accuracy\n",
            "Test set accuracy (Precision@1) = 0.32673267326732675\n",
            "Test set accuracy (r_precision) = 0.20401834566925112\n",
            "Test set accuracy (Precision@3) = 0.5643564356435643\n",
            "Epoch 69: Average Loss = 0.2084085134168466\n"
          ]
        },
        {
          "name": "stderr",
          "output_type": "stream",
          "text": [
            "100%|██████████| 12/12 [00:00<00:00, 21.24it/s]\n",
            "100%|██████████| 4/4 [00:00<00:00, 15.18it/s]\n"
          ]
        },
        {
          "name": "stdout",
          "output_type": "stream",
          "text": [
            "Computing accuracy\n",
            "Test set accuracy (Precision@1) = 0.32673267326732675\n",
            "Test set accuracy (r_precision) = 0.20401834566925112\n",
            "Test set accuracy (Precision@3) = 0.5643564356435643\n",
            "Epoch 70: Average Loss = 0.20861118535200754\n"
          ]
        },
        {
          "name": "stderr",
          "output_type": "stream",
          "text": [
            "100%|██████████| 12/12 [00:00<00:00, 21.59it/s]\n",
            "100%|██████████| 4/4 [00:00<00:00, 15.28it/s]\n"
          ]
        },
        {
          "name": "stdout",
          "output_type": "stream",
          "text": [
            "Computing accuracy\n",
            "Test set accuracy (Precision@1) = 0.32673267326732675\n",
            "Test set accuracy (r_precision) = 0.20401834566925112\n",
            "Test set accuracy (Precision@3) = 0.5643564356435643\n",
            "Epoch 71: Average Loss = 0.21159790828824043\n"
          ]
        },
        {
          "name": "stderr",
          "output_type": "stream",
          "text": [
            "100%|██████████| 12/12 [00:00<00:00, 21.60it/s]\n",
            "100%|██████████| 4/4 [00:00<00:00, 15.12it/s]\n"
          ]
        },
        {
          "name": "stdout",
          "output_type": "stream",
          "text": [
            "Computing accuracy\n",
            "Test set accuracy (Precision@1) = 0.32673267326732675\n",
            "Test set accuracy (r_precision) = 0.20401834566925112\n",
            "Test set accuracy (Precision@3) = 0.5643564356435643\n",
            "Epoch 72: Average Loss = 0.2152723049124082\n"
          ]
        },
        {
          "name": "stderr",
          "output_type": "stream",
          "text": [
            "100%|██████████| 12/12 [00:00<00:00, 20.95it/s]\n",
            "100%|██████████| 4/4 [00:00<00:00, 14.90it/s]\n"
          ]
        },
        {
          "name": "stdout",
          "output_type": "stream",
          "text": [
            "Computing accuracy\n",
            "Test set accuracy (Precision@1) = 0.33663366336633666\n",
            "Test set accuracy (r_precision) = 0.20370133138585553\n",
            "Test set accuracy (Precision@3) = 0.5643564356435643\n",
            "Epoch 73: Average Loss = 0.2151088503499826\n"
          ]
        },
        {
          "name": "stderr",
          "output_type": "stream",
          "text": [
            "100%|██████████| 12/12 [00:00<00:00, 21.81it/s]\n",
            "100%|██████████| 4/4 [00:00<00:00, 15.17it/s]\n"
          ]
        },
        {
          "name": "stdout",
          "output_type": "stream",
          "text": [
            "Computing accuracy\n",
            "Test set accuracy (Precision@1) = 0.33663366336633666\n",
            "Test set accuracy (r_precision) = 0.20370133138585553\n",
            "Test set accuracy (Precision@3) = 0.5643564356435643\n",
            "Epoch 74: Average Loss = 0.21654114499688148\n"
          ]
        },
        {
          "name": "stderr",
          "output_type": "stream",
          "text": [
            "100%|██████████| 12/12 [00:00<00:00, 21.59it/s]\n",
            "100%|██████████| 4/4 [00:00<00:00, 15.09it/s]\n"
          ]
        },
        {
          "name": "stdout",
          "output_type": "stream",
          "text": [
            "Computing accuracy\n",
            "Test set accuracy (Precision@1) = 0.33663366336633666\n",
            "Test set accuracy (r_precision) = 0.20370133138585553\n",
            "Test set accuracy (Precision@3) = 0.5643564356435643\n",
            "Epoch 75: Average Loss = 0.20258694887161255\n"
          ]
        },
        {
          "name": "stderr",
          "output_type": "stream",
          "text": [
            "100%|██████████| 12/12 [00:00<00:00, 21.63it/s]\n",
            "100%|██████████| 4/4 [00:00<00:00, 15.19it/s]\n"
          ]
        },
        {
          "name": "stdout",
          "output_type": "stream",
          "text": [
            "Computing accuracy\n",
            "Test set accuracy (Precision@1) = 0.33663366336633666\n",
            "Test set accuracy (r_precision) = 0.20370133138585553\n",
            "Test set accuracy (Precision@3) = 0.5643564356435643\n",
            "Epoch 76: Average Loss = 0.21423485750953355\n"
          ]
        },
        {
          "name": "stderr",
          "output_type": "stream",
          "text": [
            "100%|██████████| 12/12 [00:00<00:00, 21.49it/s]\n",
            "100%|██████████| 4/4 [00:00<00:00, 14.90it/s]\n"
          ]
        },
        {
          "name": "stdout",
          "output_type": "stream",
          "text": [
            "Computing accuracy\n",
            "Test set accuracy (Precision@1) = 0.33663366336633666\n",
            "Test set accuracy (r_precision) = 0.20370133138585553\n",
            "Test set accuracy (Precision@3) = 0.5643564356435643\n",
            "Epoch 77: Average Loss = 0.21445497497916222\n"
          ]
        },
        {
          "name": "stderr",
          "output_type": "stream",
          "text": [
            "100%|██████████| 12/12 [00:00<00:00, 21.44it/s]\n",
            "100%|██████████| 4/4 [00:00<00:00, 15.05it/s]\n"
          ]
        },
        {
          "name": "stdout",
          "output_type": "stream",
          "text": [
            "Computing accuracy\n",
            "Test set accuracy (Precision@1) = 0.33663366336633666\n",
            "Test set accuracy (r_precision) = 0.20410513026234456\n",
            "Test set accuracy (Precision@3) = 0.5643564356435643\n",
            "Epoch 78: Average Loss = 0.20718611404299736\n"
          ]
        },
        {
          "name": "stderr",
          "output_type": "stream",
          "text": [
            "100%|██████████| 12/12 [00:00<00:00, 21.24it/s]\n",
            "100%|██████████| 4/4 [00:00<00:00, 15.16it/s]\n"
          ]
        },
        {
          "name": "stdout",
          "output_type": "stream",
          "text": [
            "Computing accuracy\n",
            "Test set accuracy (Precision@1) = 0.33663366336633666\n",
            "Test set accuracy (r_precision) = 0.20414908957630876\n",
            "Test set accuracy (Precision@3) = 0.5643564356435643\n",
            "Epoch 79: Average Loss = 0.21918252234657606\n"
          ]
        },
        {
          "name": "stderr",
          "output_type": "stream",
          "text": [
            "100%|██████████| 12/12 [00:00<00:00, 21.81it/s]\n",
            "100%|██████████| 4/4 [00:00<00:00, 15.25it/s]\n"
          ]
        },
        {
          "name": "stdout",
          "output_type": "stream",
          "text": [
            "Computing accuracy\n",
            "Test set accuracy (Precision@1) = 0.33663366336633666\n",
            "Test set accuracy (r_precision) = 0.20447371220250576\n",
            "Test set accuracy (Precision@3) = 0.5643564356435643\n",
            "Epoch 80: Average Loss = 0.21501388400793076\n"
          ]
        },
        {
          "name": "stderr",
          "output_type": "stream",
          "text": [
            "100%|██████████| 12/12 [00:00<00:00, 21.30it/s]\n",
            "100%|██████████| 4/4 [00:00<00:00, 14.85it/s]\n"
          ]
        },
        {
          "name": "stdout",
          "output_type": "stream",
          "text": [
            "Computing accuracy\n",
            "Test set accuracy (Precision@1) = 0.33663366336633666\n",
            "Test set accuracy (r_precision) = 0.20431140088940725\n",
            "Test set accuracy (Precision@3) = 0.5643564356435643\n",
            "Epoch 81: Average Loss = 0.21034140015641847\n"
          ]
        },
        {
          "name": "stderr",
          "output_type": "stream",
          "text": [
            "100%|██████████| 12/12 [00:00<00:00, 21.36it/s]\n",
            "100%|██████████| 4/4 [00:00<00:00, 15.27it/s]\n"
          ]
        },
        {
          "name": "stdout",
          "output_type": "stream",
          "text": [
            "Computing accuracy\n",
            "Test set accuracy (Precision@1) = 0.33663366336633666\n",
            "Test set accuracy (r_precision) = 0.20493021277059537\n",
            "Test set accuracy (Precision@3) = 0.5643564356435643\n",
            "Epoch 82: Average Loss = 0.2080476942161719\n"
          ]
        },
        {
          "name": "stderr",
          "output_type": "stream",
          "text": [
            "100%|██████████| 12/12 [00:00<00:00, 21.49it/s]\n",
            "100%|██████████| 4/4 [00:00<00:00, 14.99it/s]\n"
          ]
        },
        {
          "name": "stdout",
          "output_type": "stream",
          "text": [
            "Computing accuracy\n",
            "Test set accuracy (Precision@1) = 0.33663366336633666\n",
            "Test set accuracy (r_precision) = 0.20476239937908672\n",
            "Test set accuracy (Precision@3) = 0.5643564356435643\n",
            "Epoch 83: Average Loss = 0.21088068932294846\n"
          ]
        },
        {
          "name": "stderr",
          "output_type": "stream",
          "text": [
            "100%|██████████| 12/12 [00:00<00:00, 20.50it/s]\n",
            "100%|██████████| 4/4 [00:00<00:00, 15.28it/s]\n"
          ]
        },
        {
          "name": "stdout",
          "output_type": "stream",
          "text": [
            "Computing accuracy\n",
            "Test set accuracy (Precision@1) = 0.33663366336633666\n",
            "Test set accuracy (r_precision) = 0.20476239937908672\n",
            "Test set accuracy (Precision@3) = 0.5643564356435643\n",
            "Epoch 84: Average Loss = 0.2174274797240893\n"
          ]
        },
        {
          "name": "stderr",
          "output_type": "stream",
          "text": [
            "100%|██████████| 12/12 [00:00<00:00, 21.45it/s]\n",
            "100%|██████████| 4/4 [00:00<00:00, 15.23it/s]\n"
          ]
        },
        {
          "name": "stdout",
          "output_type": "stream",
          "text": [
            "Computing accuracy\n",
            "Test set accuracy (Precision@1) = 0.33663366336633666\n",
            "Test set accuracy (r_precision) = 0.20493021277059537\n",
            "Test set accuracy (Precision@3) = 0.5643564356435643\n",
            "Epoch 85: Average Loss = 0.21544475480914116\n"
          ]
        },
        {
          "name": "stderr",
          "output_type": "stream",
          "text": [
            "100%|██████████| 12/12 [00:00<00:00, 21.47it/s]\n",
            "100%|██████████| 4/4 [00:00<00:00, 15.12it/s]\n"
          ]
        },
        {
          "name": "stdout",
          "output_type": "stream",
          "text": [
            "Computing accuracy\n",
            "Test set accuracy (Precision@1) = 0.33663366336633666\n",
            "Test set accuracy (r_precision) = 0.20493021277059537\n",
            "Test set accuracy (Precision@3) = 0.5643564356435643\n",
            "Epoch 86: Average Loss = 0.21689177180329958\n"
          ]
        },
        {
          "name": "stderr",
          "output_type": "stream",
          "text": [
            "100%|██████████| 12/12 [00:00<00:00, 21.51it/s]\n",
            "100%|██████████| 4/4 [00:00<00:00, 14.86it/s]\n"
          ]
        },
        {
          "name": "stdout",
          "output_type": "stream",
          "text": [
            "Computing accuracy\n",
            "Test set accuracy (Precision@1) = 0.33663366336633666\n",
            "Test set accuracy (r_precision) = 0.20431140088940725\n",
            "Test set accuracy (Precision@3) = 0.5643564356435643\n",
            "Epoch 87: Average Loss = 0.20521656051278114\n"
          ]
        },
        {
          "name": "stderr",
          "output_type": "stream",
          "text": [
            "100%|██████████| 12/12 [00:00<00:00, 21.48it/s]\n",
            "100%|██████████| 4/4 [00:00<00:00, 15.24it/s]\n"
          ]
        },
        {
          "name": "stdout",
          "output_type": "stream",
          "text": [
            "Computing accuracy\n",
            "Test set accuracy (Precision@1) = 0.33663366336633666\n",
            "Test set accuracy (r_precision) = 0.20314360946736573\n",
            "Test set accuracy (Precision@3) = 0.5643564356435643\n",
            "Epoch 88: Average Loss = 0.21461800982554755\n"
          ]
        },
        {
          "name": "stderr",
          "output_type": "stream",
          "text": [
            "100%|██████████| 12/12 [00:00<00:00, 20.89it/s]\n",
            "100%|██████████| 4/4 [00:00<00:00, 14.53it/s]\n"
          ]
        },
        {
          "name": "stdout",
          "output_type": "stream",
          "text": [
            "Computing accuracy\n",
            "Test set accuracy (Precision@1) = 0.33663366336633666\n",
            "Test set accuracy (r_precision) = 0.20314360946736573\n",
            "Test set accuracy (Precision@3) = 0.5643564356435643\n",
            "Epoch 89: Average Loss = 0.20880181839068732\n"
          ]
        },
        {
          "name": "stderr",
          "output_type": "stream",
          "text": [
            "100%|██████████| 12/12 [00:00<00:00, 21.57it/s]\n",
            "100%|██████████| 4/4 [00:00<00:00, 15.36it/s]\n"
          ]
        },
        {
          "name": "stdout",
          "output_type": "stream",
          "text": [
            "Computing accuracy\n",
            "Test set accuracy (Precision@1) = 0.33663366336633666\n",
            "Test set accuracy (r_precision) = 0.20340416183839233\n",
            "Test set accuracy (Precision@3) = 0.5643564356435643\n",
            "Epoch 90: Average Loss = 0.21235348780949911\n"
          ]
        },
        {
          "name": "stderr",
          "output_type": "stream",
          "text": [
            "100%|██████████| 12/12 [00:00<00:00, 21.37it/s]\n",
            "100%|██████████| 4/4 [00:00<00:00, 14.96it/s]\n"
          ]
        },
        {
          "name": "stdout",
          "output_type": "stream",
          "text": [
            "Computing accuracy\n",
            "Test set accuracy (Precision@1) = 0.33663366336633666\n",
            "Test set accuracy (r_precision) = 0.20314360946736573\n",
            "Test set accuracy (Precision@3) = 0.5643564356435643\n",
            "Epoch 91: Average Loss = 0.20725508034229279\n"
          ]
        },
        {
          "name": "stderr",
          "output_type": "stream",
          "text": [
            "100%|██████████| 12/12 [00:00<00:00, 21.19it/s]\n",
            "100%|██████████| 4/4 [00:00<00:00, 14.91it/s]\n"
          ]
        },
        {
          "name": "stdout",
          "output_type": "stream",
          "text": [
            "Computing accuracy\n",
            "Test set accuracy (Precision@1) = 0.33663366336633666\n",
            "Test set accuracy (r_precision) = 0.20314360946736573\n",
            "Test set accuracy (Precision@3) = 0.5643564356435643\n",
            "Epoch 92: Average Loss = 0.2056352160871029\n"
          ]
        },
        {
          "name": "stderr",
          "output_type": "stream",
          "text": [
            "100%|██████████| 12/12 [00:00<00:00, 21.41it/s]\n",
            "100%|██████████| 4/4 [00:00<00:00, 14.95it/s]\n"
          ]
        },
        {
          "name": "stdout",
          "output_type": "stream",
          "text": [
            "Computing accuracy\n",
            "Test set accuracy (Precision@1) = 0.33663366336633666\n",
            "Test set accuracy (r_precision) = 0.20340416183839233\n",
            "Test set accuracy (Precision@3) = 0.5643564356435643\n",
            "Epoch 93: Average Loss = 0.21035382772485414\n"
          ]
        },
        {
          "name": "stderr",
          "output_type": "stream",
          "text": [
            "100%|██████████| 12/12 [00:00<00:00, 21.08it/s]\n",
            "100%|██████████| 4/4 [00:00<00:00, 15.23it/s]\n"
          ]
        },
        {
          "name": "stdout",
          "output_type": "stream",
          "text": [
            "Computing accuracy\n",
            "Test set accuracy (Precision@1) = 0.33663366336633666\n",
            "Test set accuracy (r_precision) = 0.20340416183839233\n",
            "Test set accuracy (Precision@3) = 0.5643564356435643\n",
            "Epoch 94: Average Loss = 0.21708425506949425\n"
          ]
        },
        {
          "name": "stderr",
          "output_type": "stream",
          "text": [
            "100%|██████████| 12/12 [00:00<00:00, 21.07it/s]\n",
            "100%|██████████| 4/4 [00:00<00:00, 15.01it/s]\n"
          ]
        },
        {
          "name": "stdout",
          "output_type": "stream",
          "text": [
            "Computing accuracy\n",
            "Test set accuracy (Precision@1) = 0.33663366336633666\n",
            "Test set accuracy (r_precision) = 0.20340416183839233\n",
            "Test set accuracy (Precision@3) = 0.5643564356435643\n",
            "Epoch 95: Average Loss = 0.21269038816293082\n"
          ]
        },
        {
          "name": "stderr",
          "output_type": "stream",
          "text": [
            "100%|██████████| 12/12 [00:00<00:00, 21.47it/s]\n",
            "100%|██████████| 4/4 [00:00<00:00, 15.21it/s]\n"
          ]
        },
        {
          "name": "stdout",
          "output_type": "stream",
          "text": [
            "Computing accuracy\n",
            "Test set accuracy (Precision@1) = 0.33663366336633666\n",
            "Test set accuracy (r_precision) = 0.2036341499940023\n",
            "Test set accuracy (Precision@3) = 0.5643564356435643\n",
            "Epoch 96: Average Loss = 0.20937137926618257\n"
          ]
        },
        {
          "name": "stderr",
          "output_type": "stream",
          "text": [
            "100%|██████████| 12/12 [00:00<00:00, 21.22it/s]\n",
            "100%|██████████| 4/4 [00:00<00:00, 15.06it/s]\n"
          ]
        },
        {
          "name": "stdout",
          "output_type": "stream",
          "text": [
            "Computing accuracy\n",
            "Test set accuracy (Precision@1) = 0.33663366336633666\n",
            "Test set accuracy (r_precision) = 0.2036341499940023\n",
            "Test set accuracy (Precision@3) = 0.5643564356435643\n",
            "Epoch 97: Average Loss = 0.20921631281574568\n"
          ]
        },
        {
          "name": "stderr",
          "output_type": "stream",
          "text": [
            "100%|██████████| 12/12 [00:00<00:00, 20.49it/s]\n",
            "100%|██████████| 4/4 [00:00<00:00, 14.99it/s]\n"
          ]
        },
        {
          "name": "stdout",
          "output_type": "stream",
          "text": [
            "Computing accuracy\n",
            "Test set accuracy (Precision@1) = 0.33663366336633666\n",
            "Test set accuracy (r_precision) = 0.2033926624306118\n",
            "Test set accuracy (Precision@3) = 0.5643564356435643\n",
            "Epoch 98: Average Loss = 0.20780881866812706\n"
          ]
        },
        {
          "name": "stderr",
          "output_type": "stream",
          "text": [
            "100%|██████████| 12/12 [00:00<00:00, 20.99it/s]\n",
            "100%|██████████| 4/4 [00:00<00:00, 15.27it/s]\n"
          ]
        },
        {
          "name": "stdout",
          "output_type": "stream",
          "text": [
            "Computing accuracy\n",
            "Test set accuracy (Precision@1) = 0.33663366336633666\n",
            "Test set accuracy (r_precision) = 0.20356047582212045\n",
            "Test set accuracy (Precision@3) = 0.5643564356435643\n",
            "Epoch 99: Average Loss = 0.21440453206499419\n"
          ]
        },
        {
          "name": "stderr",
          "output_type": "stream",
          "text": [
            "100%|██████████| 12/12 [00:00<00:00, 21.48it/s]\n",
            "100%|██████████| 4/4 [00:00<00:00, 15.01it/s]\n"
          ]
        },
        {
          "name": "stdout",
          "output_type": "stream",
          "text": [
            "Computing accuracy\n",
            "Test set accuracy (Precision@1) = 0.33663366336633666\n",
            "Test set accuracy (r_precision) = 0.20356047582212045\n",
            "Test set accuracy (Precision@3) = 0.5643564356435643\n",
            "Epoch 100: Average Loss = 0.20723124345143637\n"
          ]
        },
        {
          "name": "stderr",
          "output_type": "stream",
          "text": [
            "100%|██████████| 12/12 [00:00<00:00, 21.21it/s]\n",
            "100%|██████████| 4/4 [00:00<00:00, 14.74it/s]\n"
          ]
        },
        {
          "name": "stdout",
          "output_type": "stream",
          "text": [
            "Computing accuracy\n",
            "Test set accuracy (Precision@1) = 0.33663366336633666\n",
            "Test set accuracy (r_precision) = 0.20356047582212045\n",
            "Test set accuracy (Precision@3) = 0.5643564356435643\n",
            "[0.2370631955564022, 0.21830178797245026, 0.2129812054336071, 0.21720047543446222, 0.21013182401657104, 0.2170532370607058, 0.21588941663503647, 0.21246536200245222, 0.21958190451065698, 0.21645473316311836, 0.21734571953614554, 0.21061806504925093, 0.20549897228678068, 0.21736890077590942, 0.2121636817852656, 0.21531577284137407, 0.21471822261810303, 0.21624950940410295, 0.21528909107049307, 0.20737763618429503, 0.20707306390007338, 0.20832855006059012, 0.2039544607202212, 0.21896622329950333, 0.20515966912110647, 0.21675814564029375, 0.2142590507864952, 0.21312747399012247, 0.21123144154747328, 0.211630180478096, 0.20473802462220192, 0.2153366096317768, 0.20471759885549545, 0.21196811646223068, 0.2148869422574838, 0.21013892193635306, 0.21249298254648843, 0.2088684824605783, 0.21275544166564941, 0.2059198891123136, 0.21021058286229768, 0.21393724406758943, 0.2123043400545915, 0.21185768271485964, 0.20813802629709244, 0.210715401917696, 0.20445555821061134, 0.2062976062297821, 0.21432755018273988, 0.20699101810654005, 0.21594263116518655, 0.20388888319333395, 0.20737089837590852, 0.2107805460691452, 0.20275219654043516, 0.20740380759040514, 0.2053655224541823, 0.21074855203429857, 0.20968671639760336, 0.21143889799714088, 0.21366534506281218, 0.22089306140939394, 0.21230371793111166, 0.20359900842110315, 0.20791831240057945, 0.20657687882582346, 0.2085389755666256, 0.21132622038324675, 0.2084085134168466, 0.20861118535200754, 0.21159790828824043, 0.2152723049124082, 0.2151088503499826, 0.21654114499688148, 0.20258694887161255, 0.21423485750953355, 0.21445497497916222, 0.20718611404299736, 0.21918252234657606, 0.21501388400793076, 0.21034140015641847, 0.2080476942161719, 0.21088068932294846, 0.2174274797240893, 0.21544475480914116, 0.21689177180329958, 0.20521656051278114, 0.21461800982554755, 0.20880181839068732, 0.21235348780949911, 0.20725508034229279, 0.2056352160871029, 0.21035382772485414, 0.21708425506949425, 0.21269038816293082, 0.20937137926618257, 0.20921631281574568, 0.20780881866812706, 0.21440453206499419, 0.20723124345143637]\n",
            "[0.2871287128712871, 0.24752475247524752, 0.3069306930693069, 0.2871287128712871, 0.2376237623762376, 0.26732673267326734, 0.27722772277227725, 0.2871287128712871, 0.27722772277227725, 0.2871287128712871, 0.27722772277227725, 0.27722772277227725, 0.2871287128712871, 0.27722772277227725, 0.2871287128712871, 0.31683168316831684, 0.32673267326732675, 0.3564356435643564, 0.3564356435643564, 0.3564356435643564, 0.3564356435643564, 0.3564356435643564, 0.3564356435643564, 0.3564356435643564, 0.34653465346534656, 0.34653465346534656, 0.34653465346534656, 0.34653465346534656, 0.34653465346534656, 0.34653465346534656, 0.34653465346534656, 0.34653465346534656, 0.34653465346534656, 0.34653465346534656, 0.34653465346534656, 0.34653465346534656, 0.34653465346534656, 0.34653465346534656, 0.34653465346534656, 0.34653465346534656, 0.34653465346534656, 0.34653465346534656, 0.34653465346534656, 0.34653465346534656, 0.34653465346534656, 0.33663366336633666, 0.33663366336633666, 0.33663366336633666, 0.33663366336633666, 0.33663366336633666, 0.33663366336633666, 0.33663366336633666, 0.33663366336633666, 0.33663366336633666, 0.33663366336633666, 0.33663366336633666, 0.33663366336633666, 0.33663366336633666, 0.32673267326732675, 0.32673267326732675, 0.32673267326732675, 0.32673267326732675, 0.32673267326732675, 0.32673267326732675, 0.32673267326732675, 0.32673267326732675, 0.32673267326732675, 0.32673267326732675, 0.32673267326732675, 0.32673267326732675, 0.32673267326732675, 0.33663366336633666, 0.33663366336633666, 0.33663366336633666, 0.33663366336633666, 0.33663366336633666, 0.33663366336633666, 0.33663366336633666, 0.33663366336633666, 0.33663366336633666, 0.33663366336633666, 0.33663366336633666, 0.33663366336633666, 0.33663366336633666, 0.33663366336633666, 0.33663366336633666, 0.33663366336633666, 0.33663366336633666, 0.33663366336633666, 0.33663366336633666, 0.33663366336633666, 0.33663366336633666, 0.33663366336633666, 0.33663366336633666, 0.33663366336633666, 0.33663366336633666, 0.33663366336633666, 0.33663366336633666, 0.33663366336633666, 0.33663366336633666]\n",
            "[0.49504950495049505, 0.48514851485148514, 0.49504950495049505, 0.504950495049505, 0.49504950495049505, 0.43564356435643564, 0.45544554455445546, 0.44554455445544555, 0.48514851485148514, 0.5544554455445545, 0.5544554455445545, 0.5643564356435643, 0.5742574257425742, 0.5742574257425742, 0.5445544554455446, 0.5445544554455446, 0.5445544554455446, 0.5247524752475248, 0.5247524752475248, 0.5346534653465347, 0.5643564356435643, 0.5643564356435643, 0.5643564356435643, 0.5544554455445545, 0.5445544554455446, 0.5544554455445545, 0.5643564356435643, 0.5643564356435643, 0.5643564356435643, 0.5643564356435643, 0.5643564356435643, 0.5643564356435643, 0.5643564356435643, 0.5643564356435643, 0.5643564356435643, 0.5643564356435643, 0.5643564356435643, 0.5643564356435643, 0.5643564356435643, 0.5643564356435643, 0.5643564356435643, 0.5643564356435643, 0.5643564356435643, 0.5643564356435643, 0.5643564356435643, 0.5643564356435643, 0.5643564356435643, 0.5643564356435643, 0.5643564356435643, 0.5643564356435643, 0.5643564356435643, 0.5643564356435643, 0.5643564356435643, 0.5643564356435643, 0.5643564356435643, 0.5643564356435643, 0.5643564356435643, 0.5643564356435643, 0.5643564356435643, 0.5643564356435643, 0.5643564356435643, 0.5643564356435643, 0.5643564356435643, 0.5643564356435643, 0.5643564356435643, 0.5643564356435643, 0.5643564356435643, 0.5643564356435643, 0.5643564356435643, 0.5643564356435643, 0.5643564356435643, 0.5643564356435643, 0.5643564356435643, 0.5643564356435643, 0.5643564356435643, 0.5643564356435643, 0.5643564356435643, 0.5643564356435643, 0.5643564356435643, 0.5643564356435643, 0.5643564356435643, 0.5643564356435643, 0.5643564356435643, 0.5643564356435643, 0.5643564356435643, 0.5643564356435643, 0.5643564356435643, 0.5643564356435643, 0.5643564356435643, 0.5643564356435643, 0.5643564356435643, 0.5643564356435643, 0.5643564356435643, 0.5643564356435643, 0.5643564356435643, 0.5643564356435643, 0.5643564356435643, 0.5643564356435643, 0.5643564356435643, 0.5643564356435643]\n",
            "[0.16506448046614083, 0.16702157522157127, 0.16904914464818563, 0.17293575248679152, 0.1747098820716212, 0.17652140799742655, 0.18449393909708753, 0.18372274325460355, 0.18586761529117965, 0.18934374931310263, 0.1895228344511613, 0.19011040068732357, 0.1892291717054096, 0.19143187978337034, 0.19343511468770583, 0.19626093318531862, 0.1972890014943062, 0.1991008672838642, 0.19960430745839014, 0.1993999154344883, 0.19927606135694384, 0.19896665541634972, 0.19944598101284383, 0.1993532420333259, 0.19933550356178492, 0.20060231597005074, 0.20136630851560325, 0.20128667995729696, 0.20144899127039545, 0.20135075021246737, 0.2015054531827644, 0.2015054531827644, 0.2015054531827644, 0.20167326657427306, 0.20187953720133575, 0.20187953720133575, 0.20214008957236232, 0.20240064194338891, 0.20224593897309187, 0.20224593897309187, 0.20240825028619042, 0.20240825028619042, 0.20240825028619042, 0.20240825028619042, 0.2029315351966487, 0.2029315351966487, 0.20325405155845436, 0.20325405155845436, 0.20325405155845436, 0.20325405155845436, 0.20325405155845436, 0.20325405155845436, 0.20325405155845436, 0.20325405155845436, 0.20325405155845436, 0.20325405155845436, 0.20325405155845436, 0.20325405155845436, 0.20316131257893644, 0.20316131257893644, 0.20331601554923345, 0.20331601554923345, 0.20331601554923345, 0.20331601554923345, 0.2036827188862338, 0.20385053227774247, 0.20385053227774247, 0.20401834566925112, 0.20401834566925112, 0.20401834566925112, 0.20401834566925112, 0.20370133138585553, 0.20370133138585553, 0.20370133138585553, 0.20370133138585553, 0.20370133138585553, 0.20410513026234456, 0.20414908957630876, 0.20447371220250576, 0.20431140088940725, 0.20493021277059537, 0.20476239937908672, 0.20476239937908672, 0.20493021277059537, 0.20493021277059537, 0.20431140088940725, 0.20314360946736573, 0.20314360946736573, 0.20340416183839233, 0.20314360946736573, 0.20314360946736573, 0.20340416183839233, 0.20340416183839233, 0.20340416183839233, 0.2036341499940023, 0.2036341499940023, 0.2033926624306118, 0.20356047582212045, 0.20356047582212045, 0.20356047582212045]\n"
          ]
        },
        {
          "data": {
            "image/png": "[encoded data removed]",
            "text/plain": [
              "<Figure size 1800x600 with 3 Axes>"
            ]
          },
          "metadata": {},
          "output_type": "display_data"
        }
      ],
      "source": [
        "from torch.optim.lr_scheduler import ReduceLROnPlateau\n",
        "\n",
        "model = Net(NUM_CLASSES).to(device)\n",
        "optimizer = optim.Adam(model.parameters(), lr=0.00001)\n",
        "# Pytorch-metric-learning configurations\n",
        "scheduler = ReduceLROnPlateau(optimizer, mode='min', factor=0.1, patience=4, verbose=True)\n",
        "\n",
        "# Pytorch-metric-learning configurations\n",
        "distance = distances.CosineSimilarity()\n",
        "reducer = reducers.ThresholdReducer(low=0)\n",
        "\n",
        "loss_func = losses.TripletMarginLoss(margin=0.2, distance=distance, reducer=reducer)\n",
        "mining_func = miners.TripletMarginMiner(margin=0.2, distance=distance, type_of_triplets=\"all\")\n",
        "\n",
        "losses_over_epochs = []\n",
        "precision_at_1_over_epochs = []\n",
        "precision_at_3_over_epochs = []\n",
        "r_precision_over_epochs = []\n",
        "num_epochs = 100\n",
        "\n",
        "for epoch in range(1, num_epochs + 1):\n",
        "    epoch_loss = train(model, loss_func, mining_func, device, train_loader, optimizer, epoch)\n",
        "    losses_over_epochs.append(epoch_loss)\n",
        "    precision_at_1, precision_at_3, r_precision = test(train_dataset, test_dataset, model, accuracy_calculator, loss_func)\n",
        "    precision_at_1_over_epochs.append(precision_at_1)\n",
        "    precision_at_3_over_epochs.append(precision_at_3)\n",
        "    r_precision_over_epochs.append(r_precision)\n",
        "    scheduler.step(epoch_loss)\n",
        "\n",
        "print(losses_over_epochs)\n",
        "print(precision_at_1_over_epochs)\n",
        "print(precision_at_3_over_epochs)\n",
        "print(r_precision_over_epochs)\n",
        "plot_metrics(losses_over_epochs, precision_at_1_over_epochs, precision_at_3_over_epochs, r_precision_over_epochs)"
      ]
    },
    {
      "cell_type": "code",
      "execution_count": 78,
      "metadata": {},
      "outputs": [],
      "source": [
        "import torch\n",
        "torch.cuda.empty_cache()"
      ]
    },
    {
      "cell_type": "code",
      "execution_count": 35,
      "metadata": {
        "colab": {
          "base_uri": "https://localhost:8080/"
        },
        "id": "w3WD0Tac4NMe",
        "outputId": "82d8c080-c0b2-4283-f0df-f3f0c72f15c5"
      },
      "outputs": [
        {
          "name": "stdout",
          "output_type": "stream",
          "text": [
            "Clases únicas en el modelo: 13\n",
            "1250\n",
            "333\n",
            "752\n",
            "592\n",
            "1971\n",
            "724\n",
            "470\n",
            "1174\n",
            "1558\n",
            "730\n",
            "379\n",
            "636\n",
            "1726\n"
          ]
        }
      ],
      "source": [
        "weights = model.resnet.fc.weight\n",
        "\n",
        "# Suponiendo que las clases se derivan de las filas de los pesos\n",
        "unique_classes = set(weights.argmax(dim=1).tolist())\n",
        "\n",
        "# Imprimir las clases únicas\n",
        "print(\"Clases únicas en el modelo:\", len(unique_classes))\n",
        "for class_index in unique_classes:\n",
        "    print(class_index)"
      ]
    },
    {
      "cell_type": "markdown",
      "metadata": {
        "id": "TE2BFg9P3vsJ"
      },
      "source": [
        "# Evaluate for one artist"
      ]
    },
    {
      "cell_type": "code",
      "execution_count": null,
      "metadata": {
        "colab": {
          "base_uri": "https://localhost:8080/"
        },
        "id": "BxGc2izBZxXV",
        "outputId": "a00ca313-4edf-4cc6-dd51-933488f37e6b"
      },
      "outputs": [
        {
          "name": "stdout",
          "output_type": "stream",
          "text": [
            "Artistes: ['Vincent van Gogh']\n"
          ]
        }
      ],
      "source": [
        "import os\n",
        "import glob\n",
        "\n",
        "train_folder = os.path.join(folder, \"TEST\")\n",
        "all_files = glob.glob(os.path.join(train_folder, \"*\"))\n",
        "\n",
        "ll_imatges = []\n",
        "\n",
        "for i in all_files:\n",
        "  ll_imatges.append(i.split(\"/\")[-1])\n",
        "\n",
        "df_filtered = df[df['new_filename'].isin(ll_imatges)]\n",
        "\n",
        "ll_artistes = list(set(df_filtered['artist'].tolist()))\n",
        "\n",
        "print(\"Artistes:\",ll_artistes)"
      ]
    },
    {
      "cell_type": "code",
      "execution_count": null,
      "metadata": {
        "colab": {
          "base_uri": "https://localhost:8080/",
          "height": 81
        },
        "id": "g4_kVctlctgd",
        "outputId": "f9ab39d9-32dd-41cf-ed1d-42293bfdbb53"
      },
      "outputs": [
        {
          "data": {
            "application/vnd.google.colaboratory.intrinsic+json": {
              "summary": "{\n  \"name\": \"artist_counts_sorted\",\n  \"rows\": 1,\n  \"fields\": [\n    {\n      \"column\": \"artist\",\n      \"properties\": {\n        \"dtype\": \"string\",\n        \"num_unique_values\": 1,\n        \"samples\": [\n          \"Vincent van Gogh\"\n        ],\n        \"semantic_type\": \"\",\n        \"description\": \"\"\n      }\n    },\n    {\n      \"column\": \"count\",\n      \"properties\": {\n        \"dtype\": \"number\",\n        \"std\": null,\n        \"min\": 103,\n        \"max\": 103,\n        \"num_unique_values\": 1,\n        \"samples\": [\n          103\n        ],\n        \"semantic_type\": \"\",\n        \"description\": \"\"\n      }\n    }\n  ]\n}",
              "type": "dataframe",
              "variable_name": "artist_counts_sorted"
            },
            "text/html": [
              "\n",
              "  <div id=\"df-b7ef9217-8499-478a-ae79-c6dd56fab765\" class=\"colab-df-container\">\n",
              "    <div>\n",
              "<style scoped>\n",
              "    .dataframe tbody tr th:only-of-type {\n",
              "        vertical-align: middle;\n",
              "    }\n",
              "\n",
              "    .dataframe tbody tr th {\n",
              "        vertical-align: top;\n",
              "    }\n",
              "\n",
              "    .dataframe thead th {\n",
              "        text-align: right;\n",
              "    }\n",
              "</style>\n",
              "<table border=\"1\" class=\"dataframe\">\n",
              "  <thead>\n",
              "    <tr style=\"text-align: right;\">\n",
              "      <th></th>\n",
              "      <th>artist</th>\n",
              "      <th>count</th>\n",
              "    </tr>\n",
              "  </thead>\n",
              "  <tbody>\n",
              "    <tr>\n",
              "      <th>0</th>\n",
              "      <td>Vincent van Gogh</td>\n",
              "      <td>103</td>\n",
              "    </tr>\n",
              "  </tbody>\n",
              "</table>\n",
              "</div>\n",
              "    <div class=\"colab-df-buttons\">\n",
              "\n",
              "  <div class=\"colab-df-container\">\n",
              "    <button class=\"colab-df-convert\" onclick=\"convertToInteractive('df-b7ef9217-8499-478a-ae79-c6dd56fab765')\"\n",
              "            title=\"Convert this dataframe to an interactive table.\"\n",
              "            style=\"display:none;\">\n",
              "\n",
              "  <svg xmlns=\"http://www.w3.org/2000/svg\" height=\"24px\" viewBox=\"0 -960 960 960\">\n",
              "    <path d=\"M120-120v-720h720v720H120Zm60-500h600v-160H180v160Zm220 220h160v-160H400v160Zm0 220h160v-160H400v160ZM180-400h160v-160H180v160Zm440 0h160v-160H620v160ZM180-180h160v-160H180v160Zm440 0h160v-160H620v160Z\"/>\n",
              "  </svg>\n",
              "    </button>\n",
              "\n",
              "  <style>\n",
              "    .colab-df-container {\n",
              "      display:flex;\n",
              "      gap: 12px;\n",
              "    }\n",
              "\n",
              "    .colab-df-convert {\n",
              "      background-color: #E8F0FE;\n",
              "      border: none;\n",
              "      border-radius: 50%;\n",
              "      cursor: pointer;\n",
              "      display: none;\n",
              "      fill: #1967D2;\n",
              "      height: 32px;\n",
              "      padding: 0 0 0 0;\n",
              "      width: 32px;\n",
              "    }\n",
              "\n",
              "    .colab-df-convert:hover {\n",
              "      background-color: #E2EBFA;\n",
              "      box-shadow: 0px 1px 2px rgba(60, 64, 67, 0.3), 0px 1px 3px 1px rgba(60, 64, 67, 0.15);\n",
              "      fill: #174EA6;\n",
              "    }\n",
              "\n",
              "    .colab-df-buttons div {\n",
              "      margin-bottom: 4px;\n",
              "    }\n",
              "\n",
              "    [theme=dark] .colab-df-convert {\n",
              "      background-color: #3B4455;\n",
              "      fill: #D2E3FC;\n",
              "    }\n",
              "\n",
              "    [theme=dark] .colab-df-convert:hover {\n",
              "      background-color: #434B5C;\n",
              "      box-shadow: 0px 1px 3px 1px rgba(0, 0, 0, 0.15);\n",
              "      filter: drop-shadow(0px 1px 2px rgba(0, 0, 0, 0.3));\n",
              "      fill: #FFFFFF;\n",
              "    }\n",
              "  </style>\n",
              "\n",
              "    <script>\n",
              "      const buttonEl =\n",
              "        document.querySelector('#df-b7ef9217-8499-478a-ae79-c6dd56fab765 button.colab-df-convert');\n",
              "      buttonEl.style.display =\n",
              "        google.colab.kernel.accessAllowed ? 'block' : 'none';\n",
              "\n",
              "      async function convertToInteractive(key) {\n",
              "        const element = document.querySelector('#df-b7ef9217-8499-478a-ae79-c6dd56fab765');\n",
              "        const dataTable =\n",
              "          await google.colab.kernel.invokeFunction('convertToInteractive',\n",
              "                                                    [key], {});\n",
              "        if (!dataTable) return;\n",
              "\n",
              "        const docLinkHtml = 'Like what you see? Visit the ' +\n",
              "          '<a target=\"_blank\" href=https://colab.research.google.com/notebooks/data_table.ipynb>data table notebook</a>'\n",
              "          + ' to learn more about interactive tables.';\n",
              "        element.innerHTML = '';\n",
              "        dataTable['output_type'] = 'display_data';\n",
              "        await google.colab.output.renderOutput(dataTable, element);\n",
              "        const docLink = document.createElement('div');\n",
              "        docLink.innerHTML = docLinkHtml;\n",
              "        element.appendChild(docLink);\n",
              "      }\n",
              "    </script>\n",
              "  </div>\n",
              "\n",
              "    </div>\n",
              "  </div>\n"
            ],
            "text/plain": [
              "             artist  count\n",
              "0  Vincent van Gogh    103"
            ]
          },
          "execution_count": 30,
          "metadata": {},
          "output_type": "execute_result"
        }
      ],
      "source": [
        "artist_counts = df_filtered.groupby('artist').size().reset_index(name='count')\n",
        "artist_counts_sorted = artist_counts.sort_values(by='count', ascending=False)\n",
        "artist_counts_sorted"
      ]
    },
    {
      "cell_type": "code",
      "execution_count": null,
      "metadata": {
        "colab": {
          "base_uri": "https://localhost:8080/",
          "height": 423
        },
        "id": "0SEiWXMydWOK",
        "outputId": "694595df-775c-43f2-e27b-4232841a6846"
      },
      "outputs": [
        {
          "data": {
            "application/vnd.google.colaboratory.intrinsic+json": {
              "summary": "{\n  \"name\": \"df_artist_filtered\",\n  \"rows\": 103,\n  \"fields\": [\n    {\n      \"column\": \"new_filename\",\n      \"properties\": {\n        \"dtype\": \"string\",\n        \"num_unique_values\": 103,\n        \"samples\": [\n          \"72858.jpg\",\n          \"12594.jpg\",\n          \"82771.jpg\"\n        ],\n        \"semantic_type\": \"\",\n        \"description\": \"\"\n      }\n    },\n    {\n      \"column\": \"date\",\n      \"properties\": {\n        \"dtype\": \"number\",\n        \"std\": 2,\n        \"min\": 1873,\n        \"max\": 1890,\n        \"num_unique_values\": 13,\n        \"samples\": [\n          1878,\n          1882,\n          1884\n        ],\n        \"semantic_type\": \"\",\n        \"description\": \"\"\n      }\n    }\n  ]\n}",
              "type": "dataframe",
              "variable_name": "df_artist_filtered"
            },
            "text/html": [
              "\n",
              "  <div id=\"df-0fc7d9d3-8aa3-406b-a202-8024d0492acd\" class=\"colab-df-container\">\n",
              "    <div>\n",
              "<style scoped>\n",
              "    .dataframe tbody tr th:only-of-type {\n",
              "        vertical-align: middle;\n",
              "    }\n",
              "\n",
              "    .dataframe tbody tr th {\n",
              "        vertical-align: top;\n",
              "    }\n",
              "\n",
              "    .dataframe thead th {\n",
              "        text-align: right;\n",
              "    }\n",
              "</style>\n",
              "<table border=\"1\" class=\"dataframe\">\n",
              "  <thead>\n",
              "    <tr style=\"text-align: right;\">\n",
              "      <th></th>\n",
              "      <th>new_filename</th>\n",
              "      <th>date</th>\n",
              "    </tr>\n",
              "  </thead>\n",
              "  <tbody>\n",
              "    <tr>\n",
              "      <th>12</th>\n",
              "      <td>62470.jpg</td>\n",
              "      <td>1884</td>\n",
              "    </tr>\n",
              "    <tr>\n",
              "      <th>19</th>\n",
              "      <td>57934.jpg</td>\n",
              "      <td>1888</td>\n",
              "    </tr>\n",
              "    <tr>\n",
              "      <th>21</th>\n",
              "      <td>87410.jpg</td>\n",
              "      <td>1888</td>\n",
              "    </tr>\n",
              "    <tr>\n",
              "      <th>24</th>\n",
              "      <td>5202.jpg</td>\n",
              "      <td>1887</td>\n",
              "    </tr>\n",
              "    <tr>\n",
              "      <th>27</th>\n",
              "      <td>21498.jpg</td>\n",
              "      <td>1887</td>\n",
              "    </tr>\n",
              "    <tr>\n",
              "      <th>...</th>\n",
              "      <td>...</td>\n",
              "      <td>...</td>\n",
              "    </tr>\n",
              "    <tr>\n",
              "      <th>472</th>\n",
              "      <td>21375.jpg</td>\n",
              "      <td>1887</td>\n",
              "    </tr>\n",
              "    <tr>\n",
              "      <th>475</th>\n",
              "      <td>37286.jpg</td>\n",
              "      <td>1885</td>\n",
              "    </tr>\n",
              "    <tr>\n",
              "      <th>477</th>\n",
              "      <td>84569.jpg</td>\n",
              "      <td>1889</td>\n",
              "    </tr>\n",
              "    <tr>\n",
              "      <th>478</th>\n",
              "      <td>56264.jpg</td>\n",
              "      <td>1887</td>\n",
              "    </tr>\n",
              "    <tr>\n",
              "      <th>482</th>\n",
              "      <td>10078.jpg</td>\n",
              "      <td>1882</td>\n",
              "    </tr>\n",
              "  </tbody>\n",
              "</table>\n",
              "<p>103 rows × 2 columns</p>\n",
              "</div>\n",
              "    <div class=\"colab-df-buttons\">\n",
              "\n",
              "  <div class=\"colab-df-container\">\n",
              "    <button class=\"colab-df-convert\" onclick=\"convertToInteractive('df-0fc7d9d3-8aa3-406b-a202-8024d0492acd')\"\n",
              "            title=\"Convert this dataframe to an interactive table.\"\n",
              "            style=\"display:none;\">\n",
              "\n",
              "  <svg xmlns=\"http://www.w3.org/2000/svg\" height=\"24px\" viewBox=\"0 -960 960 960\">\n",
              "    <path d=\"M120-120v-720h720v720H120Zm60-500h600v-160H180v160Zm220 220h160v-160H400v160Zm0 220h160v-160H400v160ZM180-400h160v-160H180v160Zm440 0h160v-160H620v160ZM180-180h160v-160H180v160Zm440 0h160v-160H620v160Z\"/>\n",
              "  </svg>\n",
              "    </button>\n",
              "\n",
              "  <style>\n",
              "    .colab-df-container {\n",
              "      display:flex;\n",
              "      gap: 12px;\n",
              "    }\n",
              "\n",
              "    .colab-df-convert {\n",
              "      background-color: #E8F0FE;\n",
              "      border: none;\n",
              "      border-radius: 50%;\n",
              "      cursor: pointer;\n",
              "      display: none;\n",
              "      fill: #1967D2;\n",
              "      height: 32px;\n",
              "      padding: 0 0 0 0;\n",
              "      width: 32px;\n",
              "    }\n",
              "\n",
              "    .colab-df-convert:hover {\n",
              "      background-color: #E2EBFA;\n",
              "      box-shadow: 0px 1px 2px rgba(60, 64, 67, 0.3), 0px 1px 3px 1px rgba(60, 64, 67, 0.15);\n",
              "      fill: #174EA6;\n",
              "    }\n",
              "\n",
              "    .colab-df-buttons div {\n",
              "      margin-bottom: 4px;\n",
              "    }\n",
              "\n",
              "    [theme=dark] .colab-df-convert {\n",
              "      background-color: #3B4455;\n",
              "      fill: #D2E3FC;\n",
              "    }\n",
              "\n",
              "    [theme=dark] .colab-df-convert:hover {\n",
              "      background-color: #434B5C;\n",
              "      box-shadow: 0px 1px 3px 1px rgba(0, 0, 0, 0.15);\n",
              "      filter: drop-shadow(0px 1px 2px rgba(0, 0, 0, 0.3));\n",
              "      fill: #FFFFFF;\n",
              "    }\n",
              "  </style>\n",
              "\n",
              "    <script>\n",
              "      const buttonEl =\n",
              "        document.querySelector('#df-0fc7d9d3-8aa3-406b-a202-8024d0492acd button.colab-df-convert');\n",
              "      buttonEl.style.display =\n",
              "        google.colab.kernel.accessAllowed ? 'block' : 'none';\n",
              "\n",
              "      async function convertToInteractive(key) {\n",
              "        const element = document.querySelector('#df-0fc7d9d3-8aa3-406b-a202-8024d0492acd');\n",
              "        const dataTable =\n",
              "          await google.colab.kernel.invokeFunction('convertToInteractive',\n",
              "                                                    [key], {});\n",
              "        if (!dataTable) return;\n",
              "\n",
              "        const docLinkHtml = 'Like what you see? Visit the ' +\n",
              "          '<a target=\"_blank\" href=https://colab.research.google.com/notebooks/data_table.ipynb>data table notebook</a>'\n",
              "          + ' to learn more about interactive tables.';\n",
              "        element.innerHTML = '';\n",
              "        dataTable['output_type'] = 'display_data';\n",
              "        await google.colab.output.renderOutput(dataTable, element);\n",
              "        const docLink = document.createElement('div');\n",
              "        docLink.innerHTML = docLinkHtml;\n",
              "        element.appendChild(docLink);\n",
              "      }\n",
              "    </script>\n",
              "  </div>\n",
              "\n",
              "\n",
              "<div id=\"df-b143a33b-afa1-4aa3-99df-1b1bb24ecf32\">\n",
              "  <button class=\"colab-df-quickchart\" onclick=\"quickchart('df-b143a33b-afa1-4aa3-99df-1b1bb24ecf32')\"\n",
              "            title=\"Suggest charts\"\n",
              "            style=\"display:none;\">\n",
              "\n",
              "<svg xmlns=\"http://www.w3.org/2000/svg\" height=\"24px\"viewBox=\"0 0 24 24\"\n",
              "     width=\"24px\">\n",
              "    <g>\n",
              "        <path d=\"M19 3H5c-1.1 0-2 .9-2 2v14c0 1.1.9 2 2 2h14c1.1 0 2-.9 2-2V5c0-1.1-.9-2-2-2zM9 17H7v-7h2v7zm4 0h-2V7h2v10zm4 0h-2v-4h2v4z\"/>\n",
              "    </g>\n",
              "</svg>\n",
              "  </button>\n",
              "\n",
              "<style>\n",
              "  .colab-df-quickchart {\n",
              "      --bg-color: #E8F0FE;\n",
              "      --fill-color: #1967D2;\n",
              "      --hover-bg-color: #E2EBFA;\n",
              "      --hover-fill-color: #174EA6;\n",
              "      --disabled-fill-color: #AAA;\n",
              "      --disabled-bg-color: #DDD;\n",
              "  }\n",
              "\n",
              "  [theme=dark] .colab-df-quickchart {\n",
              "      --bg-color: #3B4455;\n",
              "      --fill-color: #D2E3FC;\n",
              "      --hover-bg-color: #434B5C;\n",
              "      --hover-fill-color: #FFFFFF;\n",
              "      --disabled-bg-color: #3B4455;\n",
              "      --disabled-fill-color: #666;\n",
              "  }\n",
              "\n",
              "  .colab-df-quickchart {\n",
              "    background-color: var(--bg-color);\n",
              "    border: none;\n",
              "    border-radius: 50%;\n",
              "    cursor: pointer;\n",
              "    display: none;\n",
              "    fill: var(--fill-color);\n",
              "    height: 32px;\n",
              "    padding: 0;\n",
              "    width: 32px;\n",
              "  }\n",
              "\n",
              "  .colab-df-quickchart:hover {\n",
              "    background-color: var(--hover-bg-color);\n",
              "    box-shadow: 0 1px 2px rgba(60, 64, 67, 0.3), 0 1px 3px 1px rgba(60, 64, 67, 0.15);\n",
              "    fill: var(--button-hover-fill-color);\n",
              "  }\n",
              "\n",
              "  .colab-df-quickchart-complete:disabled,\n",
              "  .colab-df-quickchart-complete:disabled:hover {\n",
              "    background-color: var(--disabled-bg-color);\n",
              "    fill: var(--disabled-fill-color);\n",
              "    box-shadow: none;\n",
              "  }\n",
              "\n",
              "  .colab-df-spinner {\n",
              "    border: 2px solid var(--fill-color);\n",
              "    border-color: transparent;\n",
              "    border-bottom-color: var(--fill-color);\n",
              "    animation:\n",
              "      spin 1s steps(1) infinite;\n",
              "  }\n",
              "\n",
              "  @keyframes spin {\n",
              "    0% {\n",
              "      border-color: transparent;\n",
              "      border-bottom-color: var(--fill-color);\n",
              "      border-left-color: var(--fill-color);\n",
              "    }\n",
              "    20% {\n",
              "      border-color: transparent;\n",
              "      border-left-color: var(--fill-color);\n",
              "      border-top-color: var(--fill-color);\n",
              "    }\n",
              "    30% {\n",
              "      border-color: transparent;\n",
              "      border-left-color: var(--fill-color);\n",
              "      border-top-color: var(--fill-color);\n",
              "      border-right-color: var(--fill-color);\n",
              "    }\n",
              "    40% {\n",
              "      border-color: transparent;\n",
              "      border-right-color: var(--fill-color);\n",
              "      border-top-color: var(--fill-color);\n",
              "    }\n",
              "    60% {\n",
              "      border-color: transparent;\n",
              "      border-right-color: var(--fill-color);\n",
              "    }\n",
              "    80% {\n",
              "      border-color: transparent;\n",
              "      border-right-color: var(--fill-color);\n",
              "      border-bottom-color: var(--fill-color);\n",
              "    }\n",
              "    90% {\n",
              "      border-color: transparent;\n",
              "      border-bottom-color: var(--fill-color);\n",
              "    }\n",
              "  }\n",
              "</style>\n",
              "\n",
              "  <script>\n",
              "    async function quickchart(key) {\n",
              "      const quickchartButtonEl =\n",
              "        document.querySelector('#' + key + ' button');\n",
              "      quickchartButtonEl.disabled = true;  // To prevent multiple clicks.\n",
              "      quickchartButtonEl.classList.add('colab-df-spinner');\n",
              "      try {\n",
              "        const charts = await google.colab.kernel.invokeFunction(\n",
              "            'suggestCharts', [key], {});\n",
              "      } catch (error) {\n",
              "        console.error('Error during call to suggestCharts:', error);\n",
              "      }\n",
              "      quickchartButtonEl.classList.remove('colab-df-spinner');\n",
              "      quickchartButtonEl.classList.add('colab-df-quickchart-complete');\n",
              "    }\n",
              "    (() => {\n",
              "      let quickchartButtonEl =\n",
              "        document.querySelector('#df-b143a33b-afa1-4aa3-99df-1b1bb24ecf32 button');\n",
              "      quickchartButtonEl.style.display =\n",
              "        google.colab.kernel.accessAllowed ? 'block' : 'none';\n",
              "    })();\n",
              "  </script>\n",
              "</div>\n",
              "    </div>\n",
              "  </div>\n"
            ],
            "text/plain": [
              "    new_filename  date\n",
              "12     62470.jpg  1884\n",
              "19     57934.jpg  1888\n",
              "21     87410.jpg  1888\n",
              "24      5202.jpg  1887\n",
              "27     21498.jpg  1887\n",
              "..           ...   ...\n",
              "472    21375.jpg  1887\n",
              "475    37286.jpg  1885\n",
              "477    84569.jpg  1889\n",
              "478    56264.jpg  1887\n",
              "482    10078.jpg  1882\n",
              "\n",
              "[103 rows x 2 columns]"
            ]
          },
          "execution_count": 31,
          "metadata": {},
          "output_type": "execute_result"
        }
      ],
      "source": [
        "df_artist = df_filtered[df_filtered['artist'] == 'Vincent van Gogh']\n",
        "df_artist_filtered = df_artist[['new_filename', 'date']]\n",
        "df_artist_filtered"
      ]
    },
    {
      "cell_type": "code",
      "execution_count": null,
      "metadata": {
        "colab": {
          "base_uri": "https://localhost:8080/"
        },
        "id": "QwJ64xxugDzA",
        "outputId": "337a9679-ee3f-4758-e90d-b5101e56e171"
      },
      "outputs": [
        {
          "data": {
            "text/plain": [
              "['62470.jpg',\n",
              " '57934.jpg',\n",
              " '87410.jpg',\n",
              " '5202.jpg',\n",
              " '21498.jpg',\n",
              " '41943.jpg',\n",
              " '36628.jpg',\n",
              " '47589.jpg',\n",
              " '78696.jpg',\n",
              " '34660.jpg',\n",
              " '32044.jpg',\n",
              " '56913.jpg',\n",
              " '75795.jpg',\n",
              " '36995.jpg',\n",
              " '89721.jpg',\n",
              " '76519.jpg',\n",
              " '41419.jpg',\n",
              " '61079.jpg',\n",
              " '18162.jpg',\n",
              " '38455.jpg',\n",
              " '41579.jpg',\n",
              " '2168.jpg',\n",
              " '87736.jpg',\n",
              " '28695.jpg',\n",
              " '35084.jpg',\n",
              " '103128.jpg',\n",
              " '23738.jpg',\n",
              " '93244.jpg',\n",
              " '61301.jpg',\n",
              " '5980.jpg',\n",
              " '72858.jpg',\n",
              " '59150.jpg',\n",
              " '27087.jpg',\n",
              " '8045.jpg',\n",
              " '31455.jpg',\n",
              " '55860.jpg',\n",
              " '73016.jpg',\n",
              " '32352.jpg',\n",
              " '32472.jpg',\n",
              " '76154.jpg',\n",
              " '14576.jpg',\n",
              " '53507.jpg',\n",
              " '23601.jpg',\n",
              " '99432.jpg',\n",
              " '59231.jpg',\n",
              " '14997.jpg',\n",
              " '46192.jpg',\n",
              " '51624.jpg',\n",
              " '69137.jpg',\n",
              " '5867.jpg',\n",
              " '74245.jpg',\n",
              " '60960.jpg',\n",
              " '28104.jpg',\n",
              " '85589.jpg',\n",
              " '17702.jpg',\n",
              " '50373.jpg',\n",
              " '61023.jpg',\n",
              " '70505.jpg',\n",
              " '90289.jpg',\n",
              " '61383.jpg',\n",
              " '60546.jpg',\n",
              " '43885.jpg',\n",
              " '82771.jpg',\n",
              " '64102.jpg',\n",
              " '53714.jpg',\n",
              " '28203.jpg',\n",
              " '29736.jpg',\n",
              " '12594.jpg',\n",
              " '63936.jpg',\n",
              " '99645.jpg',\n",
              " '45581.jpg',\n",
              " '83938.jpg',\n",
              " '86923.jpg',\n",
              " '70265.jpg',\n",
              " '86376.jpg',\n",
              " '88840.jpg',\n",
              " '6205.jpg',\n",
              " '86521.jpg',\n",
              " '76490.jpg',\n",
              " '90250.jpg',\n",
              " '66626.jpg',\n",
              " '60058.jpg',\n",
              " '61696.jpg',\n",
              " '95101.jpg',\n",
              " '89349.jpg',\n",
              " '21705.jpg',\n",
              " '269.jpg',\n",
              " '30192.jpg',\n",
              " '38746.jpg',\n",
              " '72608.jpg',\n",
              " '59347.jpg',\n",
              " '2276.jpg',\n",
              " '87890.jpg',\n",
              " '19631.jpg',\n",
              " '9512.jpg',\n",
              " '26994.jpg',\n",
              " '90210.jpg',\n",
              " '48846.jpg',\n",
              " '21375.jpg',\n",
              " '37286.jpg',\n",
              " '84569.jpg',\n",
              " '56264.jpg',\n",
              " '10078.jpg']"
            ]
          },
          "execution_count": 32,
          "metadata": {},
          "output_type": "execute_result"
        }
      ],
      "source": [
        "artists_images = df_artist['new_filename'].tolist()\n",
        "artists_images"
      ]
    },
    {
      "cell_type": "code",
      "execution_count": null,
      "metadata": {
        "colab": {
          "base_uri": "https://localhost:8080/"
        },
        "id": "40n4yiZPsas1",
        "outputId": "ce17f058-7bca-4b0d-ae4b-2e32b7ddbb40"
      },
      "outputs": [
        {
          "name": "stdout",
          "output_type": "stream",
          "text": [
            "Imagen: 62470.jpg\n",
            "Clase predicha: 1873\n",
            "Clase real: 1884\n",
            "-------------------------\n",
            "Imagen: 57934.jpg\n",
            "Clase predicha: 1882\n",
            "Clase real: 1888\n",
            "-------------------------\n",
            "Imagen: 87410.jpg\n",
            "Clase predicha: 1889\n",
            "Clase real: 1888\n",
            "-------------------------\n",
            "Imagen: 5202.jpg\n",
            "Clase predicha: 1885\n",
            "Clase real: 1887\n",
            "-------------------------\n",
            "Imagen: 21498.jpg\n",
            "Clase predicha: 1889\n",
            "Clase real: 1887\n",
            "-------------------------\n",
            "Imagen: 41943.jpg\n",
            "Clase predicha: 1883\n",
            "Clase real: 1887\n",
            "-------------------------\n",
            "Imagen: 36628.jpg\n",
            "Clase predicha: 1878\n",
            "Clase real: 1885\n",
            "-------------------------\n",
            "Imagen: 47589.jpg\n",
            "Clase predicha: 1883\n",
            "Clase real: 1888\n",
            "-------------------------\n",
            "Imagen: 78696.jpg\n",
            "Clase predicha: 1890\n",
            "Clase real: 1885\n",
            "-------------------------\n",
            "Imagen: 34660.jpg\n",
            "Clase predicha: 1885\n",
            "Clase real: 1889\n",
            "-------------------------\n",
            "Imagen: 32044.jpg\n",
            "Clase predicha: 1873\n",
            "Clase real: 1890\n",
            "-------------------------\n",
            "Imagen: 56913.jpg\n",
            "Clase predicha: 1879\n",
            "Clase real: 1887\n",
            "-------------------------\n",
            "Imagen: 75795.jpg\n",
            "Clase predicha: 1885\n",
            "Clase real: 1889\n",
            "-------------------------\n",
            "Imagen: 36995.jpg\n",
            "Clase predicha: 1885\n",
            "Clase real: 1889\n",
            "-------------------------\n",
            "Imagen: 89721.jpg\n",
            "Clase predicha: 1889\n",
            "Clase real: 1883\n",
            "-------------------------\n",
            "Imagen: 76519.jpg\n",
            "Clase predicha: 1886\n",
            "Clase real: 1888\n",
            "-------------------------\n",
            "Imagen: 41419.jpg\n",
            "Clase predicha: 1878\n",
            "Clase real: 1883\n",
            "-------------------------\n",
            "Imagen: 61079.jpg\n",
            "Clase predicha: 1873\n",
            "Clase real: 1890\n",
            "-------------------------\n",
            "Imagen: 18162.jpg\n",
            "Clase predicha: 1889\n",
            "Clase real: 1886\n",
            "-------------------------\n",
            "Imagen: 38455.jpg\n",
            "Clase predicha: 1886\n",
            "Clase real: 1887\n",
            "-------------------------\n",
            "Imagen: 41579.jpg\n",
            "Clase predicha: 1878\n",
            "Clase real: 1883\n",
            "-------------------------\n",
            "Imagen: 2168.jpg\n",
            "Clase predicha: 1885\n",
            "Clase real: 1885\n",
            "-------------------------\n",
            "Imagen: 87736.jpg\n",
            "Clase predicha: 1887\n",
            "Clase real: 1886\n",
            "-------------------------\n",
            "Imagen: 28695.jpg\n",
            "Clase predicha: 1888\n",
            "Clase real: 1881\n",
            "-------------------------\n",
            "Imagen: 35084.jpg\n",
            "Clase predicha: 1887\n",
            "Clase real: 1886\n",
            "-------------------------\n",
            "Imagen: 103128.jpg\n",
            "Clase predicha: 1888\n",
            "Clase real: 1883\n",
            "-------------------------\n",
            "Imagen: 23738.jpg\n",
            "Clase predicha: 1887\n",
            "Clase real: 1882\n",
            "-------------------------\n",
            "Imagen: 93244.jpg\n",
            "Clase predicha: 1889\n",
            "Clase real: 1888\n",
            "-------------------------\n",
            "Imagen: 61301.jpg\n",
            "Clase predicha: 1890\n",
            "Clase real: 1888\n",
            "-------------------------\n",
            "Imagen: 5980.jpg\n",
            "Clase predicha: 1887\n",
            "Clase real: 1886\n",
            "-------------------------\n",
            "Imagen: 72858.jpg\n",
            "Clase predicha: 1885\n",
            "Clase real: 1882\n",
            "-------------------------\n",
            "Imagen: 59150.jpg\n",
            "Clase predicha: 1890\n",
            "Clase real: 1889\n",
            "-------------------------\n",
            "Imagen: 27087.jpg\n",
            "Clase predicha: 1883\n",
            "Clase real: 1888\n",
            "-------------------------\n",
            "Imagen: 8045.jpg\n",
            "Clase predicha: 1890\n",
            "Clase real: 1885\n",
            "-------------------------\n",
            "Imagen: 31455.jpg\n",
            "Clase predicha: 1883\n",
            "Clase real: 1887\n",
            "-------------------------\n",
            "Imagen: 55860.jpg\n",
            "Clase predicha: 1890\n",
            "Clase real: 1885\n",
            "-------------------------\n",
            "Imagen: 73016.jpg\n",
            "Clase predicha: 1888\n",
            "Clase real: 1883\n",
            "-------------------------\n",
            "Imagen: 32352.jpg\n",
            "Clase predicha: 1887\n",
            "Clase real: 1886\n",
            "-------------------------\n",
            "Imagen: 32472.jpg\n",
            "Clase predicha: 1885\n",
            "Clase real: 1885\n",
            "-------------------------\n",
            "Imagen: 76154.jpg\n",
            "Clase predicha: 1883\n",
            "Clase real: 1887\n",
            "-------------------------\n",
            "Imagen: 14576.jpg\n",
            "Clase predicha: 1878\n",
            "Clase real: 1884\n",
            "-------------------------\n",
            "Imagen: 53507.jpg\n",
            "Clase predicha: 1885\n",
            "Clase real: 1885\n",
            "-------------------------\n",
            "Imagen: 23601.jpg\n",
            "Clase predicha: 1878\n",
            "Clase real: 1882\n",
            "-------------------------\n",
            "Imagen: 99432.jpg\n",
            "Clase predicha: 1885\n",
            "Clase real: 1881\n",
            "-------------------------\n",
            "Imagen: 59231.jpg\n",
            "Clase predicha: 1886\n",
            "Clase real: 1887\n",
            "-------------------------\n",
            "Imagen: 14997.jpg\n",
            "Clase predicha: 1879\n",
            "Clase real: 1890\n",
            "-------------------------\n",
            "Imagen: 46192.jpg\n",
            "Clase predicha: 1883\n",
            "Clase real: 1887\n",
            "-------------------------\n",
            "Imagen: 51624.jpg\n",
            "Clase predicha: 1883\n",
            "Clase real: 1888\n",
            "-------------------------\n",
            "Imagen: 69137.jpg\n",
            "Clase predicha: 1888\n",
            "Clase real: 1887\n",
            "-------------------------\n",
            "Imagen: 5867.jpg\n",
            "Clase predicha: 1887\n",
            "Clase real: 1886\n",
            "-------------------------\n",
            "Imagen: 74245.jpg\n",
            "Clase predicha: 1890\n",
            "Clase real: 1885\n",
            "-------------------------\n",
            "Imagen: 60960.jpg\n",
            "Clase predicha: 1884\n",
            "Clase real: 1873\n",
            "-------------------------\n",
            "Imagen: 28104.jpg\n",
            "Clase predicha: 1881\n",
            "Clase real: 1888\n",
            "-------------------------\n",
            "Imagen: 85589.jpg\n",
            "Clase predicha: 1882\n",
            "Clase real: 1886\n",
            "-------------------------\n",
            "Imagen: 17702.jpg\n",
            "Clase predicha: 1889\n",
            "Clase real: 1888\n",
            "-------------------------\n",
            "Imagen: 50373.jpg\n",
            "Clase predicha: 1882\n",
            "Clase real: 1884\n",
            "-------------------------\n",
            "Imagen: 61023.jpg\n",
            "Clase predicha: 1887\n",
            "Clase real: 1886\n",
            "-------------------------\n",
            "Imagen: 70505.jpg\n",
            "Clase predicha: 1888\n",
            "Clase real: 1885\n",
            "-------------------------\n",
            "Imagen: 90289.jpg\n",
            "Clase predicha: 1885\n",
            "Clase real: 1885\n",
            "-------------------------\n",
            "Imagen: 61383.jpg\n",
            "Clase predicha: 1881\n",
            "Clase real: 1890\n",
            "-------------------------\n",
            "Imagen: 60546.jpg\n",
            "Clase predicha: 1888\n",
            "Clase real: 1882\n",
            "-------------------------\n",
            "Imagen: 43885.jpg\n",
            "Clase predicha: 1886\n",
            "Clase real: 1887\n",
            "-------------------------\n",
            "Imagen: 82771.jpg\n",
            "Clase predicha: 1881\n",
            "Clase real: 1887\n",
            "-------------------------\n",
            "Imagen: 64102.jpg\n",
            "Clase predicha: 1885\n",
            "Clase real: 1884\n",
            "-------------------------\n",
            "Imagen: 53714.jpg\n",
            "Clase predicha: 1883\n",
            "Clase real: 1888\n",
            "-------------------------\n",
            "Imagen: 28203.jpg\n",
            "Clase predicha: 1885\n",
            "Clase real: 1890\n",
            "-------------------------\n",
            "Imagen: 29736.jpg\n",
            "Clase predicha: 1881\n",
            "Clase real: 1890\n",
            "-------------------------\n",
            "Imagen: 12594.jpg\n",
            "Clase predicha: 1883\n",
            "Clase real: 1886\n",
            "-------------------------\n",
            "Imagen: 63936.jpg\n",
            "Clase predicha: 1886\n",
            "Clase real: 1890\n",
            "-------------------------\n",
            "Imagen: 99645.jpg\n",
            "Clase predicha: 1885\n",
            "Clase real: 1889\n",
            "-------------------------\n",
            "Imagen: 45581.jpg\n",
            "Clase predicha: 1885\n",
            "Clase real: 1889\n",
            "-------------------------\n",
            "Imagen: 83938.jpg\n",
            "Clase predicha: 1878\n",
            "Clase real: 1888\n",
            "-------------------------\n",
            "Imagen: 86923.jpg\n",
            "Clase predicha: 1888\n",
            "Clase real: 1888\n",
            "-------------------------\n",
            "Imagen: 70265.jpg\n",
            "Clase predicha: 1888\n",
            "Clase real: 1885\n",
            "-------------------------\n",
            "Imagen: 86376.jpg\n",
            "Clase predicha: 1882\n",
            "Clase real: 1885\n",
            "-------------------------\n",
            "Imagen: 88840.jpg\n",
            "Clase predicha: 1879\n",
            "Clase real: 1887\n",
            "-------------------------\n",
            "Imagen: 6205.jpg\n",
            "Clase predicha: 1879\n",
            "Clase real: 1887\n",
            "-------------------------\n",
            "Imagen: 86521.jpg\n",
            "Clase predicha: 1885\n",
            "Clase real: 1889\n",
            "-------------------------\n",
            "Imagen: 76490.jpg\n",
            "Clase predicha: 1889\n",
            "Clase real: 1888\n",
            "-------------------------\n",
            "Imagen: 90250.jpg\n",
            "Clase predicha: 1885\n",
            "Clase real: 1889\n",
            "-------------------------\n",
            "Imagen: 66626.jpg\n",
            "Clase predicha: 1886\n",
            "Clase real: 1888\n",
            "-------------------------\n",
            "Imagen: 60058.jpg\n",
            "Clase predicha: 1887\n",
            "Clase real: 1886\n",
            "-------------------------\n",
            "Imagen: 61696.jpg\n",
            "Clase predicha: 1890\n",
            "Clase real: 1885\n",
            "-------------------------\n",
            "Imagen: 95101.jpg\n",
            "Clase predicha: 1887\n",
            "Clase real: 1886\n",
            "-------------------------\n",
            "Imagen: 89349.jpg\n",
            "Clase predicha: 1882\n",
            "Clase real: 1886\n",
            "-------------------------\n",
            "Imagen: 21705.jpg\n",
            "Clase predicha: 1886\n",
            "Clase real: 1890\n",
            "-------------------------\n",
            "Imagen: 269.jpg\n",
            "Clase predicha: 1890\n",
            "Clase real: 1878\n",
            "-------------------------\n",
            "Imagen: 30192.jpg\n",
            "Clase predicha: 1890\n",
            "Clase real: 1882\n",
            "-------------------------\n",
            "Imagen: 38746.jpg\n",
            "Clase predicha: 1889\n",
            "Clase real: 1888\n",
            "-------------------------\n",
            "Imagen: 72608.jpg\n",
            "Clase predicha: 1881\n",
            "Clase real: 1889\n",
            "-------------------------\n",
            "Imagen: 59347.jpg\n",
            "Clase predicha: 1882\n",
            "Clase real: 1882\n",
            "-------------------------\n",
            "Imagen: 2276.jpg\n",
            "Clase predicha: 1890\n",
            "Clase real: 1885\n",
            "-------------------------\n",
            "Imagen: 87890.jpg\n",
            "Clase predicha: 1888\n",
            "Clase real: 1879\n",
            "-------------------------\n",
            "Imagen: 19631.jpg\n",
            "Clase predicha: 1878\n",
            "Clase real: 1890\n",
            "-------------------------\n",
            "Imagen: 9512.jpg\n",
            "Clase predicha: 1885\n",
            "Clase real: 1889\n",
            "-------------------------\n",
            "Imagen: 26994.jpg\n",
            "Clase predicha: 1881\n",
            "Clase real: 1890\n",
            "-------------------------\n",
            "Imagen: 90210.jpg\n",
            "Clase predicha: 1890\n",
            "Clase real: 1883\n",
            "-------------------------\n",
            "Imagen: 48846.jpg\n",
            "Clase predicha: 1882\n",
            "Clase real: 1886\n",
            "-------------------------\n",
            "Imagen: 21375.jpg\n",
            "Clase predicha: 1890\n",
            "Clase real: 1887\n",
            "-------------------------\n",
            "Imagen: 37286.jpg\n",
            "Clase predicha: 1883\n",
            "Clase real: 1885\n",
            "-------------------------\n",
            "Imagen: 84569.jpg\n",
            "Clase predicha: 1878\n",
            "Clase real: 1889\n",
            "-------------------------\n",
            "Imagen: 56264.jpg\n",
            "Clase predicha: 1886\n",
            "Clase real: 1887\n",
            "-------------------------\n",
            "Imagen: 10078.jpg\n",
            "Clase predicha: 1888\n",
            "Clase real: 1882\n",
            "-------------------------\n"
          ]
        }
      ],
      "source": [
        "import os\n",
        "from PIL import Image\n",
        "import torch\n",
        "import torchvision.transforms as transforms\n",
        "\n",
        "\n",
        "# Transformaciones para las imágenes\n",
        "transform = transforms.Compose([\n",
        "    transforms.Resize((224, 224)),  # Ajusta el tamaño de la imagen según la entrada del modelo\n",
        "    transforms.ToTensor(),\n",
        "    transforms.Normalize(mean=[0.4902860351171657, 0.4327027123349515, 0.3679902021355657],\n",
        "                         std=[0.22134062718873712, 0.20430693703606892, 0.18851782142531143])\n",
        "])\n",
        "\n",
        "# Función para predecir la clase de una imagen\n",
        "def predict_class(image_path, model, transform, device):\n",
        "    image = Image.open(image_path)\n",
        "    image = transform(image)\n",
        "    image = image.unsqueeze(0)  # Añade una dimensión adicional para el batch\n",
        "    image = image.to(device)\n",
        "\n",
        "    with torch.no_grad():\n",
        "        model.eval()\n",
        "        output = model(image)\n",
        "\n",
        "    probabilities = torch.softmax(output, dim=1)\n",
        "    predicted_class = torch.argmax(probabilities).item()\n",
        "\n",
        "    return predicted_class\n",
        "\n",
        "i = 0\n",
        "ll_predicted = []\n",
        "ll_real = []\n",
        "# Iterar sobre todas las imágenes en la carpeta de prueba\n",
        "for filename in artists_images:\n",
        "      image_path = os.path.join(folder+\"/TEST\", filename)\n",
        "      predicted_class = predict_class(image_path, model, transform, device)\n",
        "\n",
        "      # Obtener la clase real\n",
        "      real_class = test_dataframe[test_dataframe['new_filename'] == filename]['date'].tolist()[0]\n",
        "\n",
        "      predicted = idx2date[predicted_class]\n",
        "      real = idx2date[real_class]\n",
        "      if predicted == real:\n",
        "          i += 1\n",
        "\n",
        "      ll_predicted.append(predicted)\n",
        "      ll_real.append(real)\n",
        "      print(f\"Imagen: {filename}\")\n",
        "      print(f\"Clase predicha: {predicted}\")\n",
        "      print(f\"Clase real: {real}\")\n",
        "      print(\"-------------------------\")\n",
        "\n"
      ]
    },
    {
      "cell_type": "code",
      "execution_count": null,
      "metadata": {
        "colab": {
          "base_uri": "https://localhost:8080/"
        },
        "id": "4FIJA8SFHhmg",
        "outputId": "f4d8e876-30db-4ff9-fce6-91898afa6e2b"
      },
      "outputs": [
        {
          "name": "stdout",
          "output_type": "stream",
          "text": [
            "Total acertades: 6/103\n",
            "Percetnatge acertat: 5.825242718446602%\n",
            "MAE: 4.495145631067961\n"
          ]
        }
      ],
      "source": [
        "import numpy as np\n",
        "\n",
        "def calculate_mae(ll_predicted, ll_real):\n",
        "    # Asegurarse de que las listas tengan la misma longitud\n",
        "    assert len(ll_predicted) == len(ll_real), \"Las listas deben tener la misma longitud\"\n",
        "\n",
        "    # Convertir listas a numpy arrays para facilitar el cálculo\n",
        "    ll_predicted = np.array(ll_predicted)\n",
        "    ll_real = np.array(ll_real)\n",
        "\n",
        "    # Calcular el MAE\n",
        "    mae = np.mean(np.abs(ll_predicted - ll_real))\n",
        "\n",
        "    return mae\n",
        "\n",
        "\n",
        "print(\"Total acertades:\",str(i)+\"/\"+str(len(artists_images)))\n",
        "print(\"Percetnatge acertat:\",str((i * 100)/len(artists_images))+\"%\")\n",
        "mae = calculate_mae(ll_predicted, ll_real)\n",
        "print(f\"MAE: {mae}\")\n"
      ]
    },
    {
      "cell_type": "code",
      "execution_count": null,
      "metadata": {
        "id": "XB8ofsrWsa2Q"
      },
      "outputs": [],
      "source": []
    }
  ],
  "metadata": {
    "accelerator": "GPU",
    "colab": {
      "gpuType": "T4",
      "provenance": []
    },
    "kernelspec": {
      "display_name": "Python 3",
      "name": "python3"
    },
    "language_info": {
      "codemirror_mode": {
        "name": "ipython",
        "version": 3
      },
      "file_extension": ".py",
      "mimetype": "text/x-python",
      "name": "python",
      "nbconvert_exporter": "python",
      "pygments_lexer": "ipython3",
      "version": "3.8.5"
    }
  },
  "nbformat": 4,
  "nbformat_minor": 0
}
