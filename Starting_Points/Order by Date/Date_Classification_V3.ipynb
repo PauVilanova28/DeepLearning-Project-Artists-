{
  "cells": [
    {
      "cell_type": "code",
      "execution_count": 1,
      "metadata": {
        "colab": {
          "base_uri": "https://localhost:8080/"
        },
        "id": "kyCyJ6BxRKyn",
        "outputId": "e49720b9-5eeb-4149-ce79-9fa1b725f7bc"
      },
      "outputs": [
        {
          "name": "stdout",
          "output_type": "stream",
          "text": [
            "Mounted at /content/drive\n"
          ]
        }
      ],
      "source": [
        "from google.colab import drive\n",
        "drive.mount('/content/drive')"
      ]
    },
    {
      "cell_type": "code",
      "execution_count": 2,
      "metadata": {
        "id": "vCOpinfybq3n"
      },
      "outputs": [],
      "source": [
        "import numpy as np # linear algebra\n",
        "import pandas as pd # data processing, CSV file I/O (e.g. pd.read_csv)\n",
        "%matplotlib inline\n",
        "import matplotlib.pyplot as plt\n",
        "from random import seed # for setting seed\n",
        "import tensorflow\n",
        "from IPython import sys_info\n",
        "import os\n",
        "import gc # garbage collection\n",
        "import random\n",
        "import os\n",
        "import shutil\n",
        "import tensorflow as tf\n",
        "from tensorflow.keras import layers, models"
      ]
    },
    {
      "cell_type": "code",
      "execution_count": 3,
      "metadata": {
        "colab": {
          "base_uri": "https://localhost:8080/"
        },
        "id": "tHNTK1kkbr90",
        "outputId": "a734127d-7d6f-474f-ff67-22794a4be495"
      },
      "outputs": [
        {
          "name": "stdout",
          "output_type": "stream",
          "text": [
            "[name: \"/device:CPU:0\"\n",
            "device_type: \"CPU\"\n",
            "memory_limit: 268435456\n",
            "locality {\n",
            "}\n",
            "incarnation: 16602765337550159918\n",
            "xla_global_id: -1\n",
            ", name: \"/device:GPU:0\"\n",
            "device_type: \"GPU\"\n",
            "memory_limit: 14626652160\n",
            "locality {\n",
            "  bus_id: 1\n",
            "  links {\n",
            "  }\n",
            "}\n",
            "incarnation: 13436154390335948252\n",
            "physical_device_desc: \"device: 0, name: Tesla T4, pci bus id: 0000:00:04.0, compute capability: 7.5\"\n",
            "xla_global_id: 416903419\n",
            "]\n"
          ]
        }
      ],
      "source": [
        "from tensorflow.python.client import device_lib\n",
        "# print out the CPUs and GPUs\n",
        "print(device_lib.list_local_devices())"
      ]
    },
    {
      "cell_type": "code",
      "execution_count": 4,
      "metadata": {
        "id": "EV6kXXZ7b22b"
      },
      "outputs": [],
      "source": [
        "from PIL import Image\n",
        "Image.MAX_IMAGE_PIXELS = None"
      ]
    },
    {
      "cell_type": "code",
      "execution_count": 5,
      "metadata": {
        "id": "SGxXYnCzb4VB"
      },
      "outputs": [],
      "source": [
        "from tensorflow.keras.applications import ResNet50, VGG16\n",
        "from tensorflow.keras.models import Sequential\n",
        "from tensorflow.keras.layers import Dense, Flatten, GlobalAveragePooling2D, Input\n",
        "\n",
        "from tensorflow.keras.applications.resnet50 import preprocess_input\n",
        "from tensorflow.keras.preprocessing.image import ImageDataGenerator\n",
        "from tensorflow.keras.utils import Sequence\n",
        "from tensorflow.keras import layers, models, optimizers\n",
        "\n"
      ]
    },
    {
      "cell_type": "code",
      "execution_count": 6,
      "metadata": {
        "colab": {
          "base_uri": "https://localhost:8080/"
        },
        "id": "DVuqjG1Pb5Px",
        "outputId": "388a8a45-9975-4d28-f031-119cd972cb2a"
      },
      "outputs": [
        {
          "name": "stdout",
          "output_type": "stream",
          "text": [
            "         artist  date                  genre  pixelsx  pixelsy  size_bytes  \\\n",
            "0  Paul Gauguin  1903         genre painting   1916.0   1688.0    363138.0   \n",
            "1  Paul Gauguin  1893               portrait   2048.0   1348.0    293452.0   \n",
            "2  Paul Gauguin  1892  mythological painting   1800.0   1082.0   1638911.0   \n",
            "3  Paul Gauguin  1903         genre painting   1600.0   1067.0    307130.0   \n",
            "4  Paul Gauguin  1892               portrait   1096.0   1476.0    467406.0   \n",
            "\n",
            "    source               style                  title    artist_group  \\\n",
            "0  wikiart  Post-Impressionism         The Invocation  train_and_test   \n",
            "1  wikiart         Cloisonnism                  Alone  train_and_test   \n",
            "2  wikiart         Cloisonnism          The Royal End  train_and_test   \n",
            "3  wikiart  Post-Impressionism  Women and white horse  train_and_test   \n",
            "4  wikiart  Post-Impressionism            Two sisters  train_and_test   \n",
            "\n",
            "   in_train new_filename  \n",
            "0     False    35323.jpg  \n",
            "1     False    73683.jpg  \n",
            "2      True   101871.jpg  \n",
            "3      True    76989.jpg  \n",
            "4     False    89439.jpg  \n"
          ]
        }
      ],
      "source": [
        "folder = '/content/drive/My Drive/PROJECTE DEEP LEARNING/TOP5_ARTISTS_WITH_100_PICTURES'\n",
        "\n",
        "# List the files in the folder\n",
        "all_pictures = os.listdir(folder)\n",
        "\n",
        "file_path = \"/content/drive/My Drive/PROJECTE DEEP LEARNING/TOP5_ARTISTS_WITH_100_PICTURES.csv\"\n",
        "df = pd.read_csv(file_path)\n",
        "\n",
        "# All date to int\n",
        "df['date'] = df['date'].str.replace('c.', '').astype('int', errors='ignore')\n",
        "\n",
        "print(df.head())\n"
      ]
    },
    {
      "cell_type": "markdown",
      "metadata": {
        "id": "ndTcAvGjdCQi"
      },
      "source": [
        "# Create the TEST and TRAIN sets"
      ]
    },
    {
      "cell_type": "code",
      "execution_count": 7,
      "metadata": {
        "colab": {
          "base_uri": "https://localhost:8080/"
        },
        "id": "UdKScP-2BLQ3",
        "outputId": "917f04ab-602a-4a20-8b19-7ba591d1d1b5"
      },
      "outputs": [
        {
          "name": "stdout",
          "output_type": "stream",
          "text": [
            "TRAIN and TEST folders exist. Reading image filenames...\n",
            "Train DataFrame: (400, 3)\n",
            "Test DataFrame: (100, 3)\n"
          ]
        }
      ],
      "source": [
        "# Function to read filenames from a folder and return a list of filenames\n",
        "def get_filenames_from_folder(folder_path):\n",
        "    filenames = [f for f in os.listdir(folder_path) if os.path.isfile(os.path.join(folder_path, f))]\n",
        "    return filenames\n",
        "\n",
        "# Check if the TRAIN and TEST folders exist\n",
        "if os.path.exists(os.path.join(folder, 'TRAIN')) and os.path.exists(os.path.join(folder, 'TEST')):\n",
        "    print(\"TRAIN and TEST folders exist. Reading image filenames...\")\n",
        "\n",
        "    # Get filenames from the TRAIN and TEST folders\n",
        "    train_filenames = get_filenames_from_folder(os.path.join(folder, 'TRAIN'))\n",
        "    test_filenames = get_filenames_from_folder(os.path.join(folder, 'TEST'))\n",
        "\n",
        "    # Filter the df DataFrame to get the train and test DataFrames\n",
        "    train_dataframe = df[df['new_filename'].isin(train_filenames)][['artist','date', 'new_filename']]\n",
        "    test_dataframe = df[df['new_filename'].isin(test_filenames)][['artist','date', 'new_filename']]\n",
        "\n",
        "    print(\"Train DataFrame:\", train_dataframe.shape)\n",
        "    print(\"Test DataFrame:\", test_dataframe.shape)\n",
        "else:\n",
        "    print(\"TRAIN and TEST folders do not exist. Please create the folders and try again.\")"
      ]
    },
    {
      "cell_type": "code",
      "execution_count": 8,
      "metadata": {
        "colab": {
          "base_uri": "https://localhost:8080/",
          "height": 206
        },
        "id": "F01oa2H6y-lH",
        "outputId": "584f49f8-fd77-4cea-ec70-7c940f8fad48"
      },
      "outputs": [
        {
          "data": {
            "application/vnd.google.colaboratory.intrinsic+json": {
              "summary": "{\n  \"name\": \"train_dataframe\",\n  \"rows\": 400,\n  \"fields\": [\n    {\n      \"column\": \"artist\",\n      \"properties\": {\n        \"dtype\": \"category\",\n        \"num_unique_values\": 5,\n        \"samples\": [\n          \"Martiros Saryan\",\n          \"John Singer Sargent\",\n          \"Vincent van Gogh\"\n        ],\n        \"semantic_type\": \"\",\n        \"description\": \"\"\n      }\n    },\n    {\n      \"column\": \"date\",\n      \"properties\": {\n        \"dtype\": \"number\",\n        \"std\": 26,\n        \"min\": 1876,\n        \"max\": 1983,\n        \"num_unique_values\": 87,\n        \"samples\": [\n          1955,\n          1903,\n          1964\n        ],\n        \"semantic_type\": \"\",\n        \"description\": \"\"\n      }\n    },\n    {\n      \"column\": \"new_filename\",\n      \"properties\": {\n        \"dtype\": \"string\",\n        \"num_unique_values\": 400,\n        \"samples\": [\n          \"15001.jpg\",\n          \"92796.jpg\",\n          \"8913.jpg\"\n        ],\n        \"semantic_type\": \"\",\n        \"description\": \"\"\n      }\n    }\n  ]\n}",
              "type": "dataframe",
              "variable_name": "train_dataframe"
            },
            "text/html": [
              "\n",
              "  <div id=\"df-8c54ce9c-bb34-466b-87b1-383c02341c40\" class=\"colab-df-container\">\n",
              "    <div>\n",
              "<style scoped>\n",
              "    .dataframe tbody tr th:only-of-type {\n",
              "        vertical-align: middle;\n",
              "    }\n",
              "\n",
              "    .dataframe tbody tr th {\n",
              "        vertical-align: top;\n",
              "    }\n",
              "\n",
              "    .dataframe thead th {\n",
              "        text-align: right;\n",
              "    }\n",
              "</style>\n",
              "<table border=\"1\" class=\"dataframe\">\n",
              "  <thead>\n",
              "    <tr style=\"text-align: right;\">\n",
              "      <th></th>\n",
              "      <th>artist</th>\n",
              "      <th>date</th>\n",
              "      <th>new_filename</th>\n",
              "    </tr>\n",
              "  </thead>\n",
              "  <tbody>\n",
              "    <tr>\n",
              "      <th>0</th>\n",
              "      <td>Paul Gauguin</td>\n",
              "      <td>1903</td>\n",
              "      <td>35323.jpg</td>\n",
              "    </tr>\n",
              "    <tr>\n",
              "      <th>2</th>\n",
              "      <td>Paul Gauguin</td>\n",
              "      <td>1892</td>\n",
              "      <td>101871.jpg</td>\n",
              "    </tr>\n",
              "    <tr>\n",
              "      <th>3</th>\n",
              "      <td>Paul Gauguin</td>\n",
              "      <td>1903</td>\n",
              "      <td>76989.jpg</td>\n",
              "    </tr>\n",
              "    <tr>\n",
              "      <th>4</th>\n",
              "      <td>Paul Gauguin</td>\n",
              "      <td>1892</td>\n",
              "      <td>89439.jpg</td>\n",
              "    </tr>\n",
              "    <tr>\n",
              "      <th>5</th>\n",
              "      <td>Paul Gauguin</td>\n",
              "      <td>1885</td>\n",
              "      <td>64788.jpg</td>\n",
              "    </tr>\n",
              "  </tbody>\n",
              "</table>\n",
              "</div>\n",
              "    <div class=\"colab-df-buttons\">\n",
              "\n",
              "  <div class=\"colab-df-container\">\n",
              "    <button class=\"colab-df-convert\" onclick=\"convertToInteractive('df-8c54ce9c-bb34-466b-87b1-383c02341c40')\"\n",
              "            title=\"Convert this dataframe to an interactive table.\"\n",
              "            style=\"display:none;\">\n",
              "\n",
              "  <svg xmlns=\"http://www.w3.org/2000/svg\" height=\"24px\" viewBox=\"0 -960 960 960\">\n",
              "    <path d=\"M120-120v-720h720v720H120Zm60-500h600v-160H180v160Zm220 220h160v-160H400v160Zm0 220h160v-160H400v160ZM180-400h160v-160H180v160Zm440 0h160v-160H620v160ZM180-180h160v-160H180v160Zm440 0h160v-160H620v160Z\"/>\n",
              "  </svg>\n",
              "    </button>\n",
              "\n",
              "  <style>\n",
              "    .colab-df-container {\n",
              "      display:flex;\n",
              "      gap: 12px;\n",
              "    }\n",
              "\n",
              "    .colab-df-convert {\n",
              "      background-color: #E8F0FE;\n",
              "      border: none;\n",
              "      border-radius: 50%;\n",
              "      cursor: pointer;\n",
              "      display: none;\n",
              "      fill: #1967D2;\n",
              "      height: 32px;\n",
              "      padding: 0 0 0 0;\n",
              "      width: 32px;\n",
              "    }\n",
              "\n",
              "    .colab-df-convert:hover {\n",
              "      background-color: #E2EBFA;\n",
              "      box-shadow: 0px 1px 2px rgba(60, 64, 67, 0.3), 0px 1px 3px 1px rgba(60, 64, 67, 0.15);\n",
              "      fill: #174EA6;\n",
              "    }\n",
              "\n",
              "    .colab-df-buttons div {\n",
              "      margin-bottom: 4px;\n",
              "    }\n",
              "\n",
              "    [theme=dark] .colab-df-convert {\n",
              "      background-color: #3B4455;\n",
              "      fill: #D2E3FC;\n",
              "    }\n",
              "\n",
              "    [theme=dark] .colab-df-convert:hover {\n",
              "      background-color: #434B5C;\n",
              "      box-shadow: 0px 1px 3px 1px rgba(0, 0, 0, 0.15);\n",
              "      filter: drop-shadow(0px 1px 2px rgba(0, 0, 0, 0.3));\n",
              "      fill: #FFFFFF;\n",
              "    }\n",
              "  </style>\n",
              "\n",
              "    <script>\n",
              "      const buttonEl =\n",
              "        document.querySelector('#df-8c54ce9c-bb34-466b-87b1-383c02341c40 button.colab-df-convert');\n",
              "      buttonEl.style.display =\n",
              "        google.colab.kernel.accessAllowed ? 'block' : 'none';\n",
              "\n",
              "      async function convertToInteractive(key) {\n",
              "        const element = document.querySelector('#df-8c54ce9c-bb34-466b-87b1-383c02341c40');\n",
              "        const dataTable =\n",
              "          await google.colab.kernel.invokeFunction('convertToInteractive',\n",
              "                                                    [key], {});\n",
              "        if (!dataTable) return;\n",
              "\n",
              "        const docLinkHtml = 'Like what you see? Visit the ' +\n",
              "          '<a target=\"_blank\" href=https://colab.research.google.com/notebooks/data_table.ipynb>data table notebook</a>'\n",
              "          + ' to learn more about interactive tables.';\n",
              "        element.innerHTML = '';\n",
              "        dataTable['output_type'] = 'display_data';\n",
              "        await google.colab.output.renderOutput(dataTable, element);\n",
              "        const docLink = document.createElement('div');\n",
              "        docLink.innerHTML = docLinkHtml;\n",
              "        element.appendChild(docLink);\n",
              "      }\n",
              "    </script>\n",
              "  </div>\n",
              "\n",
              "\n",
              "<div id=\"df-dd44913c-85ca-43b4-9fc0-db0786fbfbb7\">\n",
              "  <button class=\"colab-df-quickchart\" onclick=\"quickchart('df-dd44913c-85ca-43b4-9fc0-db0786fbfbb7')\"\n",
              "            title=\"Suggest charts\"\n",
              "            style=\"display:none;\">\n",
              "\n",
              "<svg xmlns=\"http://www.w3.org/2000/svg\" height=\"24px\"viewBox=\"0 0 24 24\"\n",
              "     width=\"24px\">\n",
              "    <g>\n",
              "        <path d=\"M19 3H5c-1.1 0-2 .9-2 2v14c0 1.1.9 2 2 2h14c1.1 0 2-.9 2-2V5c0-1.1-.9-2-2-2zM9 17H7v-7h2v7zm4 0h-2V7h2v10zm4 0h-2v-4h2v4z\"/>\n",
              "    </g>\n",
              "</svg>\n",
              "  </button>\n",
              "\n",
              "<style>\n",
              "  .colab-df-quickchart {\n",
              "      --bg-color: #E8F0FE;\n",
              "      --fill-color: #1967D2;\n",
              "      --hover-bg-color: #E2EBFA;\n",
              "      --hover-fill-color: #174EA6;\n",
              "      --disabled-fill-color: #AAA;\n",
              "      --disabled-bg-color: #DDD;\n",
              "  }\n",
              "\n",
              "  [theme=dark] .colab-df-quickchart {\n",
              "      --bg-color: #3B4455;\n",
              "      --fill-color: #D2E3FC;\n",
              "      --hover-bg-color: #434B5C;\n",
              "      --hover-fill-color: #FFFFFF;\n",
              "      --disabled-bg-color: #3B4455;\n",
              "      --disabled-fill-color: #666;\n",
              "  }\n",
              "\n",
              "  .colab-df-quickchart {\n",
              "    background-color: var(--bg-color);\n",
              "    border: none;\n",
              "    border-radius: 50%;\n",
              "    cursor: pointer;\n",
              "    display: none;\n",
              "    fill: var(--fill-color);\n",
              "    height: 32px;\n",
              "    padding: 0;\n",
              "    width: 32px;\n",
              "  }\n",
              "\n",
              "  .colab-df-quickchart:hover {\n",
              "    background-color: var(--hover-bg-color);\n",
              "    box-shadow: 0 1px 2px rgba(60, 64, 67, 0.3), 0 1px 3px 1px rgba(60, 64, 67, 0.15);\n",
              "    fill: var(--button-hover-fill-color);\n",
              "  }\n",
              "\n",
              "  .colab-df-quickchart-complete:disabled,\n",
              "  .colab-df-quickchart-complete:disabled:hover {\n",
              "    background-color: var(--disabled-bg-color);\n",
              "    fill: var(--disabled-fill-color);\n",
              "    box-shadow: none;\n",
              "  }\n",
              "\n",
              "  .colab-df-spinner {\n",
              "    border: 2px solid var(--fill-color);\n",
              "    border-color: transparent;\n",
              "    border-bottom-color: var(--fill-color);\n",
              "    animation:\n",
              "      spin 1s steps(1) infinite;\n",
              "  }\n",
              "\n",
              "  @keyframes spin {\n",
              "    0% {\n",
              "      border-color: transparent;\n",
              "      border-bottom-color: var(--fill-color);\n",
              "      border-left-color: var(--fill-color);\n",
              "    }\n",
              "    20% {\n",
              "      border-color: transparent;\n",
              "      border-left-color: var(--fill-color);\n",
              "      border-top-color: var(--fill-color);\n",
              "    }\n",
              "    30% {\n",
              "      border-color: transparent;\n",
              "      border-left-color: var(--fill-color);\n",
              "      border-top-color: var(--fill-color);\n",
              "      border-right-color: var(--fill-color);\n",
              "    }\n",
              "    40% {\n",
              "      border-color: transparent;\n",
              "      border-right-color: var(--fill-color);\n",
              "      border-top-color: var(--fill-color);\n",
              "    }\n",
              "    60% {\n",
              "      border-color: transparent;\n",
              "      border-right-color: var(--fill-color);\n",
              "    }\n",
              "    80% {\n",
              "      border-color: transparent;\n",
              "      border-right-color: var(--fill-color);\n",
              "      border-bottom-color: var(--fill-color);\n",
              "    }\n",
              "    90% {\n",
              "      border-color: transparent;\n",
              "      border-bottom-color: var(--fill-color);\n",
              "    }\n",
              "  }\n",
              "</style>\n",
              "\n",
              "  <script>\n",
              "    async function quickchart(key) {\n",
              "      const quickchartButtonEl =\n",
              "        document.querySelector('#' + key + ' button');\n",
              "      quickchartButtonEl.disabled = true;  // To prevent multiple clicks.\n",
              "      quickchartButtonEl.classList.add('colab-df-spinner');\n",
              "      try {\n",
              "        const charts = await google.colab.kernel.invokeFunction(\n",
              "            'suggestCharts', [key], {});\n",
              "      } catch (error) {\n",
              "        console.error('Error during call to suggestCharts:', error);\n",
              "      }\n",
              "      quickchartButtonEl.classList.remove('colab-df-spinner');\n",
              "      quickchartButtonEl.classList.add('colab-df-quickchart-complete');\n",
              "    }\n",
              "    (() => {\n",
              "      let quickchartButtonEl =\n",
              "        document.querySelector('#df-dd44913c-85ca-43b4-9fc0-db0786fbfbb7 button');\n",
              "      quickchartButtonEl.style.display =\n",
              "        google.colab.kernel.accessAllowed ? 'block' : 'none';\n",
              "    })();\n",
              "  </script>\n",
              "</div>\n",
              "    </div>\n",
              "  </div>\n"
            ],
            "text/plain": [
              "         artist  date new_filename\n",
              "0  Paul Gauguin  1903    35323.jpg\n",
              "2  Paul Gauguin  1892   101871.jpg\n",
              "3  Paul Gauguin  1903    76989.jpg\n",
              "4  Paul Gauguin  1892    89439.jpg\n",
              "5  Paul Gauguin  1885    64788.jpg"
            ]
          },
          "execution_count": 8,
          "metadata": {},
          "output_type": "execute_result"
        }
      ],
      "source": [
        "train_dataframe.head()"
      ]
    },
    {
      "cell_type": "code",
      "execution_count": 9,
      "metadata": {
        "colab": {
          "base_uri": "https://localhost:8080/"
        },
        "id": "LRyT2U1GOkH-",
        "outputId": "b353820d-dd39-449b-e5d0-41ec608761b2"
      },
      "outputs": [
        {
          "name": "stdout",
          "output_type": "stream",
          "text": [
            "Mean Values: [0.4902860351171657, 0.4327027123349515, 0.3679902021355657]\n",
            "STD Values: [0.22134062718873712, 0.20430693703606892, 0.18851782142531143]\n"
          ]
        }
      ],
      "source": [
        "import numpy as np\n",
        "from PIL import Image\n",
        "import os\n",
        "\n",
        "def get_meanstd(df, image_dir):\n",
        "    means = []\n",
        "    stds = []\n",
        "    for idx, row in df.iterrows():\n",
        "        img_path = os.path.join(image_dir, row['new_filename'])\n",
        "        img = np.array(Image.open(img_path)) / 255.0\n",
        "        means.append(np.mean(img, axis=(0, 1)))\n",
        "        stds.append(np.std(img, axis=(0, 1)))\n",
        "\n",
        "    meanR = np.mean([m[0] for m in means])\n",
        "    meanG = np.mean([m[1] for m in means])\n",
        "    meanB = np.mean([m[2] for m in means])\n",
        "\n",
        "    stdR = np.mean([s[0] for s in stds])\n",
        "    stdG = np.mean([s[1] for s in stds])\n",
        "    stdB = np.mean([s[2] for s in stds])\n",
        "\n",
        "    return [meanR, meanG, meanB], [stdR, stdG, stdB]\n",
        "\n",
        "\n",
        "means, stds = get_meanstd(train_dataframe, folder+\"/TRAIN\")\n",
        "print(f'Mean Values: {means}')\n",
        "print(f'STD Values: {stds}')"
      ]
    },
    {
      "cell_type": "code",
      "execution_count": 10,
      "metadata": {
        "id": "Bl4Jy6S4OmWh"
      },
      "outputs": [],
      "source": [
        "import itertools\n",
        "\n",
        "def load_image(image_path,  means=None, stds=None):\n",
        "    image = Image.open(image_path)\n",
        "    image = np.array(image) / 255.0  # Normalize\n",
        "\n",
        "    # Normalize using means and stds\n",
        "    if means is not None and stds is not None:\n",
        "        image = (image - means) / stds\n",
        "\n",
        "    return image\n",
        "\n",
        "def create_pairs_by_artist(df, image_dir, means, stds, mode):\n",
        "    pairs = []\n",
        "    labels = []\n",
        "    artists = df['artist'].unique()\n",
        "\n",
        "    for artist in artists:\n",
        "        if mode == \"TRAIN\":\n",
        "          artist_df = df[df['artist'] == artist].head(20)\n",
        "        else:\n",
        "          artist_df = df[df['artist'] == artist].head(9)\n",
        "        artist_images = [os.path.join(image_dir, filename) for filename in artist_df['new_filename']]\n",
        "        artist_pairs = list(itertools.combinations(artist_images, 2))\n",
        "\n",
        "        for pair in artist_pairs:\n",
        "            date_img1 = artist_df[artist_df['new_filename'] == pair[0].split(\"/\")[-1]]['date'].tolist()[0]\n",
        "            date_img2 = artist_df[artist_df['new_filename'] == pair[1].split(\"/\")[-1]]['date'].tolist()[0]\n",
        "            img1 = load_image(pair[0], means=means, stds=stds) # Load normalizing\n",
        "            img2 = load_image(pair[1], means=means, stds=stds) # Load normalizing\n",
        "\n",
        "            pairs.append([img1, img2])\n",
        "            label = 1 if date_img1 > date_img2 else 0\n",
        "            labels.append(label)\n",
        "\n",
        "    return np.array(pairs), np.array(labels)\n",
        "# Create training and test pairs\n",
        "train_pairs, train_labels = create_pairs_by_artist(train_dataframe, folder+\"/TRAIN\", means, stds, mode = \"TRAIN\")\n",
        "test_pairs, test_labels = create_pairs_by_artist(test_dataframe, folder+\"/TEST\", means, stds, mode = \"TEST\")\n"
      ]
    },
    {
      "cell_type": "code",
      "execution_count": 11,
      "metadata": {
        "colab": {
          "base_uri": "https://localhost:8080/"
        },
        "id": "N2BsYmR6UdtH",
        "outputId": "f3d09eea-ec54-4732-8bf5-835564e0a251"
      },
      "outputs": [
        {
          "name": "stdout",
          "output_type": "stream",
          "text": [
            "Number of pairs in TRAIN: 950\n",
            "Number of pairs in TEST: 180\n"
          ]
        }
      ],
      "source": [
        "print(\"Number of pairs in TRAIN:\", len(train_pairs))\n",
        "print(\"Number of pairs in TEST:\", len(test_pairs))"
      ]
    },
    {
      "cell_type": "code",
      "execution_count": 12,
      "metadata": {
        "id": "BLgbsno8ggIj"
      },
      "outputs": [],
      "source": [
        "from torchvision import transforms\n",
        "\n",
        "train_dataframe = train_dataframe.drop(columns=['artist'])\n",
        "test_dataframe = test_dataframe.drop(columns=['artist'])\n",
        "# Data Transformation\n",
        "\n",
        "# Transformations for training set\n",
        "train_transformer = transforms.Compose([transforms.RandomHorizontalFlip(p=0.5),\n",
        "                                        transforms.RandomVerticalFlip(p=0.5),\n",
        "                                        transforms.ToTensor(),\n",
        "                                        transforms.Normalize([means[0], means[1], means[2]],\n",
        "                                                             [stds[0], stds[1], stds[2]])])\n",
        "\n",
        "# Standard transformations for test set\n",
        "test0_transformer = transforms.Compose([transforms.ToTensor(),\n",
        "                                        transforms.Normalize([means[0], means[1], means[2]],\n",
        "                                                             [stds[0], stds[1], stds[2]])])\n",
        "\n",
        "# Update the transform functions for train_ds & test_all\n",
        "train_dataframe.transform = train_transformer\n",
        "test_dataframe.transform = test0_transformer"
      ]
    },
    {
      "cell_type": "code",
      "execution_count": 13,
      "metadata": {
        "id": "qVdcetdUtRQ9"
      },
      "outputs": [],
      "source": [
        "# Plotting the training and validation curves for loss and accuracy\n",
        "def plot_out(loss_hist, metric_hist, epochs=None):\n",
        "    # Create the figure and axes\n",
        "    fig, axs = plt.subplots(1, 2, figsize=(12, 6))\n",
        "\n",
        "    # Loss history plot\n",
        "    axs[0].plot(range(1, epochs+1), loss_hist[\"train\"], label=\"Train loss\")\n",
        "    axs[0].plot(range(1, epochs+1), loss_hist[\"val\"], label=\"Validation loss\")\n",
        "    axs[0].set_title('Loss History')\n",
        "    axs[0].set_xlabel('Epoch')\n",
        "    axs[0].set_ylabel('Loss')\n",
        "    axs[0].legend()\n",
        "\n",
        "    # Metric history plot\n",
        "    axs[1].plot(range(1, epochs+1), metric_hist[\"train\"], label=\"Train accuracy\")\n",
        "    axs[1].plot(range(1, epochs+1), metric_hist[\"val\"], label=\"Validation accuracy\")\n",
        "    axs[1].set_title('Accuracy History')\n",
        "    axs[1].set_xlabel('Epoch')\n",
        "    axs[1].set_ylabel('Accuracy')\n",
        "    axs[1].legend()\n",
        "\n",
        "    # Adjust spacing between subplots\n",
        "    plt.tight_layout()\n",
        "\n",
        "    # Show the plot\n",
        "    plt.show()"
      ]
    },
    {
      "cell_type": "markdown",
      "metadata": {
        "id": "LFaSQ0r98H6V"
      },
      "source": [
        "## The best model of Vgg with early stopping of val_accuracy"
      ]
    },
    {
      "cell_type": "code",
      "execution_count": 17,
      "metadata": {
        "colab": {
          "base_uri": "https://localhost:8080/"
        },
        "id": "uTpQbPJ56ALH",
        "outputId": "2ef11a56-0314-490a-cb24-c3603ac8aeb4"
      },
      "outputs": [
        {
          "name": "stdout",
          "output_type": "stream",
          "text": [
            "Model: \"model_2\"\n",
            "__________________________________________________________________________________________________\n",
            " Layer (type)                Output Shape                 Param #   Connected to                  \n",
            "==================================================================================================\n",
            " input_8 (InputLayer)        [(None, 224, 224, 3)]        0         []                            \n",
            "                                                                                                  \n",
            " input_9 (InputLayer)        [(None, 224, 224, 3)]        0         []                            \n",
            "                                                                                                  \n",
            " vgg16 (Functional)          (None, 7, 7, 512)            1471468   ['input_8[0][0]',             \n",
            "                                                          8          'input_9[0][0]']             \n",
            "                                                                                                  \n",
            " flatten_2 (Flatten)         (None, 25088)                0         ['vgg16[0][0]']               \n",
            "                                                                                                  \n",
            " flatten_3 (Flatten)         (None, 25088)                0         ['vgg16[1][0]']               \n",
            "                                                                                                  \n",
            " concatenate_2 (Concatenate  (None, 50176)                0         ['flatten_2[0][0]',           \n",
            " )                                                                   'flatten_3[0][0]']           \n",
            "                                                                                                  \n",
            " dense_6 (Dense)             (None, 256)                  1284531   ['concatenate_2[0][0]']       \n",
            "                                                          2                                       \n",
            "                                                                                                  \n",
            " dropout_4 (Dropout)         (None, 256)                  0         ['dense_6[0][0]']             \n",
            "                                                                                                  \n",
            " dense_7 (Dense)             (None, 128)                  32896     ['dropout_4[0][0]']           \n",
            "                                                                                                  \n",
            " dropout_5 (Dropout)         (None, 128)                  0         ['dense_7[0][0]']             \n",
            "                                                                                                  \n",
            " dense_8 (Dense)             (None, 1)                    129       ['dropout_5[0][0]']           \n",
            "                                                                                                  \n",
            "==================================================================================================\n",
            "Total params: 27593025 (105.26 MB)\n",
            "Trainable params: 19957761 (76.13 MB)\n",
            "Non-trainable params: 7635264 (29.13 MB)\n",
            "__________________________________________________________________________________________________\n",
            "Epoch 1/50\n",
            "24/24 [==============================] - 14s 443ms/step - loss: 6.9125 - accuracy: 0.5145 - val_loss: 6.0132 - val_accuracy: 0.5211\n",
            "Epoch 2/50\n",
            "24/24 [==============================] - 10s 409ms/step - loss: 5.4337 - accuracy: 0.6474 - val_loss: 4.8949 - val_accuracy: 0.6158\n",
            "Epoch 3/50\n",
            "24/24 [==============================] - 11s 451ms/step - loss: 4.4912 - accuracy: 0.6921 - val_loss: 4.1540 - val_accuracy: 0.6316\n",
            "Epoch 4/50\n",
            "24/24 [==============================] - 9s 398ms/step - loss: 3.8525 - accuracy: 0.7737 - val_loss: 3.6476 - val_accuracy: 0.6158\n",
            "Epoch 5/50\n",
            "24/24 [==============================] - 11s 442ms/step - loss: 3.3927 - accuracy: 0.8316 - val_loss: 3.2775 - val_accuracy: 0.6579\n",
            "Epoch 6/50\n",
            "24/24 [==============================] - 9s 399ms/step - loss: 3.0454 - accuracy: 0.8789 - val_loss: 3.0042 - val_accuracy: 0.6211\n",
            "Epoch 7/50\n",
            "24/24 [==============================] - 11s 445ms/step - loss: 2.7654 - accuracy: 0.8908 - val_loss: 2.7620 - val_accuracy: 0.6684\n",
            "Epoch 8/50\n",
            "24/24 [==============================] - 11s 447ms/step - loss: 2.5342 - accuracy: 0.9053 - val_loss: 2.5694 - val_accuracy: 0.6579\n",
            "Epoch 9/50\n",
            "24/24 [==============================] - 11s 448ms/step - loss: 2.3420 - accuracy: 0.9276 - val_loss: 2.4001 - val_accuracy: 0.6684\n",
            "Epoch 10/50\n",
            "24/24 [==============================] - 11s 454ms/step - loss: 2.1747 - accuracy: 0.9224 - val_loss: 2.2782 - val_accuracy: 0.6105\n",
            "Epoch 11/50\n",
            "24/24 [==============================] - 10s 418ms/step - loss: 2.0203 - accuracy: 0.9329 - val_loss: 2.1420 - val_accuracy: 0.6474\n",
            "Epoch 12/50\n",
            "24/24 [==============================] - 11s 453ms/step - loss: 1.8959 - accuracy: 0.9355 - val_loss: 2.0501 - val_accuracy: 0.6263\n",
            "Epoch 13/50\n",
            "24/24 [==============================] - 10s 416ms/step - loss: 1.7648 - accuracy: 0.9526 - val_loss: 1.9476 - val_accuracy: 0.6474\n",
            "Epoch 14/50\n",
            "24/24 [==============================] - 11s 454ms/step - loss: 1.6529 - accuracy: 0.9421 - val_loss: 1.8490 - val_accuracy: 0.6211\n",
            "Epoch 15/50\n",
            "24/24 [==============================] - 11s 459ms/step - loss: 1.5616 - accuracy: 0.9566 - val_loss: 1.7659 - val_accuracy: 0.6526\n",
            "Epoch 16/50\n",
            "24/24 [==============================] - 11s 461ms/step - loss: 1.4790 - accuracy: 0.9579 - val_loss: 1.7207 - val_accuracy: 0.6158\n",
            "Epoch 17/50\n",
            "24/24 [==============================] - 11s 469ms/step - loss: 1.3887 - accuracy: 0.9605 - val_loss: 1.6291 - val_accuracy: 0.6000\n",
            "6/6 [==============================] - 2s 267ms/step - loss: 2.7535 - accuracy: 0.6611\n",
            "Test accuracy: 0.66\n"
          ]
        }
      ],
      "source": [
        "import tensorflow as tf\n",
        "from tensorflow.keras import layers, models, optimizers, regularizers, callbacks\n",
        "\n",
        "input_shape = (224, 224, 3)\n",
        "learning_rate = 1e-4\n",
        "\n",
        "def create_model(input_shape):\n",
        "    base_model = tf.keras.applications.VGG16(include_top=False, input_shape=input_shape, weights='imagenet')\n",
        "\n",
        "    for layer in base_model.layers:\n",
        "        layer.trainable = False\n",
        "\n",
        "    for layer in base_model.layers[-4:]:\n",
        "        layer.trainable = True\n",
        "\n",
        "    input_1 = layers.Input(shape=input_shape)\n",
        "    input_2 = layers.Input(shape=input_shape)\n",
        "\n",
        "    x1 = base_model(input_1)\n",
        "    x2 = base_model(input_2)\n",
        "\n",
        "    x1 = layers.Flatten()(x1)\n",
        "    x2 = layers.Flatten()(x2)\n",
        "\n",
        "    concatenated = layers.Concatenate()([x1, x2])\n",
        "\n",
        "    dense = layers.Dense(256, activation='relu', kernel_regularizer=regularizers.l2(0.01), activity_regularizer=regularizers.l2(0.01))(concatenated)\n",
        "    dense = layers.Dropout(0.6)(dense)  # Increased dropout rate\n",
        "    dense = layers.Dense(128, activation='relu', kernel_regularizer=regularizers.l2(0.01), activity_regularizer=regularizers.l2(0.01))(dense)\n",
        "    dense = layers.Dropout(0.6)(dense)  # Increased dropout rate\n",
        "    output = layers.Dense(1, activation='sigmoid')(dense)\n",
        "\n",
        "    model = models.Model(inputs=[input_1, input_2], outputs=output)\n",
        "\n",
        "    optimizer = optimizers.Adam(learning_rate=learning_rate)\n",
        "\n",
        "    model.compile(optimizer=optimizer, loss='binary_crossentropy', metrics=['accuracy'])\n",
        "\n",
        "    return model\n",
        "\n",
        "model = create_model(input_shape)\n",
        "model.summary()\n",
        "\n",
        "early_stopping = callbacks.EarlyStopping(monitor='val_accuracy', patience=10, restore_best_weights=True)\n",
        "\n",
        "history = model.fit([train_pairs[:, 0], train_pairs[:, 1]], train_labels,\n",
        "                    epochs=50, batch_size=32, validation_split=0.2,\n",
        "                    callbacks=[early_stopping])\n",
        "\n",
        "test_loss, test_accuracy = model.evaluate([test_pairs[:, 0], test_pairs[:, 1]], test_labels)\n",
        "print(f'Test accuracy: {test_accuracy:.2f}')\n"
      ]
    },
    {
      "cell_type": "code",
      "execution_count": 19,
      "metadata": {
        "colab": {
          "base_uri": "https://localhost:8080/",
          "height": 607
        },
        "id": "yZHmoXtB8JPD",
        "outputId": "50c7a3c4-8611-40df-f271-391db444147b"
      },
      "outputs": [
        {
          "data": {
            "image/png": "[encoded data removed]",
            "text/plain": [
              "<Figure size 1200x600 with 2 Axes>"
            ]
          },
          "metadata": {},
          "output_type": "display_data"
        }
      ],
      "source": [
        "# Prepare the data for the plot_out function\n",
        "loss_hist = {\n",
        "    \"train\": history.history['loss'],\n",
        "    \"val\": history.history['val_loss']\n",
        "}\n",
        "\n",
        "metric_hist = {\n",
        "    \"train\": history.history['accuracy'],\n",
        "    \"val\": history.history['val_accuracy']\n",
        "}\n",
        "\n",
        "# Call the plot_out function\n",
        "plot_out(loss_hist, metric_hist, epochs=len(history.history['loss']))"
      ]
    }
  ],
  "metadata": {
    "accelerator": "GPU",
    "colab": {
      "gpuType": "T4",
      "provenance": []
    },
    "kernelspec": {
      "display_name": "Python 3",
      "name": "python3"
    },
    "language_info": {
      "name": "python"
    }
  },
  "nbformat": 4,
  "nbformat_minor": 0
}
