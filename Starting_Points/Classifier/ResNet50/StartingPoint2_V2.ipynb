{
  "cells": [
    {
      "cell_type": "code",
      "execution_count": null,
      "metadata": {
        "colab": {
          "base_uri": "https://localhost:8080/"
        },
        "id": "1MFB_7xGN1Cv",
        "outputId": "40f08b0e-785a-46c4-d716-fa3f7472891f"
      },
      "outputs": [
        {
          "name": "stdout",
          "output_type": "stream",
          "text": [
            "Mounted at /content/drive\n"
          ]
        }
      ],
      "source": [
        "from google.colab import drive\n",
        "drive.mount('/content/drive')"
      ]
    },
    {
      "cell_type": "code",
      "execution_count": null,
      "metadata": {
        "id": "it2h3AxUxeCV"
      },
      "outputs": [],
      "source": [
        "import numpy as np # linear algebra\n",
        "import pandas as pd # data processing, CSV file I/O (e.g. pd.read_csv)\n",
        "%matplotlib inline\n",
        "import matplotlib.pyplot as plt\n",
        "from random import seed # for setting seed\n",
        "import tensorflow\n",
        "from IPython import sys_info\n",
        "import os\n",
        "import gc # garbage collection\n",
        "import random\n",
        "import os\n",
        "import shutil"
      ]
    },
    {
      "cell_type": "code",
      "execution_count": null,
      "metadata": {
        "colab": {
          "base_uri": "https://localhost:8080/"
        },
        "id": "bSxEf4Blxpmf",
        "outputId": "aee69c50-0336-46c1-f653-f85ba4525262"
      },
      "outputs": [
        {
          "name": "stdout",
          "output_type": "stream",
          "text": [
            "{'commit_hash': 'fcc71cc32',\n",
            " 'commit_source': 'installation',\n",
            " 'default_encoding': 'utf-8',\n",
            " 'ipython_path': '/usr/local/lib/python3.10/dist-packages/IPython',\n",
            " 'ipython_version': '7.34.0',\n",
            " 'os_name': 'posix',\n",
            " 'platform': 'Linux-6.1.58+-x86_64-with-glibc2.35',\n",
            " 'sys_executable': '/usr/bin/python3',\n",
            " 'sys_platform': 'linux',\n",
            " 'sys_version': '3.10.12 (main, Nov 20 2023, 15:14:05) [GCC 11.4.0]'}\n"
          ]
        }
      ],
      "source": [
        "MY_SEED = 42 # 480 could work too\n",
        "seed(MY_SEED)\n",
        "\n",
        "\n",
        "print(sys_info())\n",
        "# get module information\n",
        "!pip freeze > frozen-requirements.txt\n",
        "# append system information to file\n",
        "with open(\"frozen-requirements.txt\", \"a\") as file:\n",
        "    file.write(sys_info())"
      ]
    },
    {
      "cell_type": "code",
      "execution_count": null,
      "metadata": {
        "colab": {
          "base_uri": "https://localhost:8080/"
        },
        "id": "CEwjrG_Lx-_V",
        "outputId": "2f197cfb-6604-4cbc-fd45-151c8a64e607"
      },
      "outputs": [
        {
          "name": "stdout",
          "output_type": "stream",
          "text": [
            "[name: \"/device:CPU:0\"\n",
            "device_type: \"CPU\"\n",
            "memory_limit: 268435456\n",
            "locality {\n",
            "}\n",
            "incarnation: 7588666484507063171\n",
            "xla_global_id: -1\n",
            "]\n"
          ]
        }
      ],
      "source": [
        "from tensorflow.python.client import device_lib\n",
        "# print out the CPUs and GPUs\n",
        "print(device_lib.list_local_devices())"
      ]
    },
    {
      "cell_type": "code",
      "execution_count": null,
      "metadata": {
        "id": "ex3JtZsSyARO"
      },
      "outputs": [],
      "source": [
        "from PIL import Image\n",
        "Image.MAX_IMAGE_PIXELS = None"
      ]
    },
    {
      "cell_type": "code",
      "execution_count": null,
      "metadata": {
        "id": "d6LnFukyyN41"
      },
      "outputs": [],
      "source": [
        "from tensorflow.keras.applications import ResNet50, VGG16\n",
        "from tensorflow.keras.models import Sequential\n",
        "from tensorflow.keras.layers import Dense, Flatten, GlobalAveragePooling2D, Input\n",
        "\n",
        "from tensorflow.keras.applications.resnet50 import preprocess_input\n",
        "from tensorflow.keras.preprocessing.image import ImageDataGenerator"
      ]
    },
    {
      "cell_type": "code",
      "execution_count": null,
      "metadata": {
        "colab": {
          "base_uri": "https://localhost:8080/"
        },
        "id": "XLw4pZRxx-bk",
        "outputId": "d2a4c66a-1a02-488d-c07b-d33fcb08fa38"
      },
      "outputs": [
        {
          "name": "stdout",
          "output_type": "stream",
          "text": [
            "         artist  date                  genre  pixelsx  pixelsy  size_bytes  \\\n",
            "0  Paul Gauguin  1903         genre painting   1916.0   1688.0    363138.0   \n",
            "1  Paul Gauguin  1893               portrait   2048.0   1348.0    293452.0   \n",
            "2  Paul Gauguin  1892  mythological painting   1800.0   1082.0   1638911.0   \n",
            "3  Paul Gauguin  1903         genre painting   1600.0   1067.0    307130.0   \n",
            "4  Paul Gauguin  1892               portrait   1096.0   1476.0    467406.0   \n",
            "\n",
            "    source               style                  title    artist_group  \\\n",
            "0  wikiart  Post-Impressionism         The Invocation  train_and_test   \n",
            "1  wikiart         Cloisonnism                  Alone  train_and_test   \n",
            "2  wikiart         Cloisonnism          The Royal End  train_and_test   \n",
            "3  wikiart  Post-Impressionism  Women and white horse  train_and_test   \n",
            "4  wikiart  Post-Impressionism            Two sisters  train_and_test   \n",
            "\n",
            "   in_train new_filename  \n",
            "0     False    35323.jpg  \n",
            "1     False    73683.jpg  \n",
            "2      True   101871.jpg  \n",
            "3      True    76989.jpg  \n",
            "4     False    89439.jpg  \n"
          ]
        }
      ],
      "source": [
        "folder = '/content/drive/My Drive/PROJECTE DEEP LEARNING/TOP5_ARTISTS_WITH_100_PICTURES'\n",
        "\n",
        "# List the files in the folder\n",
        "all_pictures = os.listdir(folder)\n",
        "\n",
        "file_path = \"/content/drive/My Drive/PROJECTE DEEP LEARNING/TOP5_ARTISTS_WITH_100_PICTURES.csv\"\n",
        "df = pd.read_csv(file_path)\n",
        "print(df.head())\n"
      ]
    },
    {
      "cell_type": "markdown",
      "metadata": {
        "id": "PCsiHkNFngQ6"
      },
      "source": [
        "# Create Train and Test sets (only execute this if it's the first time)"
      ]
    },
    {
      "cell_type": "code",
      "execution_count": null,
      "metadata": {
        "colab": {
          "base_uri": "https://localhost:8080/"
        },
        "id": "LWbR12KPhL1F",
        "outputId": "9e93d99d-2cc1-4278-c005-265b43b71ab4"
      },
      "outputs": [
        {
          "name": "stdout",
          "output_type": "stream",
          "text": [
            "Paul Gauguin 100\n",
            "Martiros Saryan 100\n",
            "Vincent van Gogh 100\n",
            "Marc Chagall 100\n",
            "John Singer Sargent 100\n"
          ]
        }
      ],
      "source": [
        "# GROUP THE FILES BY EACH ARTIST\n",
        "def group_files_per_artist():\n",
        "  data_per_artist = {}\n",
        "\n",
        "  # Iterate over each row of the DataFrame\n",
        "  for index, row in df.iterrows():\n",
        "      artist = row['artist']\n",
        "      new_filename = row['new_filename']\n",
        "\n",
        "      # Check if the artist is already in the dictionary\n",
        "      if artist in data_per_artist:\n",
        "          # Add the new_filename to the existing list of the artist\n",
        "          data_per_artist[artist].append(new_filename)\n",
        "      else:\n",
        "          # Create a new list for the artist and add the new_filename\n",
        "          data_per_artist[artist] = [new_filename]\n",
        "\n",
        "  return data_per_artist\n",
        "\n",
        "# SPLIT THE FILES INTO TRAIN AND TEST SETS (CREATE NEW DATASETS)\n",
        "def split_test_train(data_per_artist, train_percentage = 0.8):\n",
        "\n",
        "  TRAIN_names = []\n",
        "  TEST_names = []\n",
        "\n",
        "  # Iterate over each artist and their 'new_filename'\n",
        "  for artist, filenames in data_per_artist.items():\n",
        "      # Calculate the number of files for training and testing\n",
        "      total_files = len(filenames)\n",
        "      num_train = int(train_percentage * total_files)\n",
        "\n",
        "      # Shuffle the filenames to avoid selection biases\n",
        "      random.shuffle(filenames)\n",
        "\n",
        "      # Divide the filenames into train and test\n",
        "      train_filenames = filenames[:num_train]\n",
        "      test_filenames = filenames[num_train:]\n",
        "\n",
        "      # Store the divided filenames into train and test\n",
        "      TRAIN_names.extend(train_filenames)\n",
        "      TEST_names.extend(test_filenames)\n",
        "  return TRAIN_names, TEST_names\n",
        "\n",
        "\n",
        "\n",
        "# CREATE TEST and TRAIN folders\n",
        "def create_train_test_folders(folder, TRAIN_names, TEST_names):\n",
        "    # Output folder for TRAIN and TEST\n",
        "    train_folder = os.path.join(folder, 'TRAIN')\n",
        "    test_folder = os.path.join(folder, 'TEST')\n",
        "\n",
        "    # Create TRAIN and TEST folders if they don't exist\n",
        "    os.makedirs(train_folder, exist_ok=True)\n",
        "    os.makedirs(test_folder, exist_ok=True)\n",
        "\n",
        "    # Move images from TRAIN to TRAIN folder\n",
        "    for filename in TRAIN_names:\n",
        "        src = os.path.join(folder, filename)\n",
        "        dst = os.path.join(train_folder, filename)\n",
        "        shutil.move(src, dst)\n",
        "\n",
        "    # Move images from TEST to TEST folder\n",
        "    for filename in TEST_names:\n",
        "        src = os.path.join(folder, filename)\n",
        "        dst = os.path.join(test_folder, filename)\n",
        "        shutil.move(src, dst)\n",
        "\n",
        "    # Create df_train with rows whose 'new_filename' is in TRAIN_names and keep only 'artist' and 'new_filename' columns\n",
        "    train_dataframe = df[df['new_filename'].isin(TRAIN_names)][['artist', 'new_filename']]\n",
        "    # File path for the CSV file\n",
        "    file_path = os.path.join(folder, 'train_dataframe.csv')\n",
        "    # Save the DataFrame as CSV\n",
        "    train_dataframe.to_csv(file_path, index=False)\n",
        "\n",
        "    # Create df_test with rows whose 'new_filename' is in TEST_names and keep only 'artist' and 'new_filename' columns\n",
        "    test_dataframe = df[df['new_filename'].isin(TEST_names)][['artist', 'new_filename']]\n",
        "    # File path for the CSV file\n",
        "    file_path = os.path.join(folder, 'test_dataframe.csv')\n",
        "    # Save the DataFrame as CSV\n",
        "    test_dataframe.to_csv(file_path, index=False)\n",
        "\n",
        "    return train_dataframe, test_dataframe\n",
        "\n",
        "if not (os.path.exists(os.path.join(folder, 'TRAIN')) and os.path.exists(os.path.join(folder, 'TEST'))):\n",
        "  # Group files per artist\n",
        "  data_per_artist = group_files_per_artist()\n",
        "  # Print the number of files for each artist\n",
        "  print(\"- Artists and numer of images:\")\n",
        "  for key in data_per_artist.keys():\n",
        "    print(key, len(data_per_artist[key]))\n",
        "\n",
        "  # Split data\n",
        "  TRAIN_names, TEST_names = split_test_train(data_per_artist)\n",
        "\n",
        "  # Use the function to create TRAIN and TEST folders\n",
        "  train_dataframe, test_dataframe = create_train_test_folders(folder, TRAIN_names, TEST_names)\n",
        "  print(\"\\nImages successfully moved to TRAIN and TEST folders.\")\n",
        "else:\n",
        "  print(\"TRAIN and TEST folders already exist. Reading train and test DataFrames from CSV files...\")\n",
        "\n",
        "  # Read train and test DataFrames from CSV files\n",
        "  train_csv_path = os.path.join(folder, 'train_dataframe.csv')\n",
        "  test_csv_path = os.path.join(folder, 'test_dataframe.csv')\n",
        "  train_dataframe = pd.read_csv(train_csv_path)\n",
        "  test_dataframe = pd.read_csv(test_csv_path)\n",
        "\n",
        "  print(\"Train DataFrame:\", train_dataframe.shape)\n",
        "  print(\"Test DataFrame:\", test_dataframe.shape)"
      ]
    },
    {
      "cell_type": "markdown",
      "metadata": {
        "id": "oaVgT-zunn3U"
      },
      "source": [
        "# Create the Model"
      ]
    },
    {
      "cell_type": "code",
      "execution_count": null,
      "metadata": {
        "colab": {
          "base_uri": "https://localhost:8080/"
        },
        "id": "rX5ThdTyl9Uu",
        "outputId": "531b32a2-516d-42bb-9fc7-a7c7436f4777"
      },
      "outputs": [
        {
          "name": "stdout",
          "output_type": "stream",
          "text": [
            "5\n",
            "Downloading data from https://storage.googleapis.com/tensorflow/keras-applications/resnet/resnet50_weights_tf_dim_ordering_tf_kernels_notop.h5\n",
            "94765736/94765736 [==============================] - 1s 0us/step\n",
            "Model: \"sequential\"\n",
            "_________________________________________________________________\n",
            " Layer (type)                Output Shape              Param #   \n",
            "=================================================================\n",
            " resnet50 (Functional)       (None, 2048)              23587712  \n",
            "                                                                 \n",
            " dense (Dense)               (None, 5)                 10245     \n",
            "                                                                 \n",
            "=================================================================\n",
            "Total params: 23597957 (90.02 MB)\n",
            "Trainable params: 10245 (40.02 KB)\n",
            "Non-trainable params: 23587712 (89.98 MB)\n",
            "_________________________________________________________________\n"
          ]
        }
      ],
      "source": [
        "num_classes = len(data_per_artist.keys())  # one class per artist\n",
        "print(num_classes)\n",
        "weights_notop_path = '/content/drive/My Drive/PROJECTE DEEP LEARNING/resnet50_weights_tf_dim_ordering_tf_kernels_notop.h5'\n",
        "\n",
        "model = Sequential()\n",
        "\n",
        "# Add ResNet50 without the top dense layer\n",
        "model.add(ResNet50(include_top=False, pooling='avg', input_shape=(224, 224, 3)))\n",
        "\n",
        "# Add a dense layer with softmax activation for classification\n",
        "model.add(Dense(num_classes, activation='softmax'))\n",
        "\n",
        "# Freeze the layers of ResNet50 so they are not trained during the first training\n",
        "model.layers[0].trainable = False\n",
        "\n",
        "# Compile the model\n",
        "model.compile(optimizer='adam', loss='categorical_crossentropy', metrics=['accuracy'])\n",
        "\n",
        "# Display a summary of the model\n",
        "model.summary()\n"
      ]
    },
    {
      "cell_type": "code",
      "execution_count": null,
      "metadata": {
        "id": "8e8pkhbN2eqZ"
      },
      "outputs": [],
      "source": [
        "# model globals\n",
        "IMAGE_SIZE = 224\n",
        "BATCH_SIZE = 40\n",
        "TEST_BATCH_SIZE = 10 # because test has 100 images and factors of 100 are 10*10\n",
        "                     # it is important that this number evenly divides the total num images\n",
        "VAL_SPLIT = 0.25"
      ]
    },
    {
      "cell_type": "markdown",
      "metadata": {
        "id": "785lK2WOnsHp"
      },
      "source": [
        "# Train the Model"
      ]
    },
    {
      "cell_type": "code",
      "execution_count": null,
      "metadata": {
        "colab": {
          "base_uri": "https://localhost:8080/"
        },
        "id": "u3qzliSeXcLH",
        "outputId": "66539f43-3330-42a9-c12a-f8b1a1701c7a"
      },
      "outputs": [
        {
          "name": "stdout",
          "output_type": "stream",
          "text": [
            "defined setup_generators()\n"
          ]
        }
      ],
      "source": [
        "def setup_generators(\n",
        "    val_split, train_dataframe, train_dir,\n",
        "    img_size, batch_size, my_seed, list_of_classes,\n",
        "    test_dataframe, test_dir, test_batch_size\n",
        "):\n",
        "    print(\"-\"*20)\n",
        "    if not preprocess_input:\n",
        "          raise Exception(\"please do import call 'from tensorflow.keras.applications.resnet50 import preprocess_input'\")\n",
        "\n",
        "    # setup resnet50 preprocessing\n",
        "    data_gen = ImageDataGenerator(\n",
        "        preprocessing_function=preprocess_input,\n",
        "        validation_split=val_split)\n",
        "\n",
        "    print(len(train_dataframe), \"images in\", train_dir, \"and validation_split =\", val_split)\n",
        "    print(\"\\ntraining set ImageDataGenerator\")\n",
        "    train_gen = data_gen.flow_from_dataframe(\n",
        "        dataframe=train_dataframe.reset_index(), # call reset_index() so keras can start with index 0\n",
        "        directory=train_dir,\n",
        "        x_col='new_filename',\n",
        "        y_col='artist',\n",
        "        has_ext=True,\n",
        "        target_size=(img_size, img_size),\n",
        "        subset=\"training\",\n",
        "        batch_size=batch_size,\n",
        "        seed=my_seed,\n",
        "        shuffle=True,\n",
        "        class_mode='categorical',\n",
        "        classes=list_of_classes\n",
        "    )\n",
        "\n",
        "    print(\"\\nvalidation set ImageDataGenerator\")\n",
        "    valid_gen = data_gen.flow_from_dataframe(\n",
        "        dataframe=train_dataframe.reset_index(), # call reset_index() so keras can start with index 0\n",
        "        directory=train_dir,\n",
        "        x_col='new_filename',\n",
        "        y_col='artist',\n",
        "        has_ext=True,\n",
        "        subset=\"validation\",\n",
        "        batch_size=batch_size,\n",
        "        seed=my_seed,\n",
        "        shuffle=True,\n",
        "        target_size=(img_size,img_size),\n",
        "        class_mode='categorical',\n",
        "        classes=list_of_classes\n",
        "    )\n",
        "\n",
        "    test_data_gen = ImageDataGenerator(preprocessing_function=preprocess_input)\n",
        "\n",
        "    print(\"\\ntest set ImageDataGenerator\")\n",
        "    test_gen = test_data_gen.flow_from_dataframe(\n",
        "        dataframe=test_dataframe.reset_index(), # call reset_index() so keras can start with index 0\n",
        "        directory=test_dir,\n",
        "        x_col='new_filename',\n",
        "        y_col=None,\n",
        "        has_ext=True,\n",
        "        batch_size=test_batch_size,\n",
        "        seed=my_seed,\n",
        "        shuffle=False, # dont shuffle test directory\n",
        "        class_mode=None,\n",
        "        target_size=(img_size,img_size)\n",
        "    )\n",
        "\n",
        "    return (train_gen, valid_gen, test_gen)\n",
        "\n",
        "print(\"defined setup_generators()\")"
      ]
    },
    {
      "cell_type": "code",
      "execution_count": null,
      "metadata": {
        "colab": {
          "base_uri": "https://localhost:8080/"
        },
        "id": "jVQtRFGOYCDW",
        "outputId": "87a9f75e-8fd7-437f-bea2-03791b3c9b39"
      },
      "outputs": [
        {
          "name": "stdout",
          "output_type": "stream",
          "text": [
            "--------------------\n",
            "400 images in /content/drive/My Drive/PROJECTE DEEP LEARNING/TOP5_ARTISTS_WITH_100_PICTURES/TRAIN and validation_split = 0.25\n",
            "\n",
            "training set ImageDataGenerator\n",
            "Found 300 validated image filenames belonging to 5 classes.\n",
            "\n",
            "validation set ImageDataGenerator\n",
            "Found 100 validated image filenames belonging to 5 classes.\n",
            "\n",
            "test set ImageDataGenerator\n",
            "Found 100 validated image filenames.\n"
          ]
        }
      ],
      "source": [
        "train_dir = folder+\"/TRAIN\"\n",
        "test_dir = folder+\"/TEST\"\n",
        "train_gens, valid_gens, test_gen = setup_generators(\n",
        "        VAL_SPLIT, train_dataframe, train_dir,\n",
        "      IMAGE_SIZE, BATCH_SIZE, MY_SEED, list(set(train_dataframe[\"artist\"].tolist())),\n",
        "      test_dataframe, test_dir, TEST_BATCH_SIZE\n",
        "    )\n",
        "\n",
        "\n"
      ]
    },
    {
      "cell_type": "code",
      "execution_count": null,
      "metadata": {
        "id": "dNKdfx37QiHC"
      },
      "outputs": [],
      "source": [
        "# the tutorial had 10 epochs...\n",
        "MAX_EPOCHS = 8\n",
        "DIR_EPOCHS = 1 # fit each train_dir at least this many times before overfitting"
      ]
    },
    {
      "cell_type": "code",
      "execution_count": null,
      "metadata": {
        "colab": {
          "base_uri": "https://localhost:8080/"
        },
        "id": "MLBaOORZfoca",
        "outputId": "84063694-6e58-4303-9084-e1e532b58c51"
      },
      "outputs": [
        {
          "name": "stdout",
          "output_type": "stream",
          "text": [
            "STEP_SIZE_TRAIN 7\n",
            "STEP_SIZE_VALID 2\n"
          ]
        },
        {
          "name": "stderr",
          "output_type": "stream",
          "text": [
            "<ipython-input-19-973ec152ec2c>:12: UserWarning: `Model.fit_generator` is deprecated and will be removed in a future version. Please use `Model.fit`, which supports generators.\n",
            "  model.fit_generator(generator=train_gens,\n"
          ]
        },
        {
          "name": "stdout",
          "output_type": "stream",
          "text": [
            "7/7 [==============================] - 142s 19s/step - loss: 1.5419 - accuracy: 0.3538 - val_loss: 6.1270 - val_accuracy: 0.1125\n",
            "STEP_SIZE_TRAIN 7\n",
            "STEP_SIZE_VALID 2\n",
            "7/7 [==============================] - 87s 13s/step - loss: 0.7699 - accuracy: 0.6885 - val_loss: 8.1854 - val_accuracy: 0.1125\n",
            "STEP_SIZE_TRAIN 7\n",
            "STEP_SIZE_VALID 2\n",
            "7/7 [==============================] - 84s 12s/step - loss: 0.4692 - accuracy: 0.8536 - val_loss: 8.8364 - val_accuracy: 0.1500\n",
            "STEP_SIZE_TRAIN 7\n",
            "STEP_SIZE_VALID 2\n",
            "7/7 [==============================] - 80s 11s/step - loss: 0.3247 - accuracy: 0.8962 - val_loss: 9.5776 - val_accuracy: 0.1125\n",
            "STEP_SIZE_TRAIN 7\n",
            "STEP_SIZE_VALID 2\n",
            "7/7 [==============================] - 77s 11s/step - loss: 0.2471 - accuracy: 0.9308 - val_loss: 9.4946 - val_accuracy: 0.1250\n",
            "STEP_SIZE_TRAIN 7\n",
            "STEP_SIZE_VALID 2\n",
            "7/7 [==============================] - 75s 11s/step - loss: 0.1859 - accuracy: 0.9538 - val_loss: 9.2599 - val_accuracy: 0.1750\n",
            "STEP_SIZE_TRAIN 7\n",
            "STEP_SIZE_VALID 2\n",
            "7/7 [==============================] - 81s 11s/step - loss: 0.1433 - accuracy: 0.9846 - val_loss: 9.6886 - val_accuracy: 0.1500\n",
            "STEP_SIZE_TRAIN 7\n",
            "STEP_SIZE_VALID 2\n",
            "7/7 [==============================] - 92s 13s/step - loss: 0.1358 - accuracy: 0.9846 - val_loss: 9.8595 - val_accuracy: 0.1375\n"
          ]
        }
      ],
      "source": [
        "histories = []\n",
        "\n",
        "e=0\n",
        "while ( e < MAX_EPOCHS):\n",
        "    # train_gen.n = number of images for training\n",
        "    STEP_SIZE_TRAIN = train_gens.n//train_gens.batch_size\n",
        "    # train_gen.n = number of images for validation\n",
        "    STEP_SIZE_VALID = valid_gens.n//valid_gens.batch_size\n",
        "    print(\"STEP_SIZE_TRAIN\",STEP_SIZE_TRAIN)\n",
        "    print(\"STEP_SIZE_VALID\",STEP_SIZE_VALID)\n",
        "    histories.append(\n",
        "        model.fit_generator(generator=train_gens,\n",
        "                            steps_per_epoch=STEP_SIZE_TRAIN,\n",
        "                            validation_data=valid_gens,\n",
        "                            validation_steps=STEP_SIZE_VALID,\n",
        "                          epochs=DIR_EPOCHS)\n",
        "      )\n",
        "    e+=1"
      ]
    },
    {
      "cell_type": "markdown",
      "metadata": {
        "id": "RqLJv2MDnvJC"
      },
      "source": [
        "# Evaluate the model"
      ]
    },
    {
      "cell_type": "code",
      "execution_count": null,
      "metadata": {
        "colab": {
          "base_uri": "https://localhost:8080/"
        },
        "id": "ZHDJpx2givXu",
        "outputId": "a5895420-df98-4be9-ae2a-82ef22bff249"
      },
      "outputs": [
        {
          "data": {
            "text/plain": [
              "[<keras.src.callbacks.History at 0x7c00beeaf0d0>,\n",
              " <keras.src.callbacks.History at 0x7c00b9ec9b10>,\n",
              " <keras.src.callbacks.History at 0x7c00b9ee5de0>,\n",
              " <keras.src.callbacks.History at 0x7c00bbe03e80>,\n",
              " <keras.src.callbacks.History at 0x7c00bbe3b400>,\n",
              " <keras.src.callbacks.History at 0x7c00bbe5bc40>,\n",
              " <keras.src.callbacks.History at 0x7c00bbe9ae30>,\n",
              " <keras.src.callbacks.History at 0x7c00bbeb73a0>]"
            ]
          },
          "execution_count": 30,
          "metadata": {},
          "output_type": "execute_result"
        }
      ],
      "source": [
        "histories"
      ]
    },
    {
      "cell_type": "code",
      "execution_count": null,
      "metadata": {
        "id": "6W05Y3WFf13N"
      },
      "outputs": [],
      "source": [
        "accuracies = []\n",
        "val_accuracies = []\n",
        "losses = []\n",
        "val_losses = []\n",
        "for hist in histories:\n",
        "    if hist:\n",
        "        accuracies += hist.history[\"accuracy\"]\n",
        "        val_accuracies += hist.history['val_accuracy']\n",
        "        losses += hist.history['loss']\n",
        "        val_losses += hist.history['val_loss']"
      ]
    },
    {
      "cell_type": "code",
      "execution_count": null,
      "metadata": {
        "colab": {
          "base_uri": "https://localhost:8080/",
          "height": 927
        },
        "id": "5ZnYKTxHgQjR",
        "outputId": "322a2e15-3a17-4694-e4a8-6ba571843e40"
      },
      "outputs": [
        {
          "data": {
            "image/png": "[encoded data removed]",
            "text/plain": [
              "<Figure size 640x480 with 1 Axes>"
            ]
          },
          "metadata": {},
          "output_type": "display_data"
        },
        {
          "data": {
            "image/png": "[encoded data removed]",
            "text/plain": [
              "<Figure size 640x480 with 1 Axes>"
            ]
          },
          "metadata": {},
          "output_type": "display_data"
        }
      ],
      "source": [
        "# Plot training & validation accuracy values\n",
        "plt.plot(accuracies)\n",
        "plt.plot(val_accuracies)\n",
        "plt.title('Model accuracy')\n",
        "plt.ylabel('Accuracy')\n",
        "plt.xlabel('Epoch')\n",
        "plt.legend(['Train', 'Validation'], loc='upper left')\n",
        "plt.show()\n",
        "\n",
        "# Plot training & validation loss values\n",
        "plt.plot(losses)\n",
        "plt.plot(val_losses)\n",
        "plt.title('Model loss')\n",
        "plt.ylabel('Loss')\n",
        "plt.xlabel('Epoch')\n",
        "plt.legend(['Train', 'Validation'], loc='upper left')\n",
        "plt.show()"
      ]
    },
    {
      "cell_type": "code",
      "execution_count": null,
      "metadata": {
        "id": "1-elqc-4tJ8f"
      },
      "outputs": [],
      "source": []
    }
  ],
  "metadata": {
    "colab": {
      "provenance": []
    },
    "kernelspec": {
      "display_name": "Python 3",
      "name": "python3"
    },
    "language_info": {
      "name": "python"
    }
  },
  "nbformat": 4,
  "nbformat_minor": 0
}
