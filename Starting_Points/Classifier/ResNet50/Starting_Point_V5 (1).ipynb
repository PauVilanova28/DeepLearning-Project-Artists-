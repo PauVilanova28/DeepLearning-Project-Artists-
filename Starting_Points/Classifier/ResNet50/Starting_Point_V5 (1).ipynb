{
  "cells": [
    {
      "cell_type": "code",
      "execution_count": 1,
      "metadata": {
        "id": "it2h3AxUxeCV"
      },
      "outputs": [],
      "source": [
        "import numpy as np # linear algebra\n",
        "import pandas as pd # data processing, CSV file I/O (e.g. pd.read_csv)\n",
        "%matplotlib inline\n",
        "import matplotlib.pyplot as plt\n",
        "from random import seed # for setting seed\n",
        "import tensorflow\n",
        "from IPython import sys_info\n",
        "import os\n",
        "import gc # garbage collection\n",
        "import random"
      ]
    },
    {
      "cell_type": "code",
      "execution_count": 2,
      "metadata": {
        "colab": {
          "base_uri": "https://localhost:8080/"
        },
        "id": "PP5sxgyiQCKt",
        "outputId": "80546e87-6e44-4550-cb8d-8a41f592b03a"
      },
      "outputs": [
        {
          "output_type": "stream",
          "name": "stdout",
          "text": [
            "Mounted at /content/drive\n"
          ]
        }
      ],
      "source": [
        "from google.colab import drive\n",
        "drive.mount('/content/drive')"
      ]
    },
    {
      "cell_type": "code",
      "execution_count": 3,
      "metadata": {
        "colab": {
          "base_uri": "https://localhost:8080/"
        },
        "id": "bSxEf4Blxpmf",
        "outputId": "03370a06-2b23-4695-f5d1-7f4170877251"
      },
      "outputs": [
        {
          "output_type": "stream",
          "name": "stdout",
          "text": [
            "{'commit_hash': 'fcc71cc32',\n",
            " 'commit_source': 'installation',\n",
            " 'default_encoding': 'utf-8',\n",
            " 'ipython_path': '/usr/local/lib/python3.10/dist-packages/IPython',\n",
            " 'ipython_version': '7.34.0',\n",
            " 'os_name': 'posix',\n",
            " 'platform': 'Linux-6.1.58+-x86_64-with-glibc2.35',\n",
            " 'sys_executable': '/usr/bin/python3',\n",
            " 'sys_platform': 'linux',\n",
            " 'sys_version': '3.10.12 (main, Nov 20 2023, 15:14:05) [GCC 11.4.0]'}\n"
          ]
        }
      ],
      "source": [
        "MY_SEED = 42 # 480 could work too\n",
        "seed(MY_SEED)\n",
        "\n",
        "\n",
        "print(sys_info())\n",
        "# get module information\n",
        "!pip freeze > frozen-requirements.txt\n",
        "# append system information to file\n",
        "with open(\"frozen-requirements.txt\", \"a\") as file:\n",
        "    file.write(sys_info())"
      ]
    },
    {
      "cell_type": "code",
      "execution_count": 4,
      "metadata": {
        "colab": {
          "base_uri": "https://localhost:8080/"
        },
        "id": "CEwjrG_Lx-_V",
        "outputId": "98b5dacd-d2c8-4cd7-b32d-1cda4228d699"
      },
      "outputs": [
        {
          "output_type": "stream",
          "name": "stdout",
          "text": [
            "[name: \"/device:CPU:0\"\n",
            "device_type: \"CPU\"\n",
            "memory_limit: 268435456\n",
            "locality {\n",
            "}\n",
            "incarnation: 16873195048275179304\n",
            "xla_global_id: -1\n",
            ", name: \"/device:GPU:0\"\n",
            "device_type: \"GPU\"\n",
            "memory_limit: 14626652160\n",
            "locality {\n",
            "  bus_id: 1\n",
            "  links {\n",
            "  }\n",
            "}\n",
            "incarnation: 8825306176076381222\n",
            "physical_device_desc: \"device: 0, name: Tesla T4, pci bus id: 0000:00:04.0, compute capability: 7.5\"\n",
            "xla_global_id: 416903419\n",
            "]\n"
          ]
        }
      ],
      "source": [
        "from tensorflow.python.client import device_lib\n",
        "# print out the CPUs and GPUs\n",
        "print(device_lib.list_local_devices())"
      ]
    },
    {
      "cell_type": "code",
      "execution_count": 5,
      "metadata": {
        "id": "ex3JtZsSyARO"
      },
      "outputs": [],
      "source": [
        "from PIL import Image\n",
        "Image.MAX_IMAGE_PIXELS = None"
      ]
    },
    {
      "cell_type": "code",
      "execution_count": 6,
      "metadata": {
        "id": "d6LnFukyyN41"
      },
      "outputs": [],
      "source": [
        "from tensorflow.keras.applications import ResNet50, VGG16\n",
        "from tensorflow.keras.models import Sequential\n",
        "from tensorflow.keras.layers import Dense, Flatten, GlobalAveragePooling2D, Input\n",
        "\n",
        "from tensorflow.keras.applications.resnet50 import preprocess_input\n",
        "from tensorflow.keras.preprocessing.image import ImageDataGenerator"
      ]
    },
    {
      "cell_type": "code",
      "execution_count": 7,
      "metadata": {
        "colab": {
          "base_uri": "https://localhost:8080/"
        },
        "id": "XLw4pZRxx-bk",
        "outputId": "db9e478c-eb22-4946-b27e-880ac7cefcf3"
      },
      "outputs": [
        {
          "output_type": "stream",
          "name": "stdout",
          "text": [
            "         artist  date                  genre  pixelsx  pixelsy  size_bytes  \\\n",
            "0  Paul Gauguin  1903         genre painting   1916.0   1688.0    363138.0   \n",
            "1  Paul Gauguin  1893               portrait   2048.0   1348.0    293452.0   \n",
            "2  Paul Gauguin  1892  mythological painting   1800.0   1082.0   1638911.0   \n",
            "3  Paul Gauguin  1903         genre painting   1600.0   1067.0    307130.0   \n",
            "4  Paul Gauguin  1892               portrait   1096.0   1476.0    467406.0   \n",
            "\n",
            "    source               style                  title    artist_group  \\\n",
            "0  wikiart  Post-Impressionism         The Invocation  train_and_test   \n",
            "1  wikiart         Cloisonnism                  Alone  train_and_test   \n",
            "2  wikiart         Cloisonnism          The Royal End  train_and_test   \n",
            "3  wikiart  Post-Impressionism  Women and white horse  train_and_test   \n",
            "4  wikiart  Post-Impressionism            Two sisters  train_and_test   \n",
            "\n",
            "   in_train new_filename  \n",
            "0     False    35323.jpg  \n",
            "1     False    73683.jpg  \n",
            "2      True   101871.jpg  \n",
            "3      True    76989.jpg  \n",
            "4     False    89439.jpg  \n"
          ]
        }
      ],
      "source": [
        "folder = '/content/drive/My Drive/PROJECTE DEEP LEARNING/TOP5_ARTISTS_WITH_100_PICTURES'\n",
        "\n",
        "# Lista los archivos en la carpeta\n",
        "all_pictures = os.listdir(folder)\n",
        "\n",
        "ruta_archivo = \"/content/drive/My Drive/PROJECTE DEEP LEARNING/TOP5_ARTISTS_WITH_100_PICTURES.csv\"\n",
        "df = pd.read_csv(ruta_archivo)\n",
        "print(df.head())"
      ]
    },
    {
      "cell_type": "markdown",
      "metadata": {
        "id": "OehngPyh5OtP"
      },
      "source": [
        "# Create Train and Test sets (only execute this if it's the first time)"
      ]
    },
    {
      "cell_type": "code",
      "execution_count": 8,
      "metadata": {
        "id": "UK2vOM2HrVzJ"
      },
      "outputs": [],
      "source": [
        "import shutil"
      ]
    },
    {
      "cell_type": "code",
      "execution_count": 9,
      "metadata": {
        "colab": {
          "base_uri": "https://localhost:8080/"
        },
        "id": "DMJIl-ithwrD",
        "outputId": "4d130545-9d99-4993-f36d-6e6b6e093721"
      },
      "outputs": [
        {
          "output_type": "stream",
          "name": "stdout",
          "text": [
            "- Artists and numer of images:\n",
            "Paul Gauguin 100\n",
            "Martiros Saryan 100\n",
            "Vincent van Gogh 100\n",
            "Marc Chagall 100\n",
            "John Singer Sargent 100\n",
            "\n",
            "Images successfully moved to TRAIN and TEST folders.\n"
          ]
        }
      ],
      "source": [
        "# GROUP THE FILES BY EACH ARTIST\n",
        "def group_files_per_artist():\n",
        "  data_per_artist = {}\n",
        "\n",
        "  # Iterate over each row of the DataFrame\n",
        "  for index, row in df.iterrows():\n",
        "      artist = row['artist']\n",
        "      new_filename = row['new_filename']\n",
        "\n",
        "      # Check if the artist is already in the dictionary\n",
        "      if artist in data_per_artist:\n",
        "          # Add the new_filename to the existing list of the artist\n",
        "          data_per_artist[artist].append(new_filename)\n",
        "      else:\n",
        "          # Create a new list for the artist and add the new_filename\n",
        "          data_per_artist[artist] = [new_filename]\n",
        "\n",
        "  return data_per_artist\n",
        "\n",
        "# SPLIT THE FILES INTO TRAIN AND TEST SETS (CREATE NEW DATASETS)\n",
        "def split_test_train(data_per_artist, train_percentage = 0.8):\n",
        "\n",
        "  TRAIN_names = []\n",
        "  TEST_names = []\n",
        "\n",
        "  # Iterate over each artist and their 'new_filename'\n",
        "  for artist, filenames in data_per_artist.items():\n",
        "      # Calculate the number of files for training and testing\n",
        "      total_files = len(filenames)\n",
        "      num_train = int(train_percentage * total_files)\n",
        "\n",
        "      # Shuffle the filenames to avoid selection biases\n",
        "      random.shuffle(filenames)\n",
        "\n",
        "      # Divide the filenames into train and test\n",
        "      train_filenames = filenames[:num_train]\n",
        "      test_filenames = filenames[num_train:]\n",
        "\n",
        "      # Store the divided filenames into train and test\n",
        "      TRAIN_names.extend(train_filenames)\n",
        "      TEST_names.extend(test_filenames)\n",
        "  return TRAIN_names, TEST_names\n",
        "\n",
        "\n",
        "\n",
        "# CREATE TEST and TRAIN folders\n",
        "def create_train_test_folders(folder, TRAIN_names, TEST_names):\n",
        "    # Output folder for TRAIN and TEST\n",
        "    train_folder = os.path.join(folder, 'TRAIN')\n",
        "    test_folder = os.path.join(folder, 'TEST')\n",
        "\n",
        "    # Create TRAIN and TEST folders if they don't exist\n",
        "    os.makedirs(train_folder, exist_ok=True)\n",
        "    os.makedirs(test_folder, exist_ok=True)\n",
        "\n",
        "    # Move images from TRAIN to TRAIN folder\n",
        "    for filename in TRAIN_names:\n",
        "        src = os.path.join(folder, filename)\n",
        "        dst = os.path.join(train_folder, filename)\n",
        "        shutil.move(src, dst)\n",
        "\n",
        "    # Move images from TEST to TEST folder\n",
        "    for filename in TEST_names:\n",
        "        src = os.path.join(folder, filename)\n",
        "        dst = os.path.join(test_folder, filename)\n",
        "        shutil.move(src, dst)\n",
        "\n",
        "    # Create df_train with rows whose 'new_filename' is in TRAIN_names and keep only 'artist' and 'new_filename' columns\n",
        "    train_dataframe = df[df['new_filename'].isin(TRAIN_names)][['artist', 'new_filename']]\n",
        "    # File path for the CSV file\n",
        "    file_path = os.path.join(folder, 'train_dataframe.csv')\n",
        "    # Save the DataFrame as CSV\n",
        "    train_dataframe.to_csv(file_path, index=False)\n",
        "\n",
        "    # Create df_test with rows whose 'new_filename' is in TEST_names and keep only 'artist' and 'new_filename' columns\n",
        "    test_dataframe = df[df['new_filename'].isin(TEST_names)][['artist', 'new_filename']]\n",
        "    # File path for the CSV file\n",
        "    file_path = os.path.join(folder, 'test_dataframe.csv')\n",
        "    # Save the DataFrame as CSV\n",
        "    test_dataframe.to_csv(file_path, index=False)\n",
        "\n",
        "    return train_dataframe, test_dataframe\n",
        "\n",
        "if not (os.path.exists(os.path.join(folder, 'TRAIN')) and os.path.exists(os.path.join(folder, 'TEST'))):\n",
        "  # Group files per artist\n",
        "  data_per_artist = group_files_per_artist()\n",
        "  # Print the number of files for each artist\n",
        "  print(\"- Artists and numer of images:\")\n",
        "  for key in data_per_artist.keys():\n",
        "    print(key, len(data_per_artist[key]))\n",
        "\n",
        "  # Split data\n",
        "  TRAIN_names, TEST_names = split_test_train(data_per_artist)\n",
        "\n",
        "  # Use the function to create TRAIN and TEST folders\n",
        "  train_dataframe, test_dataframe = create_train_test_folders(folder, TRAIN_names, TEST_names)\n",
        "  print(\"\\nImages successfully moved to TRAIN and TEST folders.\")\n",
        "else:\n",
        "  print(\"TRAIN and TEST folders already exist. Reading train and test DataFrames from CSV files...\")\n",
        "\n",
        "  # Read train and test DataFrames from CSV files\n",
        "  train_csv_path = os.path.join(folder, 'train_dataframe.csv')\n",
        "  test_csv_path = os.path.join(folder, 'test_dataframe.csv')\n",
        "  train_dataframe = pd.read_csv(train_csv_path)\n",
        "  test_dataframe = pd.read_csv(test_csv_path)\n",
        "\n",
        "  print(\"Train DataFrame:\", train_dataframe.shape)\n",
        "  print(\"Test DataFrame:\", test_dataframe.shape)\n"
      ]
    },
    {
      "cell_type": "markdown",
      "metadata": {
        "id": "9ThMd8tK3vbi"
      },
      "source": [
        "# CREATE THE MODEL"
      ]
    },
    {
      "cell_type": "code",
      "execution_count": 62,
      "metadata": {
        "colab": {
          "base_uri": "https://localhost:8080/"
        },
        "id": "rX5ThdTyl9Uu",
        "outputId": "4af476fd-7754-4cd6-f292-3c77d602fa6e"
      },
      "outputs": [
        {
          "output_type": "stream",
          "name": "stdout",
          "text": [
            "5\n"
          ]
        },
        {
          "output_type": "stream",
          "name": "stderr",
          "text": [
            "WARNING:absl:`lr` is deprecated in Keras optimizer, please use `learning_rate` or use the legacy optimizer, e.g.,tf.keras.optimizers.legacy.Adam.\n"
          ]
        },
        {
          "output_type": "stream",
          "name": "stdout",
          "text": [
            "Model: \"sequential_14\"\n",
            "_________________________________________________________________\n",
            " Layer (type)                Output Shape              Param #   \n",
            "=================================================================\n",
            " vgg16 (Functional)          (None, 7, 7, 512)         14714688  \n",
            "                                                                 \n",
            " flatten_3 (Flatten)         (None, 25088)             0         \n",
            "                                                                 \n",
            " dense_30 (Dense)            (None, 512)               12845568  \n",
            "                                                                 \n",
            " dropout_15 (Dropout)        (None, 512)               0         \n",
            "                                                                 \n",
            " dense_31 (Dense)            (None, 5)                 2565      \n",
            "                                                                 \n",
            "=================================================================\n",
            "Total params: 27562821 (105.14 MB)\n",
            "Trainable params: 12848133 (49.01 MB)\n",
            "Non-trainable params: 14714688 (56.13 MB)\n",
            "_________________________________________________________________\n"
          ]
        }
      ],
      "source": [
        "from tensorflow.keras.layers import Conv2D, MaxPooling2D, Flatten, Dense, Dropout\n",
        "from keras import regularizers\n",
        "from tensorflow.keras.optimizers import Adam\n",
        "\n",
        "num_classes = len(train_dataframe[\"artist\"].unique().tolist()) # one class per artist\n",
        "print(num_classes)\n",
        "weights_notop_path = '/content/drive/My Drive/PROJECTE DEEP LEARNING/resnet50_weights_tf_dim_ordering_tf_kernels_notop.h5'\n",
        "\n",
        "base_model = VGG16(weights='imagenet', include_top=False, input_shape=(224, 224, 3))\n",
        "\n",
        "# Congelar las capas convolucionales\n",
        "for layer in base_model.layers:\n",
        "    layer.trainable = False\n",
        "\n",
        "# Agregar capas densas personalizadas para la clasificación\n",
        "model = Sequential()\n",
        "model.add(base_model)\n",
        "model.add(Flatten())\n",
        "model.add(Dense(512, activation='relu'))\n",
        "model.add(Dropout(0.5))\n",
        "model.add(Dense(num_classes, activation='softmax'))\n",
        "\n",
        "# Compilar el modelo\n",
        "optimizer = Adam(lr=0.0001)\n",
        "model.compile(optimizer=optimizer, loss='categorical_crossentropy', metrics=['accuracy'])\n",
        "\n",
        "# Mostrar un resumen del modelo\n",
        "model.summary()\n",
        "\n"
      ]
    },
    {
      "cell_type": "code",
      "execution_count": 63,
      "metadata": {
        "id": "8e8pkhbN2eqZ"
      },
      "outputs": [],
      "source": [
        "# model globals\n",
        "IMAGE_SIZE = 224\n",
        "BATCH_SIZE = 40\n",
        "TEST_BATCH_SIZE = 10 # because test has 100 images and factors of 100 are 10*10\n",
        "                     # it is important that this number evenly divides the total num images\n",
        "VAL_SPLIT = 0.3"
      ]
    },
    {
      "cell_type": "code",
      "execution_count": 13,
      "metadata": {
        "colab": {
          "base_uri": "https://localhost:8080/",
          "height": 224
        },
        "id": "hFQvRFAfjB1f",
        "outputId": "9d62dd8a-29ae-4201-ab70-602953b4c25c"
      },
      "outputs": [
        {
          "output_type": "stream",
          "name": "stdout",
          "text": [
            "(400, 2)\n"
          ]
        },
        {
          "output_type": "execute_result",
          "data": {
            "text/plain": [
              "         artist new_filename\n",
              "0  Paul Gauguin    35323.jpg\n",
              "1  Paul Gauguin    73683.jpg\n",
              "2  Paul Gauguin   101871.jpg\n",
              "5  Paul Gauguin    64788.jpg\n",
              "6  Paul Gauguin    31396.jpg"
            ],
            "text/html": [
              "\n",
              "  <div id=\"df-a2c9ca7e-c416-49bf-b0cc-aa372ed0e2ef\" class=\"colab-df-container\">\n",
              "    <div>\n",
              "<style scoped>\n",
              "    .dataframe tbody tr th:only-of-type {\n",
              "        vertical-align: middle;\n",
              "    }\n",
              "\n",
              "    .dataframe tbody tr th {\n",
              "        vertical-align: top;\n",
              "    }\n",
              "\n",
              "    .dataframe thead th {\n",
              "        text-align: right;\n",
              "    }\n",
              "</style>\n",
              "<table border=\"1\" class=\"dataframe\">\n",
              "  <thead>\n",
              "    <tr style=\"text-align: right;\">\n",
              "      <th></th>\n",
              "      <th>artist</th>\n",
              "      <th>new_filename</th>\n",
              "    </tr>\n",
              "  </thead>\n",
              "  <tbody>\n",
              "    <tr>\n",
              "      <th>0</th>\n",
              "      <td>Paul Gauguin</td>\n",
              "      <td>35323.jpg</td>\n",
              "    </tr>\n",
              "    <tr>\n",
              "      <th>1</th>\n",
              "      <td>Paul Gauguin</td>\n",
              "      <td>73683.jpg</td>\n",
              "    </tr>\n",
              "    <tr>\n",
              "      <th>2</th>\n",
              "      <td>Paul Gauguin</td>\n",
              "      <td>101871.jpg</td>\n",
              "    </tr>\n",
              "    <tr>\n",
              "      <th>5</th>\n",
              "      <td>Paul Gauguin</td>\n",
              "      <td>64788.jpg</td>\n",
              "    </tr>\n",
              "    <tr>\n",
              "      <th>6</th>\n",
              "      <td>Paul Gauguin</td>\n",
              "      <td>31396.jpg</td>\n",
              "    </tr>\n",
              "  </tbody>\n",
              "</table>\n",
              "</div>\n",
              "    <div class=\"colab-df-buttons\">\n",
              "\n",
              "  <div class=\"colab-df-container\">\n",
              "    <button class=\"colab-df-convert\" onclick=\"convertToInteractive('df-a2c9ca7e-c416-49bf-b0cc-aa372ed0e2ef')\"\n",
              "            title=\"Convert this dataframe to an interactive table.\"\n",
              "            style=\"display:none;\">\n",
              "\n",
              "  <svg xmlns=\"http://www.w3.org/2000/svg\" height=\"24px\" viewBox=\"0 -960 960 960\">\n",
              "    <path d=\"M120-120v-720h720v720H120Zm60-500h600v-160H180v160Zm220 220h160v-160H400v160Zm0 220h160v-160H400v160ZM180-400h160v-160H180v160Zm440 0h160v-160H620v160ZM180-180h160v-160H180v160Zm440 0h160v-160H620v160Z\"/>\n",
              "  </svg>\n",
              "    </button>\n",
              "\n",
              "  <style>\n",
              "    .colab-df-container {\n",
              "      display:flex;\n",
              "      gap: 12px;\n",
              "    }\n",
              "\n",
              "    .colab-df-convert {\n",
              "      background-color: #E8F0FE;\n",
              "      border: none;\n",
              "      border-radius: 50%;\n",
              "      cursor: pointer;\n",
              "      display: none;\n",
              "      fill: #1967D2;\n",
              "      height: 32px;\n",
              "      padding: 0 0 0 0;\n",
              "      width: 32px;\n",
              "    }\n",
              "\n",
              "    .colab-df-convert:hover {\n",
              "      background-color: #E2EBFA;\n",
              "      box-shadow: 0px 1px 2px rgba(60, 64, 67, 0.3), 0px 1px 3px 1px rgba(60, 64, 67, 0.15);\n",
              "      fill: #174EA6;\n",
              "    }\n",
              "\n",
              "    .colab-df-buttons div {\n",
              "      margin-bottom: 4px;\n",
              "    }\n",
              "\n",
              "    [theme=dark] .colab-df-convert {\n",
              "      background-color: #3B4455;\n",
              "      fill: #D2E3FC;\n",
              "    }\n",
              "\n",
              "    [theme=dark] .colab-df-convert:hover {\n",
              "      background-color: #434B5C;\n",
              "      box-shadow: 0px 1px 3px 1px rgba(0, 0, 0, 0.15);\n",
              "      filter: drop-shadow(0px 1px 2px rgba(0, 0, 0, 0.3));\n",
              "      fill: #FFFFFF;\n",
              "    }\n",
              "  </style>\n",
              "\n",
              "    <script>\n",
              "      const buttonEl =\n",
              "        document.querySelector('#df-a2c9ca7e-c416-49bf-b0cc-aa372ed0e2ef button.colab-df-convert');\n",
              "      buttonEl.style.display =\n",
              "        google.colab.kernel.accessAllowed ? 'block' : 'none';\n",
              "\n",
              "      async function convertToInteractive(key) {\n",
              "        const element = document.querySelector('#df-a2c9ca7e-c416-49bf-b0cc-aa372ed0e2ef');\n",
              "        const dataTable =\n",
              "          await google.colab.kernel.invokeFunction('convertToInteractive',\n",
              "                                                    [key], {});\n",
              "        if (!dataTable) return;\n",
              "\n",
              "        const docLinkHtml = 'Like what you see? Visit the ' +\n",
              "          '<a target=\"_blank\" href=https://colab.research.google.com/notebooks/data_table.ipynb>data table notebook</a>'\n",
              "          + ' to learn more about interactive tables.';\n",
              "        element.innerHTML = '';\n",
              "        dataTable['output_type'] = 'display_data';\n",
              "        await google.colab.output.renderOutput(dataTable, element);\n",
              "        const docLink = document.createElement('div');\n",
              "        docLink.innerHTML = docLinkHtml;\n",
              "        element.appendChild(docLink);\n",
              "      }\n",
              "    </script>\n",
              "  </div>\n",
              "\n",
              "\n",
              "<div id=\"df-e7e343e2-dc82-4f98-a8f6-ace81725268e\">\n",
              "  <button class=\"colab-df-quickchart\" onclick=\"quickchart('df-e7e343e2-dc82-4f98-a8f6-ace81725268e')\"\n",
              "            title=\"Suggest charts\"\n",
              "            style=\"display:none;\">\n",
              "\n",
              "<svg xmlns=\"http://www.w3.org/2000/svg\" height=\"24px\"viewBox=\"0 0 24 24\"\n",
              "     width=\"24px\">\n",
              "    <g>\n",
              "        <path d=\"M19 3H5c-1.1 0-2 .9-2 2v14c0 1.1.9 2 2 2h14c1.1 0 2-.9 2-2V5c0-1.1-.9-2-2-2zM9 17H7v-7h2v7zm4 0h-2V7h2v10zm4 0h-2v-4h2v4z\"/>\n",
              "    </g>\n",
              "</svg>\n",
              "  </button>\n",
              "\n",
              "<style>\n",
              "  .colab-df-quickchart {\n",
              "      --bg-color: #E8F0FE;\n",
              "      --fill-color: #1967D2;\n",
              "      --hover-bg-color: #E2EBFA;\n",
              "      --hover-fill-color: #174EA6;\n",
              "      --disabled-fill-color: #AAA;\n",
              "      --disabled-bg-color: #DDD;\n",
              "  }\n",
              "\n",
              "  [theme=dark] .colab-df-quickchart {\n",
              "      --bg-color: #3B4455;\n",
              "      --fill-color: #D2E3FC;\n",
              "      --hover-bg-color: #434B5C;\n",
              "      --hover-fill-color: #FFFFFF;\n",
              "      --disabled-bg-color: #3B4455;\n",
              "      --disabled-fill-color: #666;\n",
              "  }\n",
              "\n",
              "  .colab-df-quickchart {\n",
              "    background-color: var(--bg-color);\n",
              "    border: none;\n",
              "    border-radius: 50%;\n",
              "    cursor: pointer;\n",
              "    display: none;\n",
              "    fill: var(--fill-color);\n",
              "    height: 32px;\n",
              "    padding: 0;\n",
              "    width: 32px;\n",
              "  }\n",
              "\n",
              "  .colab-df-quickchart:hover {\n",
              "    background-color: var(--hover-bg-color);\n",
              "    box-shadow: 0 1px 2px rgba(60, 64, 67, 0.3), 0 1px 3px 1px rgba(60, 64, 67, 0.15);\n",
              "    fill: var(--button-hover-fill-color);\n",
              "  }\n",
              "\n",
              "  .colab-df-quickchart-complete:disabled,\n",
              "  .colab-df-quickchart-complete:disabled:hover {\n",
              "    background-color: var(--disabled-bg-color);\n",
              "    fill: var(--disabled-fill-color);\n",
              "    box-shadow: none;\n",
              "  }\n",
              "\n",
              "  .colab-df-spinner {\n",
              "    border: 2px solid var(--fill-color);\n",
              "    border-color: transparent;\n",
              "    border-bottom-color: var(--fill-color);\n",
              "    animation:\n",
              "      spin 1s steps(1) infinite;\n",
              "  }\n",
              "\n",
              "  @keyframes spin {\n",
              "    0% {\n",
              "      border-color: transparent;\n",
              "      border-bottom-color: var(--fill-color);\n",
              "      border-left-color: var(--fill-color);\n",
              "    }\n",
              "    20% {\n",
              "      border-color: transparent;\n",
              "      border-left-color: var(--fill-color);\n",
              "      border-top-color: var(--fill-color);\n",
              "    }\n",
              "    30% {\n",
              "      border-color: transparent;\n",
              "      border-left-color: var(--fill-color);\n",
              "      border-top-color: var(--fill-color);\n",
              "      border-right-color: var(--fill-color);\n",
              "    }\n",
              "    40% {\n",
              "      border-color: transparent;\n",
              "      border-right-color: var(--fill-color);\n",
              "      border-top-color: var(--fill-color);\n",
              "    }\n",
              "    60% {\n",
              "      border-color: transparent;\n",
              "      border-right-color: var(--fill-color);\n",
              "    }\n",
              "    80% {\n",
              "      border-color: transparent;\n",
              "      border-right-color: var(--fill-color);\n",
              "      border-bottom-color: var(--fill-color);\n",
              "    }\n",
              "    90% {\n",
              "      border-color: transparent;\n",
              "      border-bottom-color: var(--fill-color);\n",
              "    }\n",
              "  }\n",
              "</style>\n",
              "\n",
              "  <script>\n",
              "    async function quickchart(key) {\n",
              "      const quickchartButtonEl =\n",
              "        document.querySelector('#' + key + ' button');\n",
              "      quickchartButtonEl.disabled = true;  // To prevent multiple clicks.\n",
              "      quickchartButtonEl.classList.add('colab-df-spinner');\n",
              "      try {\n",
              "        const charts = await google.colab.kernel.invokeFunction(\n",
              "            'suggestCharts', [key], {});\n",
              "      } catch (error) {\n",
              "        console.error('Error during call to suggestCharts:', error);\n",
              "      }\n",
              "      quickchartButtonEl.classList.remove('colab-df-spinner');\n",
              "      quickchartButtonEl.classList.add('colab-df-quickchart-complete');\n",
              "    }\n",
              "    (() => {\n",
              "      let quickchartButtonEl =\n",
              "        document.querySelector('#df-e7e343e2-dc82-4f98-a8f6-ace81725268e button');\n",
              "      quickchartButtonEl.style.display =\n",
              "        google.colab.kernel.accessAllowed ? 'block' : 'none';\n",
              "    })();\n",
              "  </script>\n",
              "</div>\n",
              "    </div>\n",
              "  </div>\n"
            ],
            "application/vnd.google.colaboratory.intrinsic+json": {
              "type": "dataframe",
              "variable_name": "train_dataframe",
              "summary": "{\n  \"name\": \"train_dataframe\",\n  \"rows\": 400,\n  \"fields\": [\n    {\n      \"column\": \"artist\",\n      \"properties\": {\n        \"dtype\": \"category\",\n        \"num_unique_values\": 5,\n        \"samples\": [\n          \"Martiros Saryan\",\n          \"John Singer Sargent\",\n          \"Vincent van Gogh\"\n        ],\n        \"semantic_type\": \"\",\n        \"description\": \"\"\n      }\n    },\n    {\n      \"column\": \"new_filename\",\n      \"properties\": {\n        \"dtype\": \"string\",\n        \"num_unique_values\": 400,\n        \"samples\": [\n          \"96538.jpg\",\n          \"17395.jpg\",\n          \"42488.jpg\"\n        ],\n        \"semantic_type\": \"\",\n        \"description\": \"\"\n      }\n    }\n  ]\n}"
            }
          },
          "metadata": {},
          "execution_count": 13
        }
      ],
      "source": [
        "print(train_dataframe.shape)\n",
        "train_dataframe.head()"
      ]
    },
    {
      "cell_type": "code",
      "execution_count": 14,
      "metadata": {
        "cellView": "form",
        "colab": {
          "base_uri": "https://localhost:8080/",
          "height": 430
        },
        "id": "eDjfAX0OjJrz",
        "outputId": "8c3371a4-7154-44f4-9efb-51e34030fab1"
      },
      "outputs": [
        {
          "output_type": "display_data",
          "data": {
            "text/plain": [
              "<Figure size 640x480 with 1 Axes>"
            ],
            "image/png": "[encoded data removed]"
          },
          "metadata": {}
        }
      ],
      "source": [
        "# @title artist\n",
        "\n",
        "from matplotlib import pyplot as plt\n",
        "import seaborn as sns\n",
        "train_dataframe.groupby('artist').size().plot(kind='barh', color=sns.palettes.mpl_palette('Dark2'))\n",
        "plt.gca().spines[['top', 'right',]].set_visible(False)"
      ]
    },
    {
      "cell_type": "code",
      "execution_count": 15,
      "metadata": {
        "colab": {
          "base_uri": "https://localhost:8080/",
          "height": 224
        },
        "id": "BBXCrFLMjCxi",
        "outputId": "99a46bb3-e102-4212-e47c-9f392cd0d250"
      },
      "outputs": [
        {
          "output_type": "stream",
          "name": "stdout",
          "text": [
            "(100, 2)\n"
          ]
        },
        {
          "output_type": "execute_result",
          "data": {
            "text/plain": [
              "          artist new_filename\n",
              "3   Paul Gauguin    76989.jpg\n",
              "4   Paul Gauguin    89439.jpg\n",
              "11  Paul Gauguin    80368.jpg\n",
              "13  Paul Gauguin     4755.jpg\n",
              "14  Paul Gauguin    10752.jpg"
            ],
            "text/html": [
              "\n",
              "  <div id=\"df-06ddf446-2b6d-4e9a-883a-3cac55d17519\" class=\"colab-df-container\">\n",
              "    <div>\n",
              "<style scoped>\n",
              "    .dataframe tbody tr th:only-of-type {\n",
              "        vertical-align: middle;\n",
              "    }\n",
              "\n",
              "    .dataframe tbody tr th {\n",
              "        vertical-align: top;\n",
              "    }\n",
              "\n",
              "    .dataframe thead th {\n",
              "        text-align: right;\n",
              "    }\n",
              "</style>\n",
              "<table border=\"1\" class=\"dataframe\">\n",
              "  <thead>\n",
              "    <tr style=\"text-align: right;\">\n",
              "      <th></th>\n",
              "      <th>artist</th>\n",
              "      <th>new_filename</th>\n",
              "    </tr>\n",
              "  </thead>\n",
              "  <tbody>\n",
              "    <tr>\n",
              "      <th>3</th>\n",
              "      <td>Paul Gauguin</td>\n",
              "      <td>76989.jpg</td>\n",
              "    </tr>\n",
              "    <tr>\n",
              "      <th>4</th>\n",
              "      <td>Paul Gauguin</td>\n",
              "      <td>89439.jpg</td>\n",
              "    </tr>\n",
              "    <tr>\n",
              "      <th>11</th>\n",
              "      <td>Paul Gauguin</td>\n",
              "      <td>80368.jpg</td>\n",
              "    </tr>\n",
              "    <tr>\n",
              "      <th>13</th>\n",
              "      <td>Paul Gauguin</td>\n",
              "      <td>4755.jpg</td>\n",
              "    </tr>\n",
              "    <tr>\n",
              "      <th>14</th>\n",
              "      <td>Paul Gauguin</td>\n",
              "      <td>10752.jpg</td>\n",
              "    </tr>\n",
              "  </tbody>\n",
              "</table>\n",
              "</div>\n",
              "    <div class=\"colab-df-buttons\">\n",
              "\n",
              "  <div class=\"colab-df-container\">\n",
              "    <button class=\"colab-df-convert\" onclick=\"convertToInteractive('df-06ddf446-2b6d-4e9a-883a-3cac55d17519')\"\n",
              "            title=\"Convert this dataframe to an interactive table.\"\n",
              "            style=\"display:none;\">\n",
              "\n",
              "  <svg xmlns=\"http://www.w3.org/2000/svg\" height=\"24px\" viewBox=\"0 -960 960 960\">\n",
              "    <path d=\"M120-120v-720h720v720H120Zm60-500h600v-160H180v160Zm220 220h160v-160H400v160Zm0 220h160v-160H400v160ZM180-400h160v-160H180v160Zm440 0h160v-160H620v160ZM180-180h160v-160H180v160Zm440 0h160v-160H620v160Z\"/>\n",
              "  </svg>\n",
              "    </button>\n",
              "\n",
              "  <style>\n",
              "    .colab-df-container {\n",
              "      display:flex;\n",
              "      gap: 12px;\n",
              "    }\n",
              "\n",
              "    .colab-df-convert {\n",
              "      background-color: #E8F0FE;\n",
              "      border: none;\n",
              "      border-radius: 50%;\n",
              "      cursor: pointer;\n",
              "      display: none;\n",
              "      fill: #1967D2;\n",
              "      height: 32px;\n",
              "      padding: 0 0 0 0;\n",
              "      width: 32px;\n",
              "    }\n",
              "\n",
              "    .colab-df-convert:hover {\n",
              "      background-color: #E2EBFA;\n",
              "      box-shadow: 0px 1px 2px rgba(60, 64, 67, 0.3), 0px 1px 3px 1px rgba(60, 64, 67, 0.15);\n",
              "      fill: #174EA6;\n",
              "    }\n",
              "\n",
              "    .colab-df-buttons div {\n",
              "      margin-bottom: 4px;\n",
              "    }\n",
              "\n",
              "    [theme=dark] .colab-df-convert {\n",
              "      background-color: #3B4455;\n",
              "      fill: #D2E3FC;\n",
              "    }\n",
              "\n",
              "    [theme=dark] .colab-df-convert:hover {\n",
              "      background-color: #434B5C;\n",
              "      box-shadow: 0px 1px 3px 1px rgba(0, 0, 0, 0.15);\n",
              "      filter: drop-shadow(0px 1px 2px rgba(0, 0, 0, 0.3));\n",
              "      fill: #FFFFFF;\n",
              "    }\n",
              "  </style>\n",
              "\n",
              "    <script>\n",
              "      const buttonEl =\n",
              "        document.querySelector('#df-06ddf446-2b6d-4e9a-883a-3cac55d17519 button.colab-df-convert');\n",
              "      buttonEl.style.display =\n",
              "        google.colab.kernel.accessAllowed ? 'block' : 'none';\n",
              "\n",
              "      async function convertToInteractive(key) {\n",
              "        const element = document.querySelector('#df-06ddf446-2b6d-4e9a-883a-3cac55d17519');\n",
              "        const dataTable =\n",
              "          await google.colab.kernel.invokeFunction('convertToInteractive',\n",
              "                                                    [key], {});\n",
              "        if (!dataTable) return;\n",
              "\n",
              "        const docLinkHtml = 'Like what you see? Visit the ' +\n",
              "          '<a target=\"_blank\" href=https://colab.research.google.com/notebooks/data_table.ipynb>data table notebook</a>'\n",
              "          + ' to learn more about interactive tables.';\n",
              "        element.innerHTML = '';\n",
              "        dataTable['output_type'] = 'display_data';\n",
              "        await google.colab.output.renderOutput(dataTable, element);\n",
              "        const docLink = document.createElement('div');\n",
              "        docLink.innerHTML = docLinkHtml;\n",
              "        element.appendChild(docLink);\n",
              "      }\n",
              "    </script>\n",
              "  </div>\n",
              "\n",
              "\n",
              "<div id=\"df-e05b67fd-0aca-4652-9fea-7c73b2bfdece\">\n",
              "  <button class=\"colab-df-quickchart\" onclick=\"quickchart('df-e05b67fd-0aca-4652-9fea-7c73b2bfdece')\"\n",
              "            title=\"Suggest charts\"\n",
              "            style=\"display:none;\">\n",
              "\n",
              "<svg xmlns=\"http://www.w3.org/2000/svg\" height=\"24px\"viewBox=\"0 0 24 24\"\n",
              "     width=\"24px\">\n",
              "    <g>\n",
              "        <path d=\"M19 3H5c-1.1 0-2 .9-2 2v14c0 1.1.9 2 2 2h14c1.1 0 2-.9 2-2V5c0-1.1-.9-2-2-2zM9 17H7v-7h2v7zm4 0h-2V7h2v10zm4 0h-2v-4h2v4z\"/>\n",
              "    </g>\n",
              "</svg>\n",
              "  </button>\n",
              "\n",
              "<style>\n",
              "  .colab-df-quickchart {\n",
              "      --bg-color: #E8F0FE;\n",
              "      --fill-color: #1967D2;\n",
              "      --hover-bg-color: #E2EBFA;\n",
              "      --hover-fill-color: #174EA6;\n",
              "      --disabled-fill-color: #AAA;\n",
              "      --disabled-bg-color: #DDD;\n",
              "  }\n",
              "\n",
              "  [theme=dark] .colab-df-quickchart {\n",
              "      --bg-color: #3B4455;\n",
              "      --fill-color: #D2E3FC;\n",
              "      --hover-bg-color: #434B5C;\n",
              "      --hover-fill-color: #FFFFFF;\n",
              "      --disabled-bg-color: #3B4455;\n",
              "      --disabled-fill-color: #666;\n",
              "  }\n",
              "\n",
              "  .colab-df-quickchart {\n",
              "    background-color: var(--bg-color);\n",
              "    border: none;\n",
              "    border-radius: 50%;\n",
              "    cursor: pointer;\n",
              "    display: none;\n",
              "    fill: var(--fill-color);\n",
              "    height: 32px;\n",
              "    padding: 0;\n",
              "    width: 32px;\n",
              "  }\n",
              "\n",
              "  .colab-df-quickchart:hover {\n",
              "    background-color: var(--hover-bg-color);\n",
              "    box-shadow: 0 1px 2px rgba(60, 64, 67, 0.3), 0 1px 3px 1px rgba(60, 64, 67, 0.15);\n",
              "    fill: var(--button-hover-fill-color);\n",
              "  }\n",
              "\n",
              "  .colab-df-quickchart-complete:disabled,\n",
              "  .colab-df-quickchart-complete:disabled:hover {\n",
              "    background-color: var(--disabled-bg-color);\n",
              "    fill: var(--disabled-fill-color);\n",
              "    box-shadow: none;\n",
              "  }\n",
              "\n",
              "  .colab-df-spinner {\n",
              "    border: 2px solid var(--fill-color);\n",
              "    border-color: transparent;\n",
              "    border-bottom-color: var(--fill-color);\n",
              "    animation:\n",
              "      spin 1s steps(1) infinite;\n",
              "  }\n",
              "\n",
              "  @keyframes spin {\n",
              "    0% {\n",
              "      border-color: transparent;\n",
              "      border-bottom-color: var(--fill-color);\n",
              "      border-left-color: var(--fill-color);\n",
              "    }\n",
              "    20% {\n",
              "      border-color: transparent;\n",
              "      border-left-color: var(--fill-color);\n",
              "      border-top-color: var(--fill-color);\n",
              "    }\n",
              "    30% {\n",
              "      border-color: transparent;\n",
              "      border-left-color: var(--fill-color);\n",
              "      border-top-color: var(--fill-color);\n",
              "      border-right-color: var(--fill-color);\n",
              "    }\n",
              "    40% {\n",
              "      border-color: transparent;\n",
              "      border-right-color: var(--fill-color);\n",
              "      border-top-color: var(--fill-color);\n",
              "    }\n",
              "    60% {\n",
              "      border-color: transparent;\n",
              "      border-right-color: var(--fill-color);\n",
              "    }\n",
              "    80% {\n",
              "      border-color: transparent;\n",
              "      border-right-color: var(--fill-color);\n",
              "      border-bottom-color: var(--fill-color);\n",
              "    }\n",
              "    90% {\n",
              "      border-color: transparent;\n",
              "      border-bottom-color: var(--fill-color);\n",
              "    }\n",
              "  }\n",
              "</style>\n",
              "\n",
              "  <script>\n",
              "    async function quickchart(key) {\n",
              "      const quickchartButtonEl =\n",
              "        document.querySelector('#' + key + ' button');\n",
              "      quickchartButtonEl.disabled = true;  // To prevent multiple clicks.\n",
              "      quickchartButtonEl.classList.add('colab-df-spinner');\n",
              "      try {\n",
              "        const charts = await google.colab.kernel.invokeFunction(\n",
              "            'suggestCharts', [key], {});\n",
              "      } catch (error) {\n",
              "        console.error('Error during call to suggestCharts:', error);\n",
              "      }\n",
              "      quickchartButtonEl.classList.remove('colab-df-spinner');\n",
              "      quickchartButtonEl.classList.add('colab-df-quickchart-complete');\n",
              "    }\n",
              "    (() => {\n",
              "      let quickchartButtonEl =\n",
              "        document.querySelector('#df-e05b67fd-0aca-4652-9fea-7c73b2bfdece button');\n",
              "      quickchartButtonEl.style.display =\n",
              "        google.colab.kernel.accessAllowed ? 'block' : 'none';\n",
              "    })();\n",
              "  </script>\n",
              "</div>\n",
              "    </div>\n",
              "  </div>\n"
            ],
            "application/vnd.google.colaboratory.intrinsic+json": {
              "type": "dataframe",
              "variable_name": "test_dataframe",
              "summary": "{\n  \"name\": \"test_dataframe\",\n  \"rows\": 100,\n  \"fields\": [\n    {\n      \"column\": \"artist\",\n      \"properties\": {\n        \"dtype\": \"category\",\n        \"num_unique_values\": 5,\n        \"samples\": [\n          \"Martiros Saryan\",\n          \"John Singer Sargent\",\n          \"Vincent van Gogh\"\n        ],\n        \"semantic_type\": \"\",\n        \"description\": \"\"\n      }\n    },\n    {\n      \"column\": \"new_filename\",\n      \"properties\": {\n        \"dtype\": \"string\",\n        \"num_unique_values\": 100,\n        \"samples\": [\n          \"65670.jpg\",\n          \"38645.jpg\",\n          \"34867.jpg\"\n        ],\n        \"semantic_type\": \"\",\n        \"description\": \"\"\n      }\n    }\n  ]\n}"
            }
          },
          "metadata": {},
          "execution_count": 15
        }
      ],
      "source": [
        "print(test_dataframe.shape)\n",
        "test_dataframe.head()"
      ]
    },
    {
      "cell_type": "code",
      "execution_count": 16,
      "metadata": {
        "cellView": "form",
        "colab": {
          "base_uri": "https://localhost:8080/",
          "height": 430
        },
        "id": "rDp_OfWzjRHD",
        "outputId": "0dd88f49-2402-426c-c77e-0bb24d81bf31"
      },
      "outputs": [
        {
          "output_type": "display_data",
          "data": {
            "text/plain": [
              "<Figure size 640x480 with 1 Axes>"
            ],
            "image/png": "[encoded data removed]"
          },
          "metadata": {}
        }
      ],
      "source": [
        "# @title artist\n",
        "\n",
        "from matplotlib import pyplot as plt\n",
        "import seaborn as sns\n",
        "test_dataframe.groupby('artist').size().plot(kind='barh', color=sns.palettes.mpl_palette('Dark2'))\n",
        "plt.gca().spines[['top', 'right',]].set_visible(False)"
      ]
    },
    {
      "cell_type": "markdown",
      "metadata": {
        "id": "-vbgNJCU17Ye"
      },
      "source": [
        "# TRAIN THE MODEL"
      ]
    },
    {
      "cell_type": "code",
      "execution_count": 48,
      "metadata": {
        "colab": {
          "base_uri": "https://localhost:8080/"
        },
        "id": "b9adUw4I15yC",
        "outputId": "4ddc24e5-127a-4eca-a54c-3874d5f884c9"
      },
      "outputs": [
        {
          "output_type": "stream",
          "name": "stdout",
          "text": [
            "defined setup_generators()\n"
          ]
        }
      ],
      "source": [
        "def setup_generators(\n",
        "    val_split, train_dataframe, train_dir,\n",
        "    img_size, batch_size, my_seed, list_of_classes,\n",
        "    test_dataframe, test_dir, test_batch_size\n",
        "):\n",
        "    print(\"-\"*20)\n",
        "    if not preprocess_input:\n",
        "          raise Exception(\"please do import call 'from tensorflow.keras.applications.resnet50 import preprocess_input'\")\n",
        "\n",
        "    # setup resnet50 preprocessing\n",
        "    data_gen = ImageDataGenerator(\n",
        "        preprocessing_function=preprocess_input,\n",
        "        validation_split=val_split)\n",
        "\n",
        "    print(len(train_dataframe), \"images in\", train_dir, \"and validation_split =\", val_split)\n",
        "    print(\"\\ntraining set ImageDataGenerator\")\n",
        "    train_gen = data_gen.flow_from_dataframe(\n",
        "        dataframe=train_dataframe.reset_index(), # call reset_index() so keras can start with index 0\n",
        "        directory=train_dir,\n",
        "        x_col='new_filename',\n",
        "        y_col='artist',\n",
        "        has_ext=True,\n",
        "        target_size=(img_size, img_size),\n",
        "        subset=\"training\",\n",
        "        batch_size=batch_size,\n",
        "        seed=my_seed,\n",
        "        shuffle=True,\n",
        "        class_mode='categorical',\n",
        "        classes=list_of_classes\n",
        "    )\n",
        "\n",
        "    print(\"\\nvalidation set ImageDataGenerator\")\n",
        "    valid_gen = data_gen.flow_from_dataframe(\n",
        "        dataframe=train_dataframe.reset_index(), # call reset_index() so keras can start with index 0\n",
        "        directory=train_dir,\n",
        "        x_col='new_filename',\n",
        "        y_col='artist',\n",
        "        has_ext=True,\n",
        "        subset=\"validation\",\n",
        "        batch_size=batch_size,\n",
        "        seed=my_seed,\n",
        "        shuffle=True,\n",
        "        target_size=(img_size,img_size),\n",
        "        class_mode='categorical',\n",
        "        classes=list_of_classes\n",
        "    )\n",
        "\n",
        "    test_data_gen = ImageDataGenerator(preprocessing_function=preprocess_input)\n",
        "\n",
        "    print(\"\\ntest set ImageDataGenerator\")\n",
        "    test_gen = test_data_gen.flow_from_dataframe(\n",
        "        dataframe=test_dataframe.reset_index(), # call reset_index() so keras can start with index 0\n",
        "        directory=test_dir,\n",
        "        x_col='new_filename',\n",
        "        y_col=None,\n",
        "        has_ext=True,\n",
        "        batch_size=test_batch_size,\n",
        "        seed=my_seed,\n",
        "        shuffle=False, # dont shuffle test directory\n",
        "        class_mode=None,\n",
        "        target_size=(img_size,img_size)\n",
        "    )\n",
        "\n",
        "    return (train_gen, valid_gen, test_gen)\n",
        "\n",
        "print(\"defined setup_generators()\")"
      ]
    },
    {
      "cell_type": "code",
      "execution_count": 64,
      "metadata": {
        "colab": {
          "base_uri": "https://localhost:8080/"
        },
        "id": "gfxmhiqkMIw1",
        "outputId": "92cc14d6-f3d1-4622-8edc-789e7f9f515c"
      },
      "outputs": [
        {
          "output_type": "stream",
          "name": "stdout",
          "text": [
            "--------------------\n",
            "400 images in /content/drive/My Drive/PROJECTE DEEP LEARNING/TOP5_ARTISTS_WITH_100_PICTURES/TRAIN and validation_split = 0.3\n",
            "\n",
            "training set ImageDataGenerator\n",
            "Found 280 validated image filenames belonging to 5 classes.\n",
            "\n",
            "validation set ImageDataGenerator\n",
            "Found 120 validated image filenames belonging to 5 classes.\n",
            "\n",
            "test set ImageDataGenerator\n",
            "Found 100 validated image filenames.\n"
          ]
        }
      ],
      "source": [
        "folder = '/content/drive/My Drive/PROJECTE DEEP LEARNING/TOP5_ARTISTS_WITH_100_PICTURES'\n",
        "train_dir = folder +\"/TRAIN\"\n",
        "test_dir = folder +\"/TEST\"\n",
        "train_gens, valid_gens, test_gen = setup_generators(\n",
        "        VAL_SPLIT, train_dataframe, train_dir,\n",
        "      IMAGE_SIZE, BATCH_SIZE, MY_SEED, list(set(train_dataframe[\"artist\"].tolist())),\n",
        "      test_dataframe, test_dir, TEST_BATCH_SIZE\n",
        "    )\n",
        "\n",
        "\n",
        "\n"
      ]
    },
    {
      "cell_type": "code",
      "execution_count": 65,
      "metadata": {
        "id": "Bzb0I67YvD0s"
      },
      "outputs": [],
      "source": [
        "# the tutorial had 10 epochs...\n",
        "MAX_EPOCHS = 7\n",
        "DIR_EPOCHS = 1 # fit each train_dir at least this many times before overfitting"
      ]
    },
    {
      "cell_type": "code",
      "execution_count": 66,
      "metadata": {
        "colab": {
          "base_uri": "https://localhost:8080/"
        },
        "id": "BpkF1SSdvG7d",
        "outputId": "6d636a27-3a51-4751-b5e9-eabb4cfed190"
      },
      "outputs": [
        {
          "output_type": "stream",
          "name": "stdout",
          "text": [
            "STEP_SIZE_TRAIN 7\n",
            "STEP_SIZE_VALID 3\n"
          ]
        },
        {
          "output_type": "stream",
          "name": "stderr",
          "text": [
            "<ipython-input-66-973ec152ec2c>:12: UserWarning: `Model.fit_generator` is deprecated and will be removed in a future version. Please use `Model.fit`, which supports generators.\n",
            "  model.fit_generator(generator=train_gens,\n"
          ]
        },
        {
          "output_type": "stream",
          "name": "stdout",
          "text": [
            "7/7 [==============================] - 5s 628ms/step - loss: 39.4198 - accuracy: 0.4750 - val_loss: 169.3554 - val_accuracy: 0.2583\n",
            "STEP_SIZE_TRAIN 7\n",
            "STEP_SIZE_VALID 3\n",
            "7/7 [==============================] - 3s 473ms/step - loss: 6.4462 - accuracy: 0.8929 - val_loss: 198.5746 - val_accuracy: 0.1833\n",
            "STEP_SIZE_TRAIN 7\n",
            "STEP_SIZE_VALID 3\n",
            "7/7 [==============================] - 3s 387ms/step - loss: 4.6857 - accuracy: 0.9286 - val_loss: 212.9237 - val_accuracy: 0.1833\n",
            "STEP_SIZE_TRAIN 7\n",
            "STEP_SIZE_VALID 3\n",
            "7/7 [==============================] - 3s 391ms/step - loss: 2.6472 - accuracy: 0.9536 - val_loss: 236.8928 - val_accuracy: 0.2500\n",
            "STEP_SIZE_TRAIN 7\n",
            "STEP_SIZE_VALID 3\n",
            "7/7 [==============================] - 3s 461ms/step - loss: 1.8290 - accuracy: 0.9786 - val_loss: 228.8328 - val_accuracy: 0.2667\n",
            "STEP_SIZE_TRAIN 7\n",
            "STEP_SIZE_VALID 3\n",
            "7/7 [==============================] - 3s 399ms/step - loss: 1.0636 - accuracy: 0.9786 - val_loss: 228.1093 - val_accuracy: 0.3000\n",
            "STEP_SIZE_TRAIN 7\n",
            "STEP_SIZE_VALID 3\n",
            "7/7 [==============================] - 3s 405ms/step - loss: 0.0362 - accuracy: 0.9929 - val_loss: 235.1038 - val_accuracy: 0.2750\n"
          ]
        }
      ],
      "source": [
        "histories = []\n",
        "\n",
        "e=0\n",
        "while ( e < MAX_EPOCHS):\n",
        "    # train_gen.n = number of images for training\n",
        "    STEP_SIZE_TRAIN = train_gens.n//train_gens.batch_size\n",
        "    # train_gen.n = number of images for validation\n",
        "    STEP_SIZE_VALID = valid_gens.n//valid_gens.batch_size\n",
        "    print(\"STEP_SIZE_TRAIN\",STEP_SIZE_TRAIN)\n",
        "    print(\"STEP_SIZE_VALID\",STEP_SIZE_VALID)\n",
        "    histories.append(\n",
        "        model.fit_generator(generator=train_gens,\n",
        "                            steps_per_epoch=STEP_SIZE_TRAIN,\n",
        "                            validation_data=valid_gens,\n",
        "                            validation_steps=STEP_SIZE_VALID,\n",
        "                          epochs=DIR_EPOCHS)\n",
        "      )\n",
        "    e+=1"
      ]
    },
    {
      "cell_type": "markdown",
      "metadata": {
        "id": "Eh7G0crcvMPp"
      },
      "source": [
        "# EVALUATE THE MODEL"
      ]
    },
    {
      "cell_type": "code",
      "execution_count": 21,
      "metadata": {
        "colab": {
          "base_uri": "https://localhost:8080/"
        },
        "id": "951u4ED5vOvO",
        "outputId": "45b7d6ae-3d36-4030-d920-00a50de8c99e"
      },
      "outputs": [
        {
          "output_type": "execute_result",
          "data": {
            "text/plain": [
              "[<keras.src.callbacks.History at 0x7a64b9915150>,\n",
              " <keras.src.callbacks.History at 0x7a64b5a8fcd0>,\n",
              " <keras.src.callbacks.History at 0x7a64b084aa10>,\n",
              " <keras.src.callbacks.History at 0x7a64b0867cd0>,\n",
              " <keras.src.callbacks.History at 0x7a64b0867d30>,\n",
              " <keras.src.callbacks.History at 0x7a64b0886d70>,\n",
              " <keras.src.callbacks.History at 0x7a64b06a9630>]"
            ]
          },
          "metadata": {},
          "execution_count": 21
        },
        {
          "output_type": "execute_result",
          "data": {
            "text/plain": [
              "[<keras.src.callbacks.History at 0x7a64b9915150>,\n",
              " <keras.src.callbacks.History at 0x7a64b5a8fcd0>,\n",
              " <keras.src.callbacks.History at 0x7a64b084aa10>,\n",
              " <keras.src.callbacks.History at 0x7a64b0867cd0>,\n",
              " <keras.src.callbacks.History at 0x7a64b0867d30>,\n",
              " <keras.src.callbacks.History at 0x7a64b0886d70>,\n",
              " <keras.src.callbacks.History at 0x7a64b06a9630>]"
            ]
          },
          "metadata": {},
          "execution_count": 22
        }
      ],
      "source": [
        "histories"
      ]
    },
    {
      "cell_type": "code",
      "execution_count": null,
      "metadata": {
        "id": "4l0DIDRzvSXz"
      },
      "outputs": [],
      "source": [
        "accuracies = []\n",
        "val_accuracies = []\n",
        "losses = []\n",
        "val_losses = []\n",
        "for hist in histories:\n",
        "    if hist:\n",
        "        accuracies += hist.history[\"accuracy\"]\n",
        "        val_accuracies += hist.history['val_accuracy']\n",
        "        losses += hist.history['loss']\n",
        "        val_losses += hist.history['val_loss']"
      ]
    },
    {
      "cell_type": "code",
      "execution_count": null,
      "metadata": {
        "colab": {
          "base_uri": "https://localhost:8080/",
          "height": 927
        },
        "id": "E1kby48ZxOlH",
        "outputId": "1fc93018-257d-4070-f1e5-1a2ca475b0ca"
      },
      "outputs": [
        {
          "data": {
            "image/png": "[encoded data removed]",
            "text/plain": [
              "<Figure size 640x480 with 1 Axes>"
            ]
          },
          "metadata": {},
          "output_type": "display_data"
        },
        {
          "data": {
            "image/png": "[encoded data removed]",
            "text/plain": [
              "<Figure size 640x480 with 1 Axes>"
            ]
          },
          "metadata": {},
          "output_type": "display_data"
        }
      ],
      "source": [
        "# Plot training & validation accuracy values\n",
        "plt.plot(accuracies)\n",
        "plt.plot(val_accuracies)\n",
        "plt.title('Model accuracy')\n",
        "plt.ylabel('Accuracy')\n",
        "plt.xlabel('Epoch')\n",
        "plt.legend(['Train', 'Validation'], loc='upper left')\n",
        "plt.show()\n",
        "\n",
        "# Plot training & validation loss values\n",
        "plt.plot(losses)\n",
        "plt.plot(val_losses)\n",
        "plt.title('Model loss')\n",
        "plt.ylabel('Loss')\n",
        "plt.xlabel('Epoch')\n",
        "plt.legend(['Train', 'Validation'], loc='upper left')\n",
        "plt.show()"
      ]
    },
    {
      "cell_type": "code",
      "execution_count": null,
      "metadata": {
        "colab": {
          "base_uri": "https://localhost:8080/"
        },
        "id": "xjaIRjJ-7OiW",
        "outputId": "5c4967e7-f641-48fe-dbf2-a40016261f73"
      },
      "outputs": [
        {
          "name": "stdout",
          "output_type": "stream",
          "text": [
            "10/10 [==============================] - 118s 11s/step\n",
            "Artista: Paul Gauguin, Predicciones correctas: 0, Predicciones incorrectas: 20\n",
            "Artista: Vincent van Gogh, Predicciones correctas: 0, Predicciones incorrectas: 20\n",
            "Artista: Martiros Saryan, Predicciones correctas: 19, Predicciones incorrectas: 1\n",
            "Artista: Marc Chagall, Predicciones correctas: 19, Predicciones incorrectas: 1\n",
            "Artista: John Singer Sargent, Predicciones correctas: 0, Predicciones incorrectas: 20\n"
          ]
        }
      ],
      "source": [
        "predictions = model.predict(test_gen)\n",
        "\n",
        "# Obtener las etiquetas reales del DataFrame de prueba\n",
        "true_labels = test_dataframe['artist'].values\n",
        "\n",
        "# Crear un diccionario para contar las predicciones correctas e incorrectas para cada clase\n",
        "correct_predictions = {artist: 0 for artist in set(test_dataframe['artist'])}\n",
        "incorrect_predictions = {artist: 0 for artist in set(test_dataframe['artist'])}\n",
        "\n",
        "# Iterar sobre las predicciones y las etiquetas reales\n",
        "for pred_label, true_label in zip(predicted_labels, true_labels):\n",
        "    # Obtener el nombre del artista predicho\n",
        "    predicted_artist = list(data_por_artista.keys())[pred_label]\n",
        "\n",
        "    # Obtener el nombre del artista real\n",
        "    true_artist = true_label\n",
        "\n",
        "    # Verificar si la predicción fue correcta\n",
        "    if predicted_artist == true_artist:\n",
        "        correct_predictions[true_artist] += 1\n",
        "    else:\n",
        "        incorrect_predictions[true_artist] += 1\n",
        "\n",
        "# Imprimir el número de predicciones correctas e incorrectas para cada artista\n",
        "for artist, count_correct in correct_predictions.items():\n",
        "    count_incorrect = incorrect_predictions[artist]\n",
        "    print(f'Artista: {artist}, Predicciones correctas: {count_correct}, Predicciones incorrectas: {count_incorrect}')\n",
        "\n"
      ]
    },
    {
      "cell_type": "code",
      "execution_count": null,
      "metadata": {
        "colab": {
          "base_uri": "https://localhost:8080/",
          "height": 564
        },
        "id": "8gVrxmasFPUM",
        "outputId": "6ba5f9f1-8ded-4f85-8f03-a0cd5f855dee"
      },
      "outputs": [
        {
          "data": {
            "image/png": "[encoded data removed]",
            "text/plain": [
              "<Figure size 1000x600 with 1 Axes>"
            ]
          },
          "metadata": {},
          "output_type": "display_data"
        }
      ],
      "source": [
        "import matplotlib.pyplot as plt\n",
        "\n",
        "# Obtaining artist names and counts of correct and incorrect predictions\n",
        "artists = list(data_por_artista.keys())\n",
        "correct_counts = [correct_predictions[artist] for artist in artists]\n",
        "incorrect_counts = [incorrect_predictions[artist] for artist in artists]\n",
        "\n",
        "# Configuring the plot\n",
        "plt.figure(figsize=(10, 6))\n",
        "plt.barh(artists, correct_counts, color='green', label='Correct Predictions')\n",
        "plt.barh(artists, incorrect_counts, left=correct_counts, color='red', label='Incorrect Predictions')\n",
        "\n",
        "# Adding labels and title\n",
        "plt.xlabel('Number of Predictions')\n",
        "plt.ylabel('Artist')\n",
        "plt.title('Correct and Incorrect Predictions by Artist')\n",
        "plt.legend()\n",
        "\n",
        "# Displaying the plot\n",
        "plt.show()\n",
        "\n"
      ]
    }
  ],
  "metadata": {
    "accelerator": "GPU",
    "colab": {
      "gpuType": "T4",
      "provenance": []
    },
    "kernelspec": {
      "display_name": "Python 3",
      "name": "python3"
    },
    "language_info": {
      "name": "python"
    }
  },
  "nbformat": 4,
  "nbformat_minor": 0
}
